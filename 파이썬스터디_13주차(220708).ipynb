{
  "nbformat": 4,
  "nbformat_minor": 0,
  "metadata": {
    "colab": {
      "name": "파이썬스터디_13주차(220708).ipynb",
      "provenance": [],
      "authorship_tag": "ABX9TyOAKq1jDTsCi1ZZKtCh8lWC",
      "include_colab_link": true
    },
    "kernelspec": {
      "name": "python3",
      "display_name": "Python 3"
    },
    "language_info": {
      "name": "python"
    }
  },
  "cells": [
    {
      "cell_type": "markdown",
      "metadata": {
        "id": "view-in-github",
        "colab_type": "text"
      },
      "source": [
        "<a href=\"https://colab.research.google.com/github/yk-Jeong/KNOU/blob/main/%ED%8C%8C%EC%9D%B4%EC%8D%AC%EC%8A%A4%ED%84%B0%EB%94%94_13%EC%A3%BC%EC%B0%A8(220708).ipynb\" target=\"_parent\"><img src=\"https://colab.research.google.com/assets/colab-badge.svg\" alt=\"Open In Colab\"/></a>"
      ]
    },
    {
      "cell_type": "markdown",
      "source": [
        "<pre><center>*\n",
        "***\n",
        "*****\n",
        "***\n",
        "*\n",
        "</pre></center>\n",
        "\n",
        "...를 찍는 방법에 대해서 계속 이야기해보았다. (모임장님과 나 외에는 아무도 없는 쓸쓸한 스터디를 하면서...)"
      ],
      "metadata": {
        "id": "J3XII6cTvzEx"
      }
    },
    {
      "cell_type": "code",
      "source": [
        "#가운뎃줄을 따로 빼고, 나머지 앞뒤가 대칭이므로 각각 for문을 적용하면 될 것 같다. "
      ],
      "metadata": {
        "id": "-VtjC8xbwJWe"
      },
      "execution_count": null,
      "outputs": []
    },
    {
      "cell_type": "code",
      "source": [
        "n = int(input(\"홀수인 자연수를 입력하세요. \"))"
      ],
      "metadata": {
        "id": "twyy4RLHz5zi",
        "colab": {
          "base_uri": "https://localhost:8080/"
        },
        "outputId": "c62046f1-ca47-4a04-8191-36af974bd975"
      },
      "execution_count": 10,
      "outputs": [
        {
          "name": "stdout",
          "output_type": "stream",
          "text": [
            "홀수인 자연수를 입력하세요. 5\n"
          ]
        }
      ]
    },
    {
      "cell_type": "markdown",
      "source": [
        ""
      ],
      "metadata": {
        "id": "HPAjtpd3xrhZ"
      }
    },
    {
      "cell_type": "code",
      "source": [
        "for i in range(1, n+1):\n",
        "  print(\"*\"*i)"
      ],
      "metadata": {
        "colab": {
          "base_uri": "https://localhost:8080/"
        },
        "id": "q_mHRAcbwZ5K",
        "outputId": "bc914258-7d89-46c8-957d-f8c96fd89c14"
      },
      "execution_count": 12,
      "outputs": [
        {
          "output_type": "stream",
          "name": "stdout",
          "text": [
            "*\n",
            "**\n",
            "***\n",
            "****\n",
            "*****\n"
          ]
        }
      ]
    },
    {
      "cell_type": "markdown",
      "source": [
        "- break, continue"
      ],
      "metadata": {
        "id": "e3jDC0Fx2m0w"
      }
    },
    {
      "cell_type": "markdown",
      "source": [
        "무슨 수를 입력하더라도 15가 출력되는 고장난 계산기를 만들었다."
      ],
      "metadata": {
        "id": "OyanyS424Mk3"
      }
    },
    {
      "cell_type": "code",
      "source": [
        "value = int(input(\"정수를 입력하세요: \"))\n",
        "sum_value = 0\n",
        "for i in range(0, value + 1):\n",
        "  sum_value += i\n",
        "  if i == 5:\n",
        "    break\n",
        "\n",
        "print(\"1부터 %d까지의 합은 %d입니다.\" %(value, sum_value))"
      ],
      "metadata": {
        "colab": {
          "base_uri": "https://localhost:8080/"
        },
        "id": "Dkortehrx25B",
        "outputId": "188d4df4-dee1-41c4-e2a1-e9174a26b18c"
      },
      "execution_count": 15,
      "outputs": [
        {
          "output_type": "stream",
          "name": "stdout",
          "text": [
            "정수를 입력하세요: 10\n",
            "1부터 10까지의 합은 15입니다.\n"
          ]
        }
      ]
    },
    {
      "cell_type": "code",
      "source": [
        "print(1 + 2+ 3 + 4 + 5 )"
      ],
      "metadata": {
        "colab": {
          "base_uri": "https://localhost:8080/"
        },
        "id": "D2uRGJ7-2-Fw",
        "outputId": "b13c112a-bef9-4f15-b947-d125c04468ba"
      },
      "execution_count": 14,
      "outputs": [
        {
          "output_type": "stream",
          "name": "stdout",
          "text": [
            "15\n"
          ]
        }
      ]
    },
    {
      "cell_type": "code",
      "source": [
        ""
      ],
      "metadata": {
        "id": "Uyl1ZLKc4Jj1"
      },
      "execution_count": null,
      "outputs": []
    }
  ]
}