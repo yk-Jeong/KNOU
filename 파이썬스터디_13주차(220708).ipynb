{
  "nbformat": 4,
  "nbformat_minor": 0,
  "metadata": {
    "colab": {
      "name": "파이썬스터디_13주차(220708).ipynb",
      "provenance": [],
      "collapsed_sections": [],
      "authorship_tag": "ABX9TyMT9dAnkZgxQg5fmkZCm3Yw",
      "include_colab_link": true
    },
    "kernelspec": {
      "name": "python3",
      "display_name": "Python 3"
    },
    "language_info": {
      "name": "python"
    }
  },
  "cells": [
    {
      "cell_type": "markdown",
      "metadata": {
        "id": "view-in-github",
        "colab_type": "text"
      },
      "source": [
        "<a href=\"https://colab.research.google.com/github/yk-Jeong/KNOU/blob/main/%ED%8C%8C%EC%9D%B4%EC%8D%AC%EC%8A%A4%ED%84%B0%EB%94%94_13%EC%A3%BC%EC%B0%A8(220708).ipynb\" target=\"_parent\"><img src=\"https://colab.research.google.com/assets/colab-badge.svg\" alt=\"Open In Colab\"/></a>"
      ]
    },
    {
      "cell_type": "markdown",
      "source": [
        "<pre><center>*\n",
        "***\n",
        "*****\n",
        "***\n",
        "*\n",
        "</pre></center>\n",
        "\n",
        "...를 찍는 방법에 대해서 계속 이야기해보았다. (모임장님과 나 외에는 아무도 없는 쓸쓸한 스터디를 하면서...)"
      ],
      "metadata": {
        "id": "J3XII6cTvzEx"
      }
    },
    {
      "cell_type": "code",
      "source": [
        "#가운뎃줄을 따로 빼고, 나머지 앞뒤가 대칭이므로 각각 for문을 적용하면 될 것 같다. "
      ],
      "metadata": {
        "id": "-VtjC8xbwJWe"
      },
      "execution_count": null,
      "outputs": []
    },
    {
      "cell_type": "code",
      "source": [
        "n = int(input(\"홀수인 자연수를 입력하세요. \"))"
      ],
      "metadata": {
        "id": "twyy4RLHz5zi",
        "colab": {
          "base_uri": "https://localhost:8080/"
        },
        "outputId": "6812de2a-c7b6-429d-9041-9922554ed8c6"
      },
      "execution_count": 21,
      "outputs": [
        {
          "name": "stdout",
          "output_type": "stream",
          "text": [
            "홀수인 자연수를 입력하세요. 5\n"
          ]
        }
      ]
    },
    {
      "cell_type": "code",
      "source": [
        "for i in range(1, n+1):\n",
        "  print(\" \"*(5-i) + \"*\" * i)"
      ],
      "metadata": {
        "colab": {
          "base_uri": "https://localhost:8080/"
        },
        "id": "hV1BUwHE55ZG",
        "outputId": "d825eb8e-41f1-4b32-c724-166d809edd0b"
      },
      "execution_count": 22,
      "outputs": [
        {
          "output_type": "stream",
          "name": "stdout",
          "text": [
            "    *\n",
            "   **\n",
            "  ***\n",
            " ****\n",
            "*****\n"
          ]
        }
      ]
    },
    {
      "cell_type": "code",
      "source": [
        "for i in range(1, n+1):\n",
        "  print(\"*\"*i)"
      ],
      "metadata": {
        "colab": {
          "base_uri": "https://localhost:8080/"
        },
        "id": "q_mHRAcbwZ5K",
        "outputId": "bc914258-7d89-46c8-957d-f8c96fd89c14"
      },
      "execution_count": 12,
      "outputs": [
        {
          "output_type": "stream",
          "name": "stdout",
          "text": [
            "*\n",
            "**\n",
            "***\n",
            "****\n",
            "*****\n"
          ]
        }
      ]
    },
    {
      "cell_type": "markdown",
      "source": [
        "- break, continue"
      ],
      "metadata": {
        "id": "e3jDC0Fx2m0w"
      }
    },
    {
      "cell_type": "markdown",
      "source": [
        "무슨 수를 입력하더라도 15가 출력되는 고장난 계산기를 만들었다."
      ],
      "metadata": {
        "id": "OyanyS424Mk3"
      }
    },
    {
      "cell_type": "code",
      "source": [
        "value = int(input(\"정수를 입력하세요: \"))\n",
        "sum_value = 0\n",
        "for i in range(0, value + 1):\n",
        "  sum_value += i\n",
        "  if i == 5:\n",
        "    break\n",
        "\n",
        "print(\"1부터 %d까지의 합은 %d입니다.\" %(value, sum_value))"
      ],
      "metadata": {
        "colab": {
          "base_uri": "https://localhost:8080/"
        },
        "id": "Dkortehrx25B",
        "outputId": "188d4df4-dee1-41c4-e2a1-e9174a26b18c"
      },
      "execution_count": 15,
      "outputs": [
        {
          "output_type": "stream",
          "name": "stdout",
          "text": [
            "정수를 입력하세요: 10\n",
            "1부터 10까지의 합은 15입니다.\n"
          ]
        }
      ]
    },
    {
      "cell_type": "code",
      "source": [
        "#들여쓰기에 신경을 써야 하는 지점\n",
        "\n",
        "value = int(input(\"정수를 입력하세요: \"))\n",
        "sum_value = 0\n",
        "for i in range(1, value +1):\n",
        "  sum_value += i\n",
        "  if i == 5:\n",
        "    break\n",
        "else:\n",
        "    print(\"5보다 낮은 수가 입력되었습니다.\")\n",
        "\n",
        "print(\"1부터 %d까지의 합은 %d입니다.\" %(value, sum_value))"
      ],
      "metadata": {
        "colab": {
          "base_uri": "https://localhost:8080/"
        },
        "id": "Uyl1ZLKc4Jj1",
        "outputId": "31545b4f-97fb-4c00-8860-d4e7083c9a8a"
      },
      "execution_count": 25,
      "outputs": [
        {
          "output_type": "stream",
          "name": "stdout",
          "text": [
            "정수를 입력하세요: 3\n",
            "5보다 낮은 수가 입력되었습니다.\n",
            "1부터 3까지의 합은 6입니다.\n"
          ]
        }
      ]
    },
    {
      "cell_type": "code",
      "source": [
        "#들여쓰기에 신경을 써야 하는 지점\n",
        "\n",
        "value = int(input(\"정수를 입력하세요: \"))\n",
        "sum_value = 0\n",
        "for i in range(1, value +1):\n",
        "  if i == 5:\n",
        "    continue\n",
        "  sum_value += i\n",
        "\n",
        "print(\"1부터 %d까지 5를 제외한 합은 %d입니다.\" %(value, sum_value))"
      ],
      "metadata": {
        "colab": {
          "base_uri": "https://localhost:8080/"
        },
        "id": "M3IsOswo6qln",
        "outputId": "eeb293e7-397d-4132-c58f-1a21688cc48e"
      },
      "execution_count": 29,
      "outputs": [
        {
          "output_type": "stream",
          "name": "stdout",
          "text": [
            "정수를 입력하세요: 10\n",
            "1부터 10까지 5를 제외한 합은 50입니다.\n"
          ]
        }
      ]
    },
    {
      "cell_type": "code",
      "source": [
        "#while문에서 continue를 썼을 때 에러가 나는 지점\n",
        "\n",
        "value = int(input(\"정수를 입력하세요: \"))\n",
        "sum_value = 0\n",
        "count = 1\n",
        "\n",
        "while count <= value: \n",
        "  if count == 5:\n",
        "    continue\n",
        "\n",
        "  sum_value += count\n",
        "  count += 1\n",
        "\n",
        "print(\"1부터 %d까지 5를 제외한 합은 %d입니다.\" %(value, sum_value))"
      ],
      "metadata": {
        "colab": {
          "base_uri": "https://localhost:8080/",
          "height": 266
        },
        "id": "VwGsyyhd7WQJ",
        "outputId": "29dee122-9a51-4b19-cb1a-c57ffbc4b2a4"
      },
      "execution_count": 46,
      "outputs": [
        {
          "name": "stdout",
          "output_type": "stream",
          "text": [
            "정수를 입력하세요: 10\n"
          ]
        },
        {
          "output_type": "error",
          "ename": "KeyboardInterrupt",
          "evalue": "ignored",
          "traceback": [
            "\u001b[0;31m---------------------------------------------------------------------------\u001b[0m",
            "\u001b[0;31mKeyboardInterrupt\u001b[0m                         Traceback (most recent call last)",
            "\u001b[0;32m<ipython-input-46-d0389a7d0fc9>\u001b[0m in \u001b[0;36m<module>\u001b[0;34m()\u001b[0m\n\u001b[1;32m      5\u001b[0m \u001b[0mcount\u001b[0m \u001b[0;34m=\u001b[0m \u001b[0;36m1\u001b[0m\u001b[0;34m\u001b[0m\u001b[0;34m\u001b[0m\u001b[0m\n\u001b[1;32m      6\u001b[0m \u001b[0;34m\u001b[0m\u001b[0m\n\u001b[0;32m----> 7\u001b[0;31m \u001b[0;32mwhile\u001b[0m \u001b[0mcount\u001b[0m \u001b[0;34m<=\u001b[0m \u001b[0mvalue\u001b[0m\u001b[0;34m:\u001b[0m\u001b[0;34m\u001b[0m\u001b[0;34m\u001b[0m\u001b[0m\n\u001b[0m\u001b[1;32m      8\u001b[0m   \u001b[0;32mif\u001b[0m \u001b[0mcount\u001b[0m \u001b[0;34m==\u001b[0m \u001b[0;36m5\u001b[0m\u001b[0;34m:\u001b[0m\u001b[0;34m\u001b[0m\u001b[0;34m\u001b[0m\u001b[0m\n\u001b[1;32m      9\u001b[0m     \u001b[0;32mcontinue\u001b[0m\u001b[0;34m\u001b[0m\u001b[0;34m\u001b[0m\u001b[0m\n",
            "\u001b[0;31mKeyboardInterrupt\u001b[0m: "
          ]
        }
      ]
    },
    {
      "cell_type": "code",
      "source": [
        "#while문에서 continue를 썼을 때 에러가 나는 지점\n",
        "\n",
        "value = int(input(\"정수를 입력하세요: \"))\n",
        "sum_value = 0\n",
        "count = 1\n",
        "\n",
        "while count <= value: \n",
        "  if count == 5:\n",
        "    count += 1\n",
        "    continue\n",
        "\n",
        "  sum_value += count\n",
        "  count += 1\n",
        "\n",
        "print(\"1부터 %d까지 5를 제외한 합은 %d입니다.\" %(value, sum_value))"
      ],
      "metadata": {
        "colab": {
          "base_uri": "https://localhost:8080/"
        },
        "id": "HRarUww09Snh",
        "outputId": "14a03347-12f2-4205-cefd-99829fe4014e"
      },
      "execution_count": 45,
      "outputs": [
        {
          "output_type": "stream",
          "name": "stdout",
          "text": [
            "정수를 입력하세요: 10\n",
            "1부터 10까지 5를 제외한 합은 50입니다.\n"
          ]
        }
      ]
    },
    {
      "cell_type": "markdown",
      "source": [
        "숙제! 피라미드 만들기. "
      ],
      "metadata": {
        "id": "R4jEacsHECPB"
      }
    },
    {
      "cell_type": "code",
      "source": [
        "n = int(input(\"홀수인 자연수를 입력하세요. \"))\n",
        "\n",
        "for i in range(1, n):\n",
        "  print(\"*\" * i)\n",
        "print(\"*\" * n)"
      ],
      "metadata": {
        "colab": {
          "base_uri": "https://localhost:8080/"
        },
        "id": "R0MA5XdGASd7",
        "outputId": "65f7f7a3-cb96-42a4-be69-c180441e807f"
      },
      "execution_count": 51,
      "outputs": [
        {
          "output_type": "stream",
          "name": "stdout",
          "text": [
            "홀수인 자연수를 입력하세요. 5\n",
            "*\n",
            "**\n",
            "***\n",
            "****\n",
            "*****\n"
          ]
        }
      ]
    },
    {
      "cell_type": "code",
      "source": [
        ""
      ],
      "metadata": {
        "id": "iuZJdryEDwg4"
      },
      "execution_count": null,
      "outputs": []
    }
  ]
}