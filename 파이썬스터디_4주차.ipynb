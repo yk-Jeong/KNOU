{
  "nbformat": 4,
  "nbformat_minor": 0,
  "metadata": {
    "colab": {
      "name": "파이썬스터디_4주차.ipynb",
      "provenance": [],
      "collapsed_sections": [],
      "authorship_tag": "ABX9TyMCdaLcsV20qzdlu8eoVkUj",
      "include_colab_link": true
    },
    "kernelspec": {
      "name": "python3",
      "display_name": "Python 3"
    },
    "language_info": {
      "name": "python"
    }
  },
  "cells": [
    {
      "cell_type": "markdown",
      "metadata": {
        "id": "view-in-github",
        "colab_type": "text"
      },
      "source": [
        "<a href=\"https://colab.research.google.com/github/yk-Jeong/KNOU/blob/main/%ED%8C%8C%EC%9D%B4%EC%8D%AC%EC%8A%A4%ED%84%B0%EB%94%94_4%EC%A3%BC%EC%B0%A8.ipynb\" target=\"_parent\"><img src=\"https://colab.research.google.com/assets/colab-badge.svg\" alt=\"Open In Colab\"/></a>"
      ]
    },
    {
      "cell_type": "code",
      "execution_count": 4,
      "metadata": {
        "colab": {
          "base_uri": "https://localhost:8080/"
        },
        "id": "9CqKelK20Rtv",
        "outputId": "e6bf2ed0-7ecc-428c-a397-8c0c619bd498"
      },
      "outputs": [
        {
          "output_type": "stream",
          "name": "stdout",
          "text": [
            "\n",
            "        FFFFFF   U     U     NN     NN\n",
            "        FF       U     U     NNN    NN\n",
            "        FFFFFF   U     U     NN N   NN\n",
            "        FF        U   U      NN  N  NN\n",
            "        FF         UUU       NN    NNN\n",
            "      \n"
          ]
        }
      ],
      "source": [
        "print(\"\"\"\n",
        "        FFFFFF   U     U     NN     NN\n",
        "        FF       U     U     NNN    NN\n",
        "        FFFFFF   U     U     NN N   NN\n",
        "        FF        U   U      NN  N  NN\n",
        "        FF         UUU       NN    NNN\n",
        "      \"\"\")"
      ]
    },
    {
      "cell_type": "markdown",
      "source": [
        "f-string에서의 소수점 표현"
      ],
      "metadata": {
        "id": "0R6kv5WR8J-b"
      }
    },
    {
      "cell_type": "code",
      "source": [
        "pay = float(input(\"서비스료를 입력하시오: \"))\n",
        "per_tip = float(input(\"팁 비율을 입력하시오: \"))\n",
        "tip = 0.01*per_tip*pay\n",
        "\n",
        "print(f'팁은 {tip:.2f}이고 총 요금은 {(tip + pay):.2f}입니다.')\n"
      ],
      "metadata": {
        "colab": {
          "base_uri": "https://localhost:8080/"
        },
        "id": "wxCZLJZR3Hmi",
        "outputId": "0d2c9743-8fcf-4c14-c9d5-c0a02c43ad71"
      },
      "execution_count": 16,
      "outputs": [
        {
          "output_type": "stream",
          "name": "stdout",
          "text": [
            "서비스료를 입력하시오: 11.5\n",
            "팁 비율을 입력하시오: 13\n",
            "팁은 1.50이고 총 요금은 13.00입니다.\n"
          ]
        }
      ]
    },
    {
      "cell_type": "code",
      "source": [
        ""
      ],
      "metadata": {
        "id": "regbX-3R43Aj"
      },
      "execution_count": null,
      "outputs": []
    }
  ]
}