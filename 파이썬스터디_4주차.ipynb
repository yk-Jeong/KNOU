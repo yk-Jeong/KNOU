{
  "nbformat": 4,
  "nbformat_minor": 0,
  "metadata": {
    "colab": {
      "name": "파이썬스터디_4주차.ipynb",
      "provenance": [],
      "authorship_tag": "ABX9TyOcbo2dgZe/R9I+LnkvlH6B",
      "include_colab_link": true
    },
    "kernelspec": {
      "name": "python3",
      "display_name": "Python 3"
    },
    "language_info": {
      "name": "python"
    }
  },
  "cells": [
    {
      "cell_type": "markdown",
      "metadata": {
        "id": "view-in-github",
        "colab_type": "text"
      },
      "source": [
        "<a href=\"https://colab.research.google.com/github/yk-Jeong/KNOU/blob/main/%ED%8C%8C%EC%9D%B4%EC%8D%AC%EC%8A%A4%ED%84%B0%EB%94%94_4%EC%A3%BC%EC%B0%A8.ipynb\" target=\"_parent\"><img src=\"https://colab.research.google.com/assets/colab-badge.svg\" alt=\"Open In Colab\"/></a>"
      ]
    },
    {
      "cell_type": "code",
      "execution_count": 4,
      "metadata": {
        "colab": {
          "base_uri": "https://localhost:8080/"
        },
        "id": "9CqKelK20Rtv",
        "outputId": "e6bf2ed0-7ecc-428c-a397-8c0c619bd498"
      },
      "outputs": [
        {
          "output_type": "stream",
          "name": "stdout",
          "text": [
            "\n",
            "        FFFFFF   U     U     NN     NN\n",
            "        FF       U     U     NNN    NN\n",
            "        FFFFFF   U     U     NN N   NN\n",
            "        FF        U   U      NN  N  NN\n",
            "        FF         UUU       NN    NNN\n",
            "      \n"
          ]
        }
      ],
      "source": [
        "print(\"\"\"\n",
        "        FFFFFF   U     U     NN     NN\n",
        "        FF       U     U     NNN    NN\n",
        "        FFFFFF   U     U     NN N   NN\n",
        "        FF        U   U      NN  N  NN\n",
        "        FF         UUU       NN    NNN\n",
        "      \"\"\")"
      ]
    },
    {
      "cell_type": "code",
      "source": [
        ""
      ],
      "metadata": {
        "id": "wxCZLJZR3Hmi"
      },
      "execution_count": null,
      "outputs": []
    }
  ]
}