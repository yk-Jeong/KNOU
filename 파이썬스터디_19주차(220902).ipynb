{
  "nbformat": 4,
  "nbformat_minor": 0,
  "metadata": {
    "colab": {
      "provenance": [],
      "collapsed_sections": [],
      "authorship_tag": "ABX9TyOByBZcZRpuv9/Knhgxq3uc",
      "include_colab_link": true
    },
    "kernelspec": {
      "name": "python3",
      "display_name": "Python 3"
    },
    "language_info": {
      "name": "python"
    }
  },
  "cells": [
    {
      "cell_type": "markdown",
      "metadata": {
        "id": "view-in-github",
        "colab_type": "text"
      },
      "source": [
        "<a href=\"https://colab.research.google.com/github/yk-Jeong/KNOU/blob/main/%ED%8C%8C%EC%9D%B4%EC%8D%AC%EC%8A%A4%ED%84%B0%EB%94%94_19%EC%A3%BC%EC%B0%A8(220902).ipynb\" target=\"_parent\"><img src=\"https://colab.research.google.com/assets/colab-badge.svg\" alt=\"Open In Colab\"/></a>"
      ]
    },
    {
      "cell_type": "markdown",
      "source": [
        "지난주 과제의 해설 및 정답"
      ],
      "metadata": {
        "id": "b9t4_pXQbFhc"
      }
    },
    {
      "cell_type": "code",
      "source": [
        "def game369(n):\n",
        "  i = 1\n",
        "  for row in range(int(n/5)):\n",
        "    for col in range(5):\n",
        "      count = 0\n",
        "      for j in str(i):\n",
        "        if (j == '3') or (j == '6') or (j == '9'):\n",
        "          count += 1\n",
        "      \n",
        "      if count == 0:\n",
        "        print(\"{0:>2} = {1:>2}\".format(i, i), end=\" \")\n",
        "      else:\n",
        "        print(\"{0:>2} = {1:>2}\".format(i, '*' * count), end=\" \")\n",
        "      i += 1\n",
        "    print(\"\")"
      ],
      "metadata": {
        "id": "Dt9wJG-lIx8N"
      },
      "execution_count": 13,
      "outputs": []
    },
    {
      "cell_type": "code",
      "source": [
        "game369(50)"
      ],
      "metadata": {
        "colab": {
          "base_uri": "https://localhost:8080/"
        },
        "id": "yWQW2AJ6JZNd",
        "outputId": "5ba3f2f8-0eb4-4348-b3c6-7ea801c7a51f"
      },
      "execution_count": 14,
      "outputs": [
        {
          "output_type": "stream",
          "name": "stdout",
          "text": [
            " 1 =  1  2 =  2  3 =  *  4 =  4  5 =  5 \n",
            " 6 =  *  7 =  7  8 =  8  9 =  * 10 = 10 \n",
            "11 = 11 12 = 12 13 =  * 14 = 14 15 = 15 \n",
            "16 =  * 17 = 17 18 = 18 19 =  * 20 = 20 \n",
            "21 = 21 22 = 22 23 =  * 24 = 24 25 = 25 \n",
            "26 =  * 27 = 27 28 = 28 29 =  * 30 =  * \n",
            "31 =  * 32 =  * 33 = ** 34 =  * 35 =  * \n",
            "36 = ** 37 =  * 38 =  * 39 = ** 40 = 40 \n",
            "41 = 41 42 = 42 43 =  * 44 = 44 45 = 45 \n",
            "46 =  * 47 = 47 48 = 48 49 =  * 50 = 50 \n"
          ]
        }
      ]
    },
    {
      "cell_type": "markdown",
      "source": [
        "##전역변수와 지역변수"
      ],
      "metadata": {
        "id": "RykYpy2PQKX6"
      }
    },
    {
      "cell_type": "code",
      "source": [
        "# 에러의 원인은 무엇이고, 어떻게 해결해야 할까? \n",
        "def print_Hello():\n",
        "  print(hello)\n",
        "  hello = \"Hello\"\n",
        "  print(hello)\n",
        "\n",
        "hello = \"Hello World!\"\n",
        "print_Hello()"
      ],
      "metadata": {
        "colab": {
          "base_uri": "https://localhost:8080/",
          "height": 339
        },
        "id": "r12JmPgUOI8d",
        "outputId": "7371759c-fd43-4614-bfbf-2589467633be"
      },
      "execution_count": 15,
      "outputs": [
        {
          "output_type": "error",
          "ename": "UnboundLocalError",
          "evalue": "ignored",
          "traceback": [
            "\u001b[0;31m---------------------------------------------------------------------------\u001b[0m",
            "\u001b[0;31mUnboundLocalError\u001b[0m                         Traceback (most recent call last)",
            "\u001b[0;32m<ipython-input-15-20eecb52ec57>\u001b[0m in \u001b[0;36m<module>\u001b[0;34m\u001b[0m\n\u001b[1;32m      5\u001b[0m \u001b[0;34m\u001b[0m\u001b[0m\n\u001b[1;32m      6\u001b[0m \u001b[0mhello\u001b[0m \u001b[0;34m=\u001b[0m \u001b[0;34m\"Hello World!\"\u001b[0m\u001b[0;34m\u001b[0m\u001b[0;34m\u001b[0m\u001b[0m\n\u001b[0;32m----> 7\u001b[0;31m \u001b[0mprint_Hello\u001b[0m\u001b[0;34m(\u001b[0m\u001b[0;34m)\u001b[0m\u001b[0;34m\u001b[0m\u001b[0;34m\u001b[0m\u001b[0m\n\u001b[0m",
            "\u001b[0;32m<ipython-input-15-20eecb52ec57>\u001b[0m in \u001b[0;36mprint_Hello\u001b[0;34m()\u001b[0m\n\u001b[1;32m      1\u001b[0m \u001b[0;32mdef\u001b[0m \u001b[0mprint_Hello\u001b[0m\u001b[0;34m(\u001b[0m\u001b[0;34m)\u001b[0m\u001b[0;34m:\u001b[0m\u001b[0;34m\u001b[0m\u001b[0;34m\u001b[0m\u001b[0m\n\u001b[0;32m----> 2\u001b[0;31m   \u001b[0mprint\u001b[0m\u001b[0;34m(\u001b[0m\u001b[0mhello\u001b[0m\u001b[0;34m)\u001b[0m\u001b[0;34m\u001b[0m\u001b[0;34m\u001b[0m\u001b[0m\n\u001b[0m\u001b[1;32m      3\u001b[0m   \u001b[0mhello\u001b[0m \u001b[0;34m=\u001b[0m \u001b[0;34m\"Hello\"\u001b[0m\u001b[0;34m\u001b[0m\u001b[0;34m\u001b[0m\u001b[0m\n\u001b[1;32m      4\u001b[0m   \u001b[0mprint\u001b[0m\u001b[0;34m(\u001b[0m\u001b[0mhello\u001b[0m\u001b[0;34m)\u001b[0m\u001b[0;34m\u001b[0m\u001b[0;34m\u001b[0m\u001b[0m\n\u001b[1;32m      5\u001b[0m \u001b[0;34m\u001b[0m\u001b[0m\n",
            "\u001b[0;31mUnboundLocalError\u001b[0m: local variable 'hello' referenced before assignment"
          ]
        }
      ]
    },
    {
      "cell_type": "code",
      "source": [
        "# 에러의 원인은 무엇이고, 어떻게 해결해야 할까? \n",
        "def print_Hello():\n",
        "  global hello\n",
        "  print(hello)\n",
        "  hello = \"Hello\"\n",
        "  print(hello)\n",
        "\n",
        "hello = \"Hello World!\"\n",
        "print_Hello()"
      ],
      "metadata": {
        "colab": {
          "base_uri": "https://localhost:8080/"
        },
        "id": "DsRLd9KRQU9D",
        "outputId": "4707f24a-9682-4789-de0f-9748dc882e34"
      },
      "execution_count": 16,
      "outputs": [
        {
          "output_type": "stream",
          "name": "stdout",
          "text": [
            "Hello World!\n",
            "Hello\n"
          ]
        }
      ]
    },
    {
      "cell_type": "markdown",
      "source": [
        "####내부함수\n",
        "- 함수 안에 함수를 만드는 방법을 내부함수라고 한다. 반복이나 코드의 중복을 피하기 위해 복잡한 작업을 다시 한 번 함수로 감싸는 방식으로 사용한다. \n",
        "- 내부함수는 함수 외부에서 사용할 수 없으며, 호출시 오류가 발생한다. "
      ],
      "metadata": {
        "id": "zGLLII1xWFip"
      }
    },
    {
      "cell_type": "code",
      "source": [
        "def print_add(a, b):\n",
        "  def add(v1, v2):\n",
        "    return v1 + v2\n",
        "  \n",
        "  print(\"Sum = %d\" % add(a, b))\n",
        "\n",
        "print_add(10, 20)"
      ],
      "metadata": {
        "colab": {
          "base_uri": "https://localhost:8080/"
        },
        "id": "_G6jmNMcRd-H",
        "outputId": "9390d0ee-5e61-480d-e4a3-ceb1854100cf"
      },
      "execution_count": 17,
      "outputs": [
        {
          "output_type": "stream",
          "name": "stdout",
          "text": [
            "Sum = 30\n"
          ]
        }
      ]
    },
    {
      "cell_type": "code",
      "source": [
        "x = 0\n",
        "def outer():\n",
        "  x = 1\n",
        "  def inner():\n",
        "    x = 2\n",
        "    print(\"inner:\", x)\n",
        "  inner()\n",
        "  print(\"outer:\", x)\n",
        "\n",
        "outer()\n",
        "print(\"global:\", x)"
      ],
      "metadata": {
        "colab": {
          "base_uri": "https://localhost:8080/"
        },
        "id": "H2M-cxK7WEaJ",
        "outputId": "d2f2ed95-fe63-42e0-8020-fc86c2063b6b"
      },
      "execution_count": 19,
      "outputs": [
        {
          "output_type": "stream",
          "name": "stdout",
          "text": [
            "inner: 2\n",
            "outer: 1\n",
            "global: 0\n"
          ]
        }
      ]
    },
    {
      "cell_type": "markdown",
      "source": [
        "nonlocal과 global 변수\n"
      ],
      "metadata": {
        "id": "xMKfhCYQauQ6"
      }
    },
    {
      "cell_type": "code",
      "source": [
        "# 위 함수와 차이를 파악해보자 \n",
        "x = 0\n",
        "def outer():\n",
        "  x = 1\n",
        "  def inner():\n",
        "    nonlocal x\n",
        "    x = 2\n",
        "    print(\"inner:\", x)\n",
        "  inner()\n",
        "  print(\"outer:\", x)\n",
        "\n",
        "outer()\n",
        "print(\"global:\", x)"
      ],
      "metadata": {
        "colab": {
          "base_uri": "https://localhost:8080/"
        },
        "id": "h_GNZ5TFZszl",
        "outputId": "927ec66a-9bfa-4696-f4e1-db70ba6603f5"
      },
      "execution_count": 21,
      "outputs": [
        {
          "output_type": "stream",
          "name": "stdout",
          "text": [
            "inner: 2\n",
            "outer: 2\n",
            "global: 0\n"
          ]
        }
      ]
    },
    {
      "cell_type": "code",
      "source": [],
      "metadata": {
        "id": "VsT-_8UIa2I6"
      },
      "execution_count": null,
      "outputs": []
    }
  ]
}