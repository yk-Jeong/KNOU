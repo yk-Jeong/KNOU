{
  "nbformat": 4,
  "nbformat_minor": 0,
  "metadata": {
    "colab": {
      "name": "파이썬스터디_12주차(220701).ipynb",
      "provenance": [],
      "authorship_tag": "ABX9TyNMs2k4Qce6bj6kLsMdrpne",
      "include_colab_link": true
    },
    "kernelspec": {
      "name": "python3",
      "display_name": "Python 3"
    },
    "language_info": {
      "name": "python"
    }
  },
  "cells": [
    {
      "cell_type": "markdown",
      "metadata": {
        "id": "view-in-github",
        "colab_type": "text"
      },
      "source": [
        "<a href=\"https://colab.research.google.com/github/yk-Jeong/KNOU/blob/main/%ED%8C%8C%EC%9D%B4%EC%8D%AC%EC%8A%A4%ED%84%B0%EB%94%94_12%EC%A3%BC%EC%B0%A8(220701).ipynb\" target=\"_parent\"><img src=\"https://colab.research.google.com/assets/colab-badge.svg\" alt=\"Open In Colab\"/></a>"
      ]
    },
    {
      "cell_type": "markdown",
      "source": [
        "#####역삼각형과 다이아몬드 별 찍어보기"
      ],
      "metadata": {
        "id": "ocGg_Oc3qWY1"
      }
    },
    {
      "cell_type": "markdown",
      "source": [
        "역-직삼각형"
      ],
      "metadata": {
        "id": "Fmu-rpDLsF5G"
      }
    },
    {
      "cell_type": "code",
      "execution_count": 13,
      "metadata": {
        "colab": {
          "base_uri": "https://localhost:8080/"
        },
        "id": "ZEkA7RqWppcx",
        "outputId": "a92c269e-2f9f-442f-ac75-6744013e6648"
      },
      "outputs": [
        {
          "output_type": "stream",
          "name": "stdout",
          "text": [
            "*****\n",
            "****\n",
            "***\n",
            "**\n",
            "*\n",
            "\n"
          ]
        }
      ],
      "source": [
        "for i in range(6):\n",
        "  for j in range(5-i):\n",
        "    print(\"*\", end=\"\")\n",
        "  print(\"\")"
      ]
    },
    {
      "cell_type": "markdown",
      "source": [
        "능선? 모양"
      ],
      "metadata": {
        "id": "uZWGRrnYsC7E"
      }
    },
    {
      "cell_type": "code",
      "source": [
        "for i in range(1, 10):\n",
        "  if i < 6:\n",
        "    for j in range(i):  \n",
        "      print(\"*\", end=\"\")\n",
        "    print(\"\")\n",
        "  else: \n",
        "    for j in range(10-i):\n",
        "      print(\"*\", end=\"\")\n",
        "    print(\"\")"
      ],
      "metadata": {
        "colab": {
          "base_uri": "https://localhost:8080/"
        },
        "id": "cTNx9vLhqaXG",
        "outputId": "3e02e904-7c6f-4028-951b-f301cd45baf8"
      },
      "execution_count": 21,
      "outputs": [
        {
          "output_type": "stream",
          "name": "stdout",
          "text": [
            "*\n",
            "**\n",
            "***\n",
            "****\n",
            "*****\n",
            "****\n",
            "***\n",
            "**\n",
            "*\n"
          ]
        }
      ]
    },
    {
      "cell_type": "markdown",
      "source": [
        "반-모래시계?"
      ],
      "metadata": {
        "id": "O0vQ0BrCsNvI"
      }
    },
    {
      "cell_type": "code",
      "source": [
        "for i in range(1, 10):\n",
        "  if i < 6:\n",
        "    for j in range(6-i):\n",
        "      print(\"*\", end=\"\")\n",
        "    print(\"\")\n",
        "  else: \n",
        "    for j in range(i-5):  \n",
        "      print(\"*\", end=\"\")\n",
        "    print(\"\")\n",
        "    "
      ],
      "metadata": {
        "colab": {
          "base_uri": "https://localhost:8080/"
        },
        "id": "zWJzDToSrSNO",
        "outputId": "61874a09-adaf-4c08-f2ee-b4cc32ef6c9a"
      },
      "execution_count": 30,
      "outputs": [
        {
          "output_type": "stream",
          "name": "stdout",
          "text": [
            "*****\n",
            "****\n",
            "***\n",
            "**\n",
            "*\n",
            "*\n",
            "**\n",
            "***\n",
            "****\n"
          ]
        }
      ]
    },
    {
      "cell_type": "markdown",
      "source": [
        "모래시계?"
      ],
      "metadata": {
        "id": "t-RGBUwKtHwV"
      }
    },
    {
      "cell_type": "code",
      "source": [
        "for i in range(1, 10):\n",
        "  if i < 6:\n",
        "    for j in range(6-i):\n",
        "      print(''+ \"*\" * j)\n",
        "  else: \n",
        "    for j in range(i-5):  \n",
        "      print(\"*\" * j +'')"
      ],
      "metadata": {
        "id": "76TCNn_cr4TO"
      },
      "execution_count": null,
      "outputs": []
    },
    {
      "cell_type": "code",
      "source": [
        "for i in range(10):\n",
        "  if i < 6: \n",
        "    for j in range(5-i):  \n",
        "      print(\"*\", end=\"\")\n",
        "    print(\"\")\n",
        "  else: \n",
        "    for j in range(7-i): \n",
        "      print(\"*\", end=\"\")\n",
        "    print(\"\")"
      ],
      "metadata": {
        "colab": {
          "base_uri": "https://localhost:8080/"
        },
        "id": "CQriSmnktasp",
        "outputId": "c861c3c6-7d62-4507-acf9-99b56a64f5e5"
      },
      "execution_count": 50,
      "outputs": [
        {
          "output_type": "stream",
          "name": "stdout",
          "text": [
            "*****\n",
            "****\n",
            "***\n",
            "**\n",
            "*\n",
            "\n",
            "*\n",
            "\n",
            "\n",
            "\n"
          ]
        }
      ]
    },
    {
      "cell_type": "markdown",
      "source": [
        "**enumerate**\n",
        "\n",
        "리스트와 튜플 같은 시퀀스 자료형을 입력받아, 인덱스 값을 포함하는 'enumerate' 객체를 반환한다."
      ],
      "metadata": {
        "id": "YL5zgQPaxCzb"
      }
    },
    {
      "cell_type": "code",
      "source": [
        "names = ['kim', 'lee', 'park', 'choi']\n",
        "enumerate(names)"
      ],
      "metadata": {
        "colab": {
          "base_uri": "https://localhost:8080/"
        },
        "id": "RBfqfAdVvr-2",
        "outputId": "baa20705-d78e-4343-e51a-7ad2e57f6ec9"
      },
      "execution_count": 51,
      "outputs": [
        {
          "output_type": "execute_result",
          "data": {
            "text/plain": [
              "<enumerate at 0x7fcd39699a50>"
            ]
          },
          "metadata": {},
          "execution_count": 51
        }
      ]
    },
    {
      "cell_type": "code",
      "source": [
        "list(enumerate(names))"
      ],
      "metadata": {
        "colab": {
          "base_uri": "https://localhost:8080/"
        },
        "id": "w6eh4J6YxS1r",
        "outputId": "845e55be-bef7-4eba-cf17-664c52398ee8"
      },
      "execution_count": 53,
      "outputs": [
        {
          "output_type": "execute_result",
          "data": {
            "text/plain": [
              "[(0, 'kim'), (1, 'lee'), (2, 'park'), (3, 'choi')]"
            ]
          },
          "metadata": {},
          "execution_count": 53
        }
      ]
    },
    {
      "cell_type": "code",
      "source": [
        "values =[10, 20, 30, 40, 50]\n",
        "print(values)"
      ],
      "metadata": {
        "colab": {
          "base_uri": "https://localhost:8080/"
        },
        "id": "Q7sz_NO9zB6n",
        "outputId": "69b5a66a-2f40-45c2-8de7-b48720593b54"
      },
      "execution_count": 54,
      "outputs": [
        {
          "output_type": "stream",
          "name": "stdout",
          "text": [
            "[10, 20, 30, 40, 50]\n"
          ]
        }
      ]
    },
    {
      "cell_type": "code",
      "source": [
        "for i, v in enumerate(values):\n",
        "  values[i] += 1\n",
        "print(values)"
      ],
      "metadata": {
        "colab": {
          "base_uri": "https://localhost:8080/"
        },
        "id": "1H42DGlI0n7K",
        "outputId": "07a5bf27-6117-4d96-c274-36198b1a4ab3"
      },
      "execution_count": 55,
      "outputs": [
        {
          "output_type": "stream",
          "name": "stdout",
          "text": [
            "[11, 21, 31, 41, 51]\n"
          ]
        }
      ]
    },
    {
      "cell_type": "code",
      "source": [
        "student = {'kim':90, 'lee':80, 'park':95, 'choi':70\n",
        "           }\n",
        "for i, k in enumerate(student):\n",
        "  print(i, \":\", k, student[k])\n",
        "print(\"\")\n",
        "for i, k in enumerate(student.items()):\n",
        "  print(i, \":\", k)"
      ],
      "metadata": {
        "colab": {
          "base_uri": "https://localhost:8080/"
        },
        "id": "KQIR0PeI0sl8",
        "outputId": "dc45b821-8120-4dcb-9db9-dc6e2f6ca7b7"
      },
      "execution_count": 57,
      "outputs": [
        {
          "output_type": "stream",
          "name": "stdout",
          "text": [
            "0 : kim 90\n",
            "1 : lee 80\n",
            "2 : park 95\n",
            "3 : choi 70\n",
            "\n",
            "0 : ('kim', 90)\n",
            "1 : ('lee', 80)\n",
            "2 : ('park', 95)\n",
            "3 : ('choi', 70)\n"
          ]
        }
      ]
    },
    {
      "cell_type": "code",
      "source": [
        "for i, k in enumerate(student.keys()):\n",
        "  print(i, \":\", k)"
      ],
      "metadata": {
        "colab": {
          "base_uri": "https://localhost:8080/"
        },
        "id": "emMDkId92qlV",
        "outputId": "d92fe425-3f59-4076-d99d-c4e82931ced7"
      },
      "execution_count": 58,
      "outputs": [
        {
          "output_type": "stream",
          "name": "stdout",
          "text": [
            "0 : kim\n",
            "1 : lee\n",
            "2 : park\n",
            "3 : choi\n"
          ]
        }
      ]
    },
    {
      "cell_type": "code",
      "source": [
        "for i, k in enumerate(student.values()):\n",
        "  print(i, \":\", k)"
      ],
      "metadata": {
        "colab": {
          "base_uri": "https://localhost:8080/"
        },
        "id": "KqJFq8E-3x6b",
        "outputId": "e0db74e4-5a8e-4f68-a814-3d2c2beb32d7"
      },
      "execution_count": 59,
      "outputs": [
        {
          "output_type": "stream",
          "name": "stdout",
          "text": [
            "0 : 90\n",
            "1 : 80\n",
            "2 : 95\n",
            "3 : 70\n"
          ]
        }
      ]
    },
    {
      "cell_type": "markdown",
      "source": [
        "zip()"
      ],
      "metadata": {
        "id": "qScUgWVx4W19"
      }
    },
    {
      "cell_type": "code",
      "source": [
        "names = ['kim', 'lee', 'park']\n",
        "eng = [90, 80, 85, 70]\n",
        "math = [100, 90, 90, 80]\n",
        "student = zip(names, eng, math)\n",
        "dict(student)"
      ],
      "metadata": {
        "colab": {
          "base_uri": "https://localhost:8080/",
          "height": 211
        },
        "id": "eiEYpS1m30z5",
        "outputId": "169523b2-d443-4f40-d821-93bf666c2099"
      },
      "execution_count": 67,
      "outputs": [
        {
          "output_type": "error",
          "ename": "ValueError",
          "evalue": "ignored",
          "traceback": [
            "\u001b[0;31m---------------------------------------------------------------------------\u001b[0m",
            "\u001b[0;31mValueError\u001b[0m                                Traceback (most recent call last)",
            "\u001b[0;32m<ipython-input-67-d7f51c353345>\u001b[0m in \u001b[0;36m<module>\u001b[0;34m()\u001b[0m\n\u001b[1;32m      3\u001b[0m \u001b[0mmath\u001b[0m \u001b[0;34m=\u001b[0m \u001b[0;34m[\u001b[0m\u001b[0;36m100\u001b[0m\u001b[0;34m,\u001b[0m \u001b[0;36m90\u001b[0m\u001b[0;34m,\u001b[0m \u001b[0;36m90\u001b[0m\u001b[0;34m,\u001b[0m \u001b[0;36m80\u001b[0m\u001b[0;34m]\u001b[0m\u001b[0;34m\u001b[0m\u001b[0;34m\u001b[0m\u001b[0m\n\u001b[1;32m      4\u001b[0m \u001b[0mstudent\u001b[0m \u001b[0;34m=\u001b[0m \u001b[0mzip\u001b[0m\u001b[0;34m(\u001b[0m\u001b[0mnames\u001b[0m\u001b[0;34m,\u001b[0m \u001b[0meng\u001b[0m\u001b[0;34m,\u001b[0m \u001b[0mmath\u001b[0m\u001b[0;34m)\u001b[0m\u001b[0;34m\u001b[0m\u001b[0;34m\u001b[0m\u001b[0m\n\u001b[0;32m----> 5\u001b[0;31m \u001b[0mdict\u001b[0m\u001b[0;34m(\u001b[0m\u001b[0mstudent\u001b[0m\u001b[0;34m)\u001b[0m\u001b[0;34m\u001b[0m\u001b[0;34m\u001b[0m\u001b[0m\n\u001b[0m",
            "\u001b[0;31mValueError\u001b[0m: dictionary update sequence element #0 has length 3; 2 is required"
          ]
        }
      ]
    },
    {
      "cell_type": "code",
      "source": [
        "student"
      ],
      "metadata": {
        "colab": {
          "base_uri": "https://localhost:8080/"
        },
        "id": "nWy6682e4iw8",
        "outputId": "e8421c6f-c70c-4f21-e773-e0fd9e03b146"
      },
      "execution_count": 61,
      "outputs": [
        {
          "output_type": "execute_result",
          "data": {
            "text/plain": [
              "<zip at 0x7fcd3177cfa0>"
            ]
          },
          "metadata": {},
          "execution_count": 61
        }
      ]
    },
    {
      "cell_type": "code",
      "source": [
        "type(student)"
      ],
      "metadata": {
        "colab": {
          "base_uri": "https://localhost:8080/"
        },
        "id": "Qdlp0XXp4jQ0",
        "outputId": "507f441b-0285-418c-ff7f-21cb67cb06c8"
      },
      "execution_count": 62,
      "outputs": [
        {
          "output_type": "execute_result",
          "data": {
            "text/plain": [
              "zip"
            ]
          },
          "metadata": {},
          "execution_count": 62
        }
      ]
    },
    {
      "cell_type": "code",
      "source": [
        "for n, e, m in zip(names, eng, math):\n",
        "  print(\"이름 = %s, 영어 = %d, 수학 = %d\" % (n, e, m))"
      ],
      "metadata": {
        "colab": {
          "base_uri": "https://localhost:8080/"
        },
        "id": "UFd98JGC4lnd",
        "outputId": "f21a13d4-6d5b-443c-e130-8631cae40a8d"
      },
      "execution_count": 66,
      "outputs": [
        {
          "output_type": "stream",
          "name": "stdout",
          "text": [
            "이름 = kim, 영어 = 90, 수학 = 100\n",
            "이름 = lee, 영어 = 80, 수학 = 90\n",
            "이름 = park, 영어 = 85, 수학 = 90\n"
          ]
        }
      ]
    },
    {
      "cell_type": "code",
      "source": [
        "#무한루프 오류\n",
        "value = int(input(\"양의 정수를 입력하세요: \"))\n",
        "sum_value = 0\n",
        "count = 1\n",
        "\n",
        "while count <= value:\n",
        "  sum_value += count \n",
        "print(\"1부터 %d까지의 합은 %d입니다.\" %(value, sum_value))"
      ],
      "metadata": {
        "colab": {
          "base_uri": "https://localhost:8080/",
          "height": 266
        },
        "id": "VQWa6yOA7DNk",
        "outputId": "c8e55bdc-f732-43d1-daca-049b4884dca2"
      },
      "execution_count": 69,
      "outputs": [
        {
          "name": "stdout",
          "output_type": "stream",
          "text": [
            "양의 정수를 입력하세요: 10\n"
          ]
        },
        {
          "output_type": "error",
          "ename": "KeyboardInterrupt",
          "evalue": "ignored",
          "traceback": [
            "\u001b[0;31m---------------------------------------------------------------------------\u001b[0m",
            "\u001b[0;31mKeyboardInterrupt\u001b[0m                         Traceback (most recent call last)",
            "\u001b[0;32m<ipython-input-69-a9f827d0969d>\u001b[0m in \u001b[0;36m<module>\u001b[0;34m()\u001b[0m\n\u001b[1;32m      3\u001b[0m \u001b[0mcount\u001b[0m \u001b[0;34m=\u001b[0m \u001b[0;36m1\u001b[0m\u001b[0;34m\u001b[0m\u001b[0;34m\u001b[0m\u001b[0m\n\u001b[1;32m      4\u001b[0m \u001b[0;34m\u001b[0m\u001b[0m\n\u001b[0;32m----> 5\u001b[0;31m \u001b[0;32mwhile\u001b[0m \u001b[0mcount\u001b[0m \u001b[0;34m<=\u001b[0m \u001b[0mvalue\u001b[0m\u001b[0;34m:\u001b[0m\u001b[0;34m\u001b[0m\u001b[0;34m\u001b[0m\u001b[0m\n\u001b[0m\u001b[1;32m      6\u001b[0m   \u001b[0msum_value\u001b[0m \u001b[0;34m+=\u001b[0m \u001b[0mcount\u001b[0m\u001b[0;34m\u001b[0m\u001b[0;34m\u001b[0m\u001b[0m\n\u001b[1;32m      7\u001b[0m \u001b[0mprint\u001b[0m\u001b[0;34m(\u001b[0m\u001b[0;34m\"1부터 %d까지의 합은 %d입니다.\"\u001b[0m \u001b[0;34m%\u001b[0m\u001b[0;34m(\u001b[0m\u001b[0mvalue\u001b[0m\u001b[0;34m,\u001b[0m \u001b[0msum_value\u001b[0m\u001b[0;34m)\u001b[0m\u001b[0;34m)\u001b[0m\u001b[0;34m\u001b[0m\u001b[0;34m\u001b[0m\u001b[0m\n",
            "\u001b[0;31mKeyboardInterrupt\u001b[0m: "
          ]
        }
      ]
    },
    {
      "cell_type": "code",
      "source": [
        "#고친다면\n",
        "while True: \n",
        "  sum_value += count\n",
        "  count += 1\n",
        "\n",
        "  if count == value:\n",
        "    break"
      ],
      "metadata": {
        "id": "tjO7Dsv97fLA"
      },
      "execution_count": null,
      "outputs": []
    }
  ]
}