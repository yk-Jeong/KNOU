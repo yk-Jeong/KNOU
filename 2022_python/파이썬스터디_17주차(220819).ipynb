{
  "nbformat": 4,
  "nbformat_minor": 0,
  "metadata": {
    "colab": {
      "name": "파이썬스터디_17주차(220819).ipynb",
      "provenance": [],
      "collapsed_sections": [],
      "authorship_tag": "ABX9TyPrrvC66Bo4tXZcfvm9UrVJ",
      "include_colab_link": true
    },
    "kernelspec": {
      "name": "python3",
      "display_name": "Python 3"
    },
    "language_info": {
      "name": "python"
    }
  },
  "cells": [
    {
      "cell_type": "markdown",
      "metadata": {
        "id": "view-in-github",
        "colab_type": "text"
      },
      "source": [
        "<a href=\"https://colab.research.google.com/github/yk-Jeong/KNOU/blob/main/%ED%8C%8C%EC%9D%B4%EC%8D%AC%EC%8A%A4%ED%84%B0%EB%94%94_17%EC%A3%BC%EC%B0%A8(220819).ipynb\" target=\"_parent\"><img src=\"https://colab.research.google.com/assets/colab-badge.svg\" alt=\"Open In Colab\"/></a>"
      ]
    },
    {
      "cell_type": "markdown",
      "source": [
        "1. 함수의 기본구성 \n",
        "- 함수의 기본 구성\n",
        "  - 호출과 정의 \n",
        "  - 매개변수(값을 전달할 필요가 없을 때는 생략할 수 있음)와 인수\n",
        "  - 전달되는 값이 여러 개일 때는 각각의 매개변수를 콤마로 구분함"
      ],
      "metadata": {
        "id": "RqOPVUI6DEHl"
      }
    },
    {
      "cell_type": "markdown",
      "source": [
        "###**재귀함수**\n",
        "- 자기 자신을 호출하는 함수를 재귀함수/재귀호출함수라고 한다. "
      ],
      "metadata": {
        "id": "ITUn5evCFmuv"
      }
    },
    {
      "cell_type": "code",
      "source": [
        "def factorial(n):\n",
        "  if n <= 1:\n",
        "    return 1\n",
        "  else:\n",
        "    return n * factorial(n - 1)"
      ],
      "metadata": {
        "id": "vXr3dHoHA8iF"
      },
      "execution_count": 6,
      "outputs": []
    },
    {
      "cell_type": "code",
      "source": [
        "factorial(3)"
      ],
      "metadata": {
        "colab": {
          "base_uri": "https://localhost:8080/"
        },
        "id": "6fDXdRWvGuLg",
        "outputId": "19d1d8fe-1096-46b8-9226-bb039e2f8b4a"
      },
      "execution_count": 7,
      "outputs": [
        {
          "output_type": "execute_result",
          "data": {
            "text/plain": [
              "6"
            ]
          },
          "metadata": {},
          "execution_count": 7
        }
      ]
    },
    {
      "cell_type": "markdown",
      "source": [
        "###람다함수 \n",
        "- lambda: 하나의 줄로 표현되는 익명 함수"
      ],
      "metadata": {
        "id": "Frwu_5LPIWvI"
      }
    },
    {
      "cell_type": "code",
      "source": [
        "lambda a, b : a + b"
      ],
      "metadata": {
        "colab": {
          "base_uri": "https://localhost:8080/"
        },
        "id": "vTPkr5v3G9hZ",
        "outputId": "0be30915-381e-49d0-b152-f398a0917352"
      },
      "execution_count": 8,
      "outputs": [
        {
          "output_type": "execute_result",
          "data": {
            "text/plain": [
              "<function __main__.<lambda>(a, b)>"
            ]
          },
          "metadata": {},
          "execution_count": 8
        }
      ]
    },
    {
      "cell_type": "code",
      "source": [
        "add = lambda a, b : a + b\n",
        "print(add(10, 20))"
      ],
      "metadata": {
        "colab": {
          "base_uri": "https://localhost:8080/"
        },
        "id": "vGz_A1dlIdYH",
        "outputId": "cfbce89a-a0c8-475d-b41c-e05f722b6d99"
      },
      "execution_count": 9,
      "outputs": [
        {
          "output_type": "stream",
          "name": "stdout",
          "text": [
            "30\n"
          ]
        }
      ]
    },
    {
      "cell_type": "markdown",
      "source": [
        "##변수 범위\n",
        "- 지역변수: 함수 내에서 정의된 변수로, 함수 안에서만 사용할 수 있다.\n",
        "- 함수가 호출될 때 만들어지며, 함수가 종료되면 소멸된다. "
      ],
      "metadata": {
        "id": "8zjMHTcvJfGS"
      }
    },
    {
      "cell_type": "code",
      "source": [
        "def print_hello():\n",
        "  hello = \"Hello World!\"\n",
        "  print(hello)\n",
        "\n",
        "print_hello()"
      ],
      "metadata": {
        "colab": {
          "base_uri": "https://localhost:8080/"
        },
        "id": "iDbeTlyKJJFt",
        "outputId": "ce83022d-d1fc-4b34-9a68-ef9af8a19d53"
      },
      "execution_count": 10,
      "outputs": [
        {
          "output_type": "stream",
          "name": "stdout",
          "text": [
            "Hello World!\n"
          ]
        }
      ]
    },
    {
      "cell_type": "code",
      "source": [
        "hello = 'Hello World!'\n",
        "\n",
        "print_hello()\n",
        "print(hello)"
      ],
      "metadata": {
        "colab": {
          "base_uri": "https://localhost:8080/"
        },
        "id": "-ap6i7_mJoef",
        "outputId": "96f2b723-f7ea-488a-e612-e97440e3090d"
      },
      "execution_count": 11,
      "outputs": [
        {
          "output_type": "stream",
          "name": "stdout",
          "text": [
            "Hello World!\n",
            "Hello World!\n"
          ]
        }
      ]
    },
    {
      "cell_type": "markdown",
      "source": [
        "만약 함수 밖에서 `hello = 'good'`으로 할당하고 함수를 재호출한다면? "
      ],
      "metadata": {
        "id": "CgTekBlaLVOs"
      }
    },
    {
      "cell_type": "code",
      "source": [
        "hello = 'good'\n",
        "print(hello)\n",
        "print_hello() "
      ],
      "metadata": {
        "colab": {
          "base_uri": "https://localhost:8080/"
        },
        "id": "YsbiFjy_KrPS",
        "outputId": "0fb246bd-7fe3-4606-8132-034a3682d2a9"
      },
      "execution_count": 12,
      "outputs": [
        {
          "output_type": "stream",
          "name": "stdout",
          "text": [
            "good\n",
            "Hello World!\n"
          ]
        }
      ]
    },
    {
      "cell_type": "code",
      "source": [
        "def print_Hello():\n",
        "  print(hello)\n",
        "  hello = 'Hello'\n",
        "  print(hello)\n",
        "\n",
        "hello = \"Hello World!\"\n",
        "print(hello)"
      ],
      "metadata": {
        "colab": {
          "base_uri": "https://localhost:8080/"
        },
        "id": "KhpPF0qFLf0o",
        "outputId": "c3a79766-b4af-40b0-c997-3a277f1f98f6"
      },
      "execution_count": 17,
      "outputs": [
        {
          "output_type": "stream",
          "name": "stdout",
          "text": [
            "Hello World!\n"
          ]
        }
      ]
    },
    {
      "cell_type": "code",
      "source": [
        "print_Hello() \n",
        "# 무슨 에러가 나는지, 왜 나는지 관찰해보자. "
      ],
      "metadata": {
        "colab": {
          "base_uri": "https://localhost:8080/",
          "height": 303
        },
        "id": "D-OjI_g0NM30",
        "outputId": "0240f41b-60f9-40a0-916f-8fe38db3eb5e"
      },
      "execution_count": 19,
      "outputs": [
        {
          "output_type": "error",
          "ename": "UnboundLocalError",
          "evalue": "ignored",
          "traceback": [
            "\u001b[0;31m---------------------------------------------------------------------------\u001b[0m",
            "\u001b[0;31mUnboundLocalError\u001b[0m                         Traceback (most recent call last)",
            "\u001b[0;32m<ipython-input-19-f41ae2894f5c>\u001b[0m in \u001b[0;36m<module>\u001b[0;34m\u001b[0m\n\u001b[0;32m----> 1\u001b[0;31m \u001b[0mprint_Hello\u001b[0m\u001b[0;34m(\u001b[0m\u001b[0;34m)\u001b[0m\u001b[0;34m\u001b[0m\u001b[0;34m\u001b[0m\u001b[0m\n\u001b[0m",
            "\u001b[0;32m<ipython-input-17-8d0c868e4305>\u001b[0m in \u001b[0;36mprint_Hello\u001b[0;34m()\u001b[0m\n\u001b[1;32m      1\u001b[0m \u001b[0;32mdef\u001b[0m \u001b[0mprint_Hello\u001b[0m\u001b[0;34m(\u001b[0m\u001b[0;34m)\u001b[0m\u001b[0;34m:\u001b[0m\u001b[0;34m\u001b[0m\u001b[0;34m\u001b[0m\u001b[0m\n\u001b[0;32m----> 2\u001b[0;31m   \u001b[0mprint\u001b[0m\u001b[0;34m(\u001b[0m\u001b[0mhello\u001b[0m\u001b[0;34m)\u001b[0m\u001b[0;34m\u001b[0m\u001b[0;34m\u001b[0m\u001b[0m\n\u001b[0m\u001b[1;32m      3\u001b[0m   \u001b[0mhello\u001b[0m \u001b[0;34m=\u001b[0m \u001b[0;34m'Hello'\u001b[0m\u001b[0;34m\u001b[0m\u001b[0;34m\u001b[0m\u001b[0m\n\u001b[1;32m      4\u001b[0m   \u001b[0mprint\u001b[0m\u001b[0;34m(\u001b[0m\u001b[0mhello\u001b[0m\u001b[0;34m)\u001b[0m\u001b[0;34m\u001b[0m\u001b[0;34m\u001b[0m\u001b[0m\n\u001b[1;32m      5\u001b[0m \u001b[0;34m\u001b[0m\u001b[0m\n",
            "\u001b[0;31mUnboundLocalError\u001b[0m: local variable 'hello' referenced before assignment"
          ]
        }
      ]
    },
    {
      "cell_type": "code",
      "source": [
        "def print_Hello(hello):\n",
        "  print(hello)\n",
        "  hello = 'Hello'\n",
        "  print(hello)\n",
        "\n",
        "# 함수 바깥에서 변수를 호출하였으므로, hello가 아니라 원래 전역변수에 할당된 hello print가 출력된다. \n",
        "print(hello)"
      ],
      "metadata": {
        "colab": {
          "base_uri": "https://localhost:8080/"
        },
        "id": "8YEJX0JWNZDC",
        "outputId": "9668b51b-0484-471c-e6eb-3da1a4a42d96"
      },
      "execution_count": 20,
      "outputs": [
        {
          "output_type": "stream",
          "name": "stdout",
          "text": [
            "Hello World!\n"
          ]
        }
      ]
    },
    {
      "cell_type": "code",
      "source": [
        "def call_by_value(val):\n",
        "  val = 10\n",
        "  print(val)\n",
        "\n",
        "val = 1\n",
        "\n",
        "call_by_value(val)\n",
        "print(val)"
      ],
      "metadata": {
        "colab": {
          "base_uri": "https://localhost:8080/"
        },
        "id": "KKzrI6kSOpe2",
        "outputId": "01ef1cb0-1840-46b7-9a91-a35ab6e51c33"
      },
      "execution_count": 24,
      "outputs": [
        {
          "output_type": "stream",
          "name": "stdout",
          "text": [
            "10\n",
            "1\n"
          ]
        }
      ]
    },
    {
      "cell_type": "code",
      "source": [
        "def call_by_ref(ref):\n",
        "  ref[0] = 10\n",
        "  print(ref)\n",
        "\n",
        "ref = [1]\n",
        "\n",
        "call_by_ref(ref)"
      ],
      "metadata": {
        "colab": {
          "base_uri": "https://localhost:8080/"
        },
        "id": "L71exQeYPiMS",
        "outputId": "0dfbda1e-4579-4476-aae5-214b6f4e2adb"
      },
      "execution_count": 25,
      "outputs": [
        {
          "output_type": "stream",
          "name": "stdout",
          "text": [
            "[10]\n"
          ]
        }
      ]
    },
    {
      "cell_type": "code",
      "source": [
        "# 왜 10이 나올까? \n",
        "print(ref)"
      ],
      "metadata": {
        "colab": {
          "base_uri": "https://localhost:8080/"
        },
        "id": "LWUI1JAEQN2l",
        "outputId": "3e423094-654e-48d8-a077-cc79d6d6c75a"
      },
      "execution_count": 26,
      "outputs": [
        {
          "output_type": "stream",
          "name": "stdout",
          "text": [
            "[10]\n"
          ]
        }
      ]
    },
    {
      "cell_type": "code",
      "source": [
        "ref = [1]"
      ],
      "metadata": {
        "id": "XH5xpSFnR6A4"
      },
      "execution_count": 30,
      "outputs": []
    },
    {
      "cell_type": "markdown",
      "source": [
        "랜덤으로 아무 원소나 가져오는 게 아니냐는 질문을 한 분이 계셔서 왜 출력값이 저것인지 쉽게 정리해봄 \n",
        "\n",
        "![image.png](data:image/png;base64,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)"
      ],
      "metadata": {
        "id": "JhJY2emRSznd"
      }
    },
    {
      "cell_type": "code",
      "source": [
        ""
      ],
      "metadata": {
        "id": "GPCTMUGwSMH0"
      },
      "execution_count": null,
      "outputs": []
    }
  ]
}
