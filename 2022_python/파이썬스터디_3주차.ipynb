{
  "nbformat": 4,
  "nbformat_minor": 0,
  "metadata": {
    "colab": {
      "name": "파이썬스터디_3주차.ipynb",
      "provenance": [],
      "collapsed_sections": [],
      "authorship_tag": "ABX9TyPYq4DZ0QXiPRwM6W3xnisb",
      "include_colab_link": true
    },
    "kernelspec": {
      "name": "python3",
      "display_name": "Python 3"
    },
    "language_info": {
      "name": "python"
    }
  },
  "cells": [
    {
      "cell_type": "markdown",
      "metadata": {
        "id": "view-in-github",
        "colab_type": "text"
      },
      "source": [
        "<a href=\"https://colab.research.google.com/github/yk-Jeong/KNOU/blob/main/%ED%8C%8C%EC%9D%B4%EC%8D%AC%EC%8A%A4%ED%84%B0%EB%94%94_3%EC%A3%BC%EC%B0%A8.ipynb\" target=\"_parent\"><img src=\"https://colab.research.google.com/assets/colab-badge.svg\" alt=\"Open In Colab\"/></a>"
      ]
    },
    {
      "cell_type": "markdown",
      "source": [
        "- 리스트\n",
        ": 파이썬은 실제로는 배열이 없지만, 리스트 배열의 기능을 함 "
      ],
      "metadata": {
        "id": "GV4ZkOlqx8Yu"
      }
    },
    {
      "cell_type": "code",
      "execution_count": 7,
      "metadata": {
        "colab": {
          "base_uri": "https://localhost:8080/"
        },
        "id": "k8mcUxIyxy5V",
        "outputId": "b68a4da1-ed3d-4b58-f692-7aa57bfdc1f7"
      },
      "outputs": [
        {
          "output_type": "stream",
          "name": "stdout",
          "text": [
            "3.7.12 (default, Jan 15 2022, 18:48:18) \n",
            "[GCC 7.5.0]\n"
          ]
        }
      ],
      "source": [
        "#번외: 구글 코랩에서 파이썬 버전 확인하는 코드 \n",
        "import sys \n",
        "print(sys.version)\n",
        "\n",
        "#cmd에서는 python --version "
      ]
    },
    {
      "cell_type": "markdown",
      "source": [
        "f-string method: ver 3.6부터 사용 가능"
      ],
      "metadata": {
        "id": "K0ICUGnv0A8H"
      }
    },
    {
      "cell_type": "code",
      "source": [
        "year =2022\n",
        "month = 2\n",
        "day = 25\n",
        "date = '금'\n",
        "today = f'오늘은 {year}년 {month}월 {day}일 {date}요일'\n",
        "print(today)"
      ],
      "metadata": {
        "colab": {
          "base_uri": "https://localhost:8080/"
        },
        "id": "vAha6NS6zrx6",
        "outputId": "16fb35ca-4e2e-4f24-eedf-178edeb2d54b"
      },
      "execution_count": 2,
      "outputs": [
        {
          "output_type": "stream",
          "name": "stdout",
          "text": [
            "오늘은 2022년 2월 25일 금요일\n"
          ]
        }
      ]
    },
    {
      "cell_type": "code",
      "source": [
        "print((\"오늘은 %d년 %d월 %d일 %s요일입니다.\") %(year, month, day, date))"
      ],
      "metadata": {
        "colab": {
          "base_uri": "https://localhost:8080/"
        },
        "id": "EXHz-BmEz43X",
        "outputId": "f9556573-5516-4fdb-f51a-b99f7c81e539"
      },
      "execution_count": 12,
      "outputs": [
        {
          "output_type": "stream",
          "name": "stdout",
          "text": [
            "오늘은 2022년 2월 25일 금요일입니다.\n"
          ]
        }
      ]
    },
    {
      "cell_type": "markdown",
      "source": [
        "del과 in \n",
        "- del: 내부의 값 삭제 \n",
        "- in: 내부에 어떤 문자열이 있는지 확인"
      ],
      "metadata": {
        "id": "CylGeaZG3Guj"
      }
    },
    {
      "cell_type": "code",
      "source": [
        "value = list(range(0, 100, 10))"
      ],
      "metadata": {
        "id": "RYsoex2I1aoW"
      },
      "execution_count": 13,
      "outputs": []
    },
    {
      "cell_type": "code",
      "source": [
        "print(value)"
      ],
      "metadata": {
        "colab": {
          "base_uri": "https://localhost:8080/"
        },
        "id": "IRjfcZom3MuW",
        "outputId": "1c083845-6a3b-4058-96b6-1efc9fd397b8"
      },
      "execution_count": 14,
      "outputs": [
        {
          "output_type": "stream",
          "name": "stdout",
          "text": [
            "[0, 10, 20, 30, 40, 50, 60, 70, 80, 90]\n"
          ]
        }
      ]
    },
    {
      "cell_type": "code",
      "source": [
        "30 in value, 20 in value"
      ],
      "metadata": {
        "colab": {
          "base_uri": "https://localhost:8080/"
        },
        "id": "J5MIYyFo3NPr",
        "outputId": "ad477155-b5ff-43ef-ee46-5308ec3e4242"
      },
      "execution_count": 15,
      "outputs": [
        {
          "output_type": "execute_result",
          "data": {
            "text/plain": [
              "(True, True)"
            ]
          },
          "metadata": {},
          "execution_count": 15
        }
      ]
    },
    {
      "cell_type": "markdown",
      "source": [
        "- 리스트 내부 메서드\n",
        ": 리스트 뒤에 점을 붙인 다음 메서드 이름을 적는다."
      ],
      "metadata": {
        "id": "xoDN8jJT3wwC"
      }
    },
    {
      "cell_type": "code",
      "source": [
        "#append(): 리스트의 맨 끝에 들어간다. \n",
        "\n",
        "names1 = ['kim', 'lee']\n",
        "names2 = ['park', 'choi']\n",
        "\n",
        "print(names1 + names2)"
      ],
      "metadata": {
        "colab": {
          "base_uri": "https://localhost:8080/"
        },
        "id": "ZPd2HcbM3Oec",
        "outputId": "efca8bd7-d442-4363-b5e2-227a74b7886d"
      },
      "execution_count": 24,
      "outputs": [
        {
          "output_type": "stream",
          "name": "stdout",
          "text": [
            "['kim', 'lee', 'park', 'choi']\n"
          ]
        }
      ]
    },
    {
      "cell_type": "markdown",
      "source": [
        "append()와 extend(), insert()의 차이를 비교해보자."
      ],
      "metadata": {
        "id": "or6S_hpg5Bxb"
      }
    },
    {
      "cell_type": "code",
      "source": [
        "names1.append(names2)\n",
        "names1"
      ],
      "metadata": {
        "colab": {
          "base_uri": "https://localhost:8080/"
        },
        "id": "RTeA4yi44foV",
        "outputId": "494f29f2-9cf6-44b4-c53e-c665c4200d74"
      },
      "execution_count": 19,
      "outputs": [
        {
          "output_type": "execute_result",
          "data": {
            "text/plain": [
              "['kim', 'lee', ['park', 'choi']]"
            ]
          },
          "metadata": {},
          "execution_count": 19
        }
      ]
    },
    {
      "cell_type": "code",
      "source": [
        "names1.extend(names2)\n",
        "names1"
      ],
      "metadata": {
        "colab": {
          "base_uri": "https://localhost:8080/"
        },
        "id": "ZsyqUo-l4sDE",
        "outputId": "ffe572a8-1d37-43a8-b6dd-4b8f5668749d"
      },
      "execution_count": 23,
      "outputs": [
        {
          "output_type": "execute_result",
          "data": {
            "text/plain": [
              "['kim', 'lee', 'park', 'choi']"
            ]
          },
          "metadata": {},
          "execution_count": 23
        }
      ]
    },
    {
      "cell_type": "code",
      "source": [
        "names1 = [\"Kim\", \"Lee\"]\n",
        "names1.insert(0, \"Park\")\n",
        "names1"
      ],
      "metadata": {
        "colab": {
          "base_uri": "https://localhost:8080/"
        },
        "id": "iIGDP4Qz47Hg",
        "outputId": "53eee2dc-4df2-42d3-efc8-13ced3799384"
      },
      "execution_count": 28,
      "outputs": [
        {
          "output_type": "execute_result",
          "data": {
            "text/plain": [
              "['Park', 'Kim', 'Lee']"
            ]
          },
          "metadata": {},
          "execution_count": 28
        }
      ]
    },
    {
      "cell_type": "code",
      "source": [
        "names1 = [\"Kim\", \"Lee\"]\n",
        "names1.insert(10, \"Park\")\n",
        "names1"
      ],
      "metadata": {
        "colab": {
          "base_uri": "https://localhost:8080/"
        },
        "id": "JVMmAxV547v5",
        "outputId": "eca6f4ff-380c-4365-daa1-7f78f369b41d"
      },
      "execution_count": 29,
      "outputs": [
        {
          "output_type": "execute_result",
          "data": {
            "text/plain": [
              "['Kim', 'Lee', 'Park']"
            ]
          },
          "metadata": {},
          "execution_count": 29
        }
      ]
    },
    {
      "cell_type": "markdown",
      "source": [
        "del과 remove: 인덱스를 모를 경우 remove를, 알 경우 del을 사용한다."
      ],
      "metadata": {
        "id": "FcT8vC8M6GC5"
      }
    },
    {
      "cell_type": "code",
      "source": [
        "names = [\"park\", \"kim\", \"lee\", \"park\", \"park\"]\n",
        "names.remove(\"park\")\n",
        "names"
      ],
      "metadata": {
        "colab": {
          "base_uri": "https://localhost:8080/"
        },
        "id": "jUruIZI054p_",
        "outputId": "dd5241e8-599f-417d-8b76-600befb4e75d"
      },
      "execution_count": 35,
      "outputs": [
        {
          "output_type": "execute_result",
          "data": {
            "text/plain": [
              "['kim', 'lee', 'park', 'park']"
            ]
          },
          "metadata": {},
          "execution_count": 35
        }
      ]
    },
    {
      "cell_type": "code",
      "source": [
        "names = [\"park\", \"kim\", \"lee\", \"park\", \"park\"]\n",
        "del names[0]\n",
        "names"
      ],
      "metadata": {
        "colab": {
          "base_uri": "https://localhost:8080/"
        },
        "id": "3p_q5DDI6TV0",
        "outputId": "9c914cf6-756e-46cf-8574-6379f386889e"
      },
      "execution_count": 36,
      "outputs": [
        {
          "output_type": "execute_result",
          "data": {
            "text/plain": [
              "['kim', 'lee', 'park', 'park']"
            ]
          },
          "metadata": {},
          "execution_count": 36
        }
      ]
    },
    {
      "cell_type": "code",
      "source": [
        "#cf.clear: 리스트를 아예 비워줌 \n",
        "names.clear() \n",
        "names"
      ],
      "metadata": {
        "colab": {
          "base_uri": "https://localhost:8080/"
        },
        "id": "R1L2S9Vi6UF8",
        "outputId": "ffc3c511-b39e-4f71-bf26-a3a3d8b135e5"
      },
      "execution_count": 40,
      "outputs": [
        {
          "output_type": "execute_result",
          "data": {
            "text/plain": [
              "[]"
            ]
          },
          "metadata": {},
          "execution_count": 40
        }
      ]
    },
    {
      "cell_type": "code",
      "source": [
        "names = [\"park\", \"kim\", \"lee\", \"park\", \"park\"]\n",
        "names.pop(0)\n",
        "names"
      ],
      "metadata": {
        "colab": {
          "base_uri": "https://localhost:8080/"
        },
        "id": "A6Lj5yLy7EDi",
        "outputId": "f18e47eb-950f-4af8-e8f0-4df1974942ec"
      },
      "execution_count": 45,
      "outputs": [
        {
          "output_type": "execute_result",
          "data": {
            "text/plain": [
              "['kim', 'lee', 'park', 'park']"
            ]
          },
          "metadata": {},
          "execution_count": 45
        }
      ]
    },
    {
      "cell_type": "code",
      "source": [
        "names.pop(1)"
      ],
      "metadata": {
        "colab": {
          "base_uri": "https://localhost:8080/",
          "height": 35
        },
        "id": "8nLw2AbC7Gad",
        "outputId": "a76ca33a-cf99-492e-93ae-b29c65a6b14b"
      },
      "execution_count": 46,
      "outputs": [
        {
          "output_type": "execute_result",
          "data": {
            "application/vnd.google.colaboratory.intrinsic+json": {
              "type": "string"
            },
            "text/plain": [
              "'lee'"
            ]
          },
          "metadata": {},
          "execution_count": 46
        }
      ]
    },
    {
      "cell_type": "code",
      "source": [
        "names"
      ],
      "metadata": {
        "colab": {
          "base_uri": "https://localhost:8080/"
        },
        "id": "834PO1i39AV2",
        "outputId": "f5446680-07bb-43c9-c80b-76a923b0ff82"
      },
      "execution_count": 47,
      "outputs": [
        {
          "output_type": "execute_result",
          "data": {
            "text/plain": [
              "['kim', 'park', 'park']"
            ]
          },
          "metadata": {},
          "execution_count": 47
        }
      ]
    },
    {
      "cell_type": "code",
      "source": [
        "names.pop(-1)"
      ],
      "metadata": {
        "colab": {
          "base_uri": "https://localhost:8080/",
          "height": 35
        },
        "id": "RyxOEEvJ9BGm",
        "outputId": "eae19e93-51fa-4c20-a25a-33d49665c861"
      },
      "execution_count": 48,
      "outputs": [
        {
          "output_type": "execute_result",
          "data": {
            "application/vnd.google.colaboratory.intrinsic+json": {
              "type": "string"
            },
            "text/plain": [
              "'park'"
            ]
          },
          "metadata": {},
          "execution_count": 48
        }
      ]
    },
    {
      "cell_type": "code",
      "source": [
        "\n",
        "names"
      ],
      "metadata": {
        "colab": {
          "base_uri": "https://localhost:8080/"
        },
        "id": "nWau0ewM9Dot",
        "outputId": "dd2b9d5c-467c-4dea-f9c7-c4319b4c6871"
      },
      "execution_count": 49,
      "outputs": [
        {
          "output_type": "execute_result",
          "data": {
            "text/plain": [
              "['kim', 'park']"
            ]
          },
          "metadata": {},
          "execution_count": 49
        }
      ]
    },
    {
      "cell_type": "markdown",
      "source": [
        "index(): 요소 값에 해당하는 인덱스를 알고 싶을 때. 쉽게 말해 \"몇 번째인가?\"\n",
        "<br> 같은 값이 있을 경우 맨 앞 요소의 인덱스를 반환"
      ],
      "metadata": {
        "id": "9Ts2Gp2U9HsC"
      }
    },
    {
      "cell_type": "code",
      "source": [
        "names = [\"park\", \"kim\", \"lee\", \"park\", \"park\"]\n",
        "names.index(\"park\")"
      ],
      "metadata": {
        "colab": {
          "base_uri": "https://localhost:8080/"
        },
        "id": "8XQZnTmy9FsJ",
        "outputId": "1585f915-7c86-45c7-850c-c2226adc6ee8"
      },
      "execution_count": 50,
      "outputs": [
        {
          "output_type": "execute_result",
          "data": {
            "text/plain": [
              "0"
            ]
          },
          "metadata": {},
          "execution_count": 50
        }
      ]
    },
    {
      "cell_type": "code",
      "source": [
        "names = ['kim', 'lee', 'park', 'choi', 'kim', 'kim', 'lee']\n",
        "len(names), names.count('kim'), names.count('lee'), names.count('yoon')"
      ],
      "metadata": {
        "colab": {
          "base_uri": "https://localhost:8080/"
        },
        "id": "8-d-zsoM9Vi4",
        "outputId": "f71a8e65-bfa6-4548-c5fe-b77c7d16b888"
      },
      "execution_count": 52,
      "outputs": [
        {
          "output_type": "execute_result",
          "data": {
            "text/plain": [
              "(7, 3, 2, 0)"
            ]
          },
          "metadata": {},
          "execution_count": 52
        }
      ]
    },
    {
      "cell_type": "code",
      "source": [
        "#join(): 리스트를 문자열로 결합\n",
        "\n",
        "hello = \"Hello kim nice to meet you\"\n",
        "hello"
      ],
      "metadata": {
        "colab": {
          "base_uri": "https://localhost:8080/",
          "height": 35
        },
        "id": "yYYF3j7x-_IV",
        "outputId": "e4398204-12f4-4d92-ff82-4841e450fdda"
      },
      "execution_count": 54,
      "outputs": [
        {
          "output_type": "execute_result",
          "data": {
            "application/vnd.google.colaboratory.intrinsic+json": {
              "type": "string"
            },
            "text/plain": [
              "'Hello kim nice to meet you'"
            ]
          },
          "metadata": {},
          "execution_count": 54
        }
      ]
    },
    {
      "cell_type": "code",
      "source": [
        "hello.split()"
      ],
      "metadata": {
        "colab": {
          "base_uri": "https://localhost:8080/"
        },
        "id": "mSuiRQSM_Ilh",
        "outputId": "d6a7f820-b198-41c5-d387-fec3e87be7b7"
      },
      "execution_count": 55,
      "outputs": [
        {
          "output_type": "execute_result",
          "data": {
            "text/plain": [
              "['Hello', 'kim', 'nice', 'to', 'meet', 'you']"
            ]
          },
          "metadata": {},
          "execution_count": 55
        }
      ]
    },
    {
      "cell_type": "code",
      "source": [
        "hello = ','.join(hello)"
      ],
      "metadata": {
        "id": "_AkLck0I_MnL"
      },
      "execution_count": 56,
      "outputs": []
    },
    {
      "cell_type": "code",
      "source": [
        "hello"
      ],
      "metadata": {
        "colab": {
          "base_uri": "https://localhost:8080/",
          "height": 35
        },
        "id": "fEpcqk2z_Pse",
        "outputId": "7ed14ab7-e172-4794-a53c-611622e83355"
      },
      "execution_count": 57,
      "outputs": [
        {
          "output_type": "execute_result",
          "data": {
            "application/vnd.google.colaboratory.intrinsic+json": {
              "type": "string"
            },
            "text/plain": [
              "'H,e,l,l,o, ,k,i,m, ,n,i,c,e, ,t,o, ,m,e,e,t, ,y,o,u'"
            ]
          },
          "metadata": {},
          "execution_count": 57
        }
      ]
    },
    {
      "cell_type": "markdown",
      "source": [
        "sort(): 메소드, sorted(): 함수\n"
      ],
      "metadata": {
        "id": "baWyZsPzAI60"
      }
    },
    {
      "cell_type": "code",
      "source": [
        "names = ['kim', 'lee', 'park', 'choi']\n",
        "sorted(names)"
      ],
      "metadata": {
        "colab": {
          "base_uri": "https://localhost:8080/"
        },
        "id": "XK-lq1kF_Qh0",
        "outputId": "288f2461-a01b-43bf-ccb0-13a0e826fff8"
      },
      "execution_count": 64,
      "outputs": [
        {
          "output_type": "execute_result",
          "data": {
            "text/plain": [
              "['choi', 'kim', 'lee', 'park']"
            ]
          },
          "metadata": {},
          "execution_count": 64
        }
      ]
    },
    {
      "cell_type": "code",
      "source": [
        "sorted(names, reverse = True)"
      ],
      "metadata": {
        "colab": {
          "base_uri": "https://localhost:8080/"
        },
        "id": "139G47tiARFM",
        "outputId": "8e378134-4ebf-488f-9885-87f43da45f9e"
      },
      "execution_count": 65,
      "outputs": [
        {
          "output_type": "execute_result",
          "data": {
            "text/plain": [
              "['park', 'lee', 'kim', 'choi']"
            ]
          },
          "metadata": {},
          "execution_count": 65
        }
      ]
    },
    {
      "cell_type": "code",
      "source": [
        "names.sort()\n",
        "names "
      ],
      "metadata": {
        "colab": {
          "base_uri": "https://localhost:8080/"
        },
        "id": "huaO1rQfAU-i",
        "outputId": "cc032e74-27ba-4745-b8b9-f76e6794e815"
      },
      "execution_count": 66,
      "outputs": [
        {
          "output_type": "execute_result",
          "data": {
            "text/plain": [
              "['choi', 'kim', 'lee', 'park']"
            ]
          },
          "metadata": {},
          "execution_count": 66
        }
      ]
    },
    {
      "cell_type": "markdown",
      "source": [
        "연습문제 "
      ],
      "metadata": {
        "id": "Sc9-GWDWBE_U"
      }
    },
    {
      "cell_type": "code",
      "source": [
        "a = list(range(1, 10, 2))\n",
        "a"
      ],
      "metadata": {
        "colab": {
          "base_uri": "https://localhost:8080/"
        },
        "id": "-8cpbgJ0Aaba",
        "outputId": "50b13d3b-1e5a-4de1-e965-e104f4529a96"
      },
      "execution_count": 70,
      "outputs": [
        {
          "output_type": "execute_result",
          "data": {
            "text/plain": [
              "[1, 3, 5, 7, 9]"
            ]
          },
          "metadata": {},
          "execution_count": 70
        }
      ]
    },
    {
      "cell_type": "code",
      "source": [
        "b = list(range(1, 11))\n",
        "b\n",
        "\n",
        "b_1 = b[:5]\n",
        "b_2 = b[5:11]\n",
        "print(b_1)\n",
        "print(b_2)"
      ],
      "metadata": {
        "colab": {
          "base_uri": "https://localhost:8080/"
        },
        "id": "iuUrmJAtBZ8P",
        "outputId": "0cf01143-ddb7-4f55-eaee-286aeb352896"
      },
      "execution_count": 84,
      "outputs": [
        {
          "output_type": "stream",
          "name": "stdout",
          "text": [
            "[1, 2, 3, 4, 5]\n",
            "[6, 7, 8, 9, 10]\n"
          ]
        }
      ]
    },
    {
      "cell_type": "code",
      "source": [
        "strings = \"A B C D E\"\n",
        "strings"
      ],
      "metadata": {
        "colab": {
          "base_uri": "https://localhost:8080/",
          "height": 35
        },
        "id": "Cu02WAjqDOjb",
        "outputId": "99582fd9-9f37-4d2f-8b3a-25eee2f2d810"
      },
      "execution_count": 13,
      "outputs": [
        {
          "output_type": "execute_result",
          "data": {
            "application/vnd.google.colaboratory.intrinsic+json": {
              "type": "string"
            },
            "text/plain": [
              "'A B C D E'"
            ]
          },
          "metadata": {},
          "execution_count": 13
        }
      ]
    },
    {
      "cell_type": "code",
      "source": [
        "strings = strings.split()\n",
        "strings"
      ],
      "metadata": {
        "colab": {
          "base_uri": "https://localhost:8080/"
        },
        "id": "XsWlW8XsDkmn",
        "outputId": "18826d20-763b-41fb-d026-490f1db754b8"
      },
      "execution_count": 14,
      "outputs": [
        {
          "output_type": "execute_result",
          "data": {
            "text/plain": [
              "['A', 'B', 'C', 'D', 'E']"
            ]
          },
          "metadata": {},
          "execution_count": 14
        }
      ]
    },
    {
      "cell_type": "code",
      "source": [
        "strings = ''.join(strings)\n",
        "strings"
      ],
      "metadata": {
        "colab": {
          "base_uri": "https://localhost:8080/",
          "height": 35
        },
        "id": "CF2MNLW2DxMg",
        "outputId": "fce6f1de-09ed-42c0-f092-17bc30ca3974"
      },
      "execution_count": 12,
      "outputs": [
        {
          "output_type": "execute_result",
          "data": {
            "application/vnd.google.colaboratory.intrinsic+json": {
              "type": "string"
            },
            "text/plain": [
              "'ABCDE'"
            ]
          },
          "metadata": {},
          "execution_count": 12
        }
      ]
    },
    {
      "cell_type": "code",
      "source": [
        ""
      ],
      "metadata": {
        "id": "hItPGI3wEZZP"
      },
      "execution_count": 106,
      "outputs": []
    }
  ]
}
