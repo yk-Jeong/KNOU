{
  "nbformat": 4,
  "nbformat_minor": 0,
  "metadata": {
    "colab": {
      "name": "파이썬스터디_6주차.ipynb",
      "provenance": [],
      "authorship_tag": "ABX9TyPgayqC4pkRXyJ0jv2fMOGi",
      "include_colab_link": true
    },
    "kernelspec": {
      "name": "python3",
      "display_name": "Python 3"
    },
    "language_info": {
      "name": "python"
    }
  },
  "cells": [
    {
      "cell_type": "markdown",
      "metadata": {
        "id": "view-in-github",
        "colab_type": "text"
      },
      "source": [
        "<a href=\"https://colab.research.google.com/github/yk-Jeong/KNOU/blob/main/%ED%8C%8C%EC%9D%B4%EC%8D%AC%EC%8A%A4%ED%84%B0%EB%94%94_6%EC%A3%BC%EC%B0%A8.ipynb\" target=\"_parent\"><img src=\"https://colab.research.google.com/assets/colab-badge.svg\" alt=\"Open In Colab\"/></a>"
      ]
    },
    {
      "cell_type": "markdown",
      "source": [
        "**for문**\n",
        "\n",
        "형식: \n",
        "\n",
        "for 변수들 in 시퀀스 \n",
        "문장"
      ],
      "metadata": {
        "id": "RZ5uVb9cEB8k"
      }
    },
    {
      "cell_type": "code",
      "execution_count": null,
      "metadata": {
        "colab": {
          "base_uri": "https://localhost:8080/"
        },
        "id": "dZDR2_rE_Rhy",
        "outputId": "c73ecd8f-e8f0-4e1c-d867-86fa7ef723d9"
      },
      "outputs": [
        {
          "output_type": "stream",
          "name": "stdout",
          "text": [
            "kim\n",
            "lee\n",
            "park\n",
            "choi\n"
          ]
        }
      ],
      "source": [
        "names = ['kim', 'lee', 'park', 'choi']\n",
        "for name in names:\n",
        "  print(name)"
      ]
    },
    {
      "cell_type": "code",
      "source": [
        "values = [10, 20, 30, 40, 50]\n",
        "print(values)\n",
        "for v in values:\n",
        "  v +=1 \n",
        "\n",
        "print(values)"
      ],
      "metadata": {
        "colab": {
          "base_uri": "https://localhost:8080/"
        },
        "id": "cv4EjXoFDfct",
        "outputId": "31a8722c-d3fb-460e-bb23-32743910ceb8"
      },
      "execution_count": null,
      "outputs": [
        {
          "output_type": "stream",
          "name": "stdout",
          "text": [
            "[10, 20, 30, 40, 50]\n",
            "[10, 20, 30, 40, 50]\n"
          ]
        }
      ]
    },
    {
      "cell_type": "code",
      "source": [
        "values = [90, 80, 95, 70]\n",
        "\n",
        "sum_value = 0\n",
        "\n",
        "for value in values:\n",
        "  sum_value = sum_value + value\n",
        "\n",
        "aver_value = sum_value / len(values)\n",
        "\n",
        "print(\"합계 = %.2f, 평균= %.2f\" %(sum_value, aver_value))"
      ],
      "metadata": {
        "colab": {
          "base_uri": "https://localhost:8080/"
        },
        "id": "-gn_8WL-Dp3g",
        "outputId": "62b9c115-db4e-44d7-fb2a-4d7db4e41070"
      },
      "execution_count": null,
      "outputs": [
        {
          "output_type": "stream",
          "name": "stdout",
          "text": [
            "합계 = 335.00, 평균= 83.75\n"
          ]
        }
      ]
    },
    {
      "cell_type": "code",
      "source": [
        "str = \"Hello,World!\"\n",
        "for word in str.split(','):\n",
        "  print(word)\n",
        "\n",
        "str = \"Hello World!\"\n",
        "for word in str.split(' '):\n",
        "  print(word)"
      ],
      "metadata": {
        "colab": {
          "base_uri": "https://localhost:8080/"
        },
        "id": "fhAhCO0yHqAJ",
        "outputId": "0bbb7ce8-db20-44cc-b41a-81cc7e21d5ba"
      },
      "execution_count": null,
      "outputs": [
        {
          "output_type": "stream",
          "name": "stdout",
          "text": [
            "Hello\n",
            "World!\n",
            "Hello\n",
            "World!\n"
          ]
        }
      ]
    },
    {
      "cell_type": "code",
      "source": [
        "numbers = [273, 103, 5, 32, 65, 9, 72, 800, 99]\n",
        "for num in numbers:\n",
        "  if num >= 100:\n",
        "    print(f'- 100 이상의 수 : {num}')"
      ],
      "metadata": {
        "colab": {
          "base_uri": "https://localhost:8080/"
        },
        "id": "lNsgqSoXKGVz",
        "outputId": "872621d7-27d7-4826-d3ee-d3b1505f994e"
      },
      "execution_count": null,
      "outputs": [
        {
          "output_type": "stream",
          "name": "stdout",
          "text": [
            "- 100 이상의 수 : 273\n",
            "- 100 이상의 수 : 103\n",
            "- 100 이상의 수 : 800\n"
          ]
        }
      ]
    },
    {
      "cell_type": "markdown",
      "source": [
        "중첩 리스트의 해체\n",
        "\n",
        "참고: https://programmers.co.kr/learn/courses/4008/lessons/12738"
      ],
      "metadata": {
        "id": "r-ob1vEgN-Gd"
      }
    },
    {
      "cell_type": "code",
      "source": [
        "list_of_list = [[1, 2, 3], [4, 5, 6, 7], [8, 9]]\n",
        "\n",
        "answer = []\n",
        "for elements in list_of_list:\n",
        "  answer += elements\n",
        "answer"
      ],
      "metadata": {
        "colab": {
          "base_uri": "https://localhost:8080/"
        },
        "id": "jHzXmlxCK8Jg",
        "outputId": "aafc12a2-863e-4405-eebd-3419f9ed6188"
      },
      "execution_count": null,
      "outputs": [
        {
          "output_type": "execute_result",
          "data": {
            "text/plain": [
              "[1, 2, 3, 4, 5, 6, 7, 8, 9]"
            ]
          },
          "metadata": {},
          "execution_count": 9
        }
      ]
    },
    {
      "cell_type": "code",
      "source": [
        "#원소를 모두 따로 나오게 하려면 \n",
        "answer = []\n",
        "for elements in list_of_list:\n",
        "  answer += elements\n",
        "for num in answer:\n",
        "    print(num)"
      ],
      "metadata": {
        "colab": {
          "base_uri": "https://localhost:8080/"
        },
        "id": "MDaFWZdBOHJP",
        "outputId": "db04369b-9b12-4ab4-ef8e-4ff6100311b6"
      },
      "execution_count": null,
      "outputs": [
        {
          "output_type": "stream",
          "name": "stdout",
          "text": [
            "1\n",
            "2\n",
            "3\n",
            "4\n",
            "5\n",
            "6\n",
            "7\n",
            "8\n",
            "9\n"
          ]
        }
      ]
    },
    {
      "cell_type": "code",
      "source": [
        ""
      ],
      "metadata": {
        "id": "Ybdg9py6PFgS"
      },
      "execution_count": null,
      "outputs": []
    }
  ]
}
