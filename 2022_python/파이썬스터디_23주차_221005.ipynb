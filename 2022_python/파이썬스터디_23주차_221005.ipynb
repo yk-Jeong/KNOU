{
  "nbformat": 4,
  "nbformat_minor": 0,
  "metadata": {
    "colab": {
      "provenance": [],
      "collapsed_sections": [],
      "authorship_tag": "ABX9TyNbxUS15U5+wIXm9c3brHYA",
      "include_colab_link": true
    },
    "kernelspec": {
      "name": "python3",
      "display_name": "Python 3"
    },
    "language_info": {
      "name": "python"
    }
  },
  "cells": [
    {
      "cell_type": "markdown",
      "metadata": {
        "id": "view-in-github",
        "colab_type": "text"
      },
      "source": [
        "<a href=\"https://colab.research.google.com/github/yk-Jeong/KNOU/blob/main/2022_python/%ED%8C%8C%EC%9D%B4%EC%8D%AC%EC%8A%A4%ED%84%B0%EB%94%94_23%EC%A3%BC%EC%B0%A8_221005.ipynb\" target=\"_parent\"><img src=\"https://colab.research.google.com/assets/colab-badge.svg\" alt=\"Open In Colab\"/></a>"
      ]
    },
    {
      "cell_type": "markdown",
      "source": [
        "숙제를 해 가기는 했는데, 회장님이 원하는 방식이 아니었다. ㅎㅎ \n",
        "\n",
        "출제자의 의도대로 한번 수정해보자. "
      ],
      "metadata": {
        "id": "0oQOFQQ7G8jM"
      }
    },
    {
      "cell_type": "markdown",
      "source": [
        "##### 1. 내가 낸 버전"
      ],
      "metadata": {
        "id": "tblAHmpOHFPY"
      }
    },
    {
      "cell_type": "code",
      "execution_count": 1,
      "metadata": {
        "id": "Y2dBNIizGjKH"
      },
      "outputs": [],
      "source": [
        "# 숙제: 함수로 만들기 \n",
        "# 학생들의 총점과 평균을 출력해 보자. \n",
        "\n",
        "# 1. 합계 구하는 함수 \n",
        "# 2. 평균 구하는 함수\n",
        "# 3. 출력하는 함수 \n",
        "\n",
        "def student_to_string(student):\n",
        "  name = student['name']\n",
        "  score_sum = student['korean']+student['math']+student['english']+student['science']\n",
        "  avg = score_sum / 4\n",
        "  return print(name, score_sum, avg)"
      ]
    },
    {
      "cell_type": "code",
      "source": [
        "def create_student(name, korean, math, english, science):\n",
        "  return {\n",
        "      \"name\":name, \"korean\" : korean, \"math\": math, \"english\": english, \"science\":science\n",
        "  }"
      ],
      "metadata": {
        "id": "AGdNcuIzH-i8"
      },
      "execution_count": 7,
      "outputs": []
    },
    {
      "cell_type": "code",
      "source": [
        "students = [\n",
        "    create_student(\"윤인성\", 87, 98, 88, 95),\n",
        "    create_student(\"연하진\", 92, 98, 96, 98),\n",
        "    create_student(\"구지연\", 76, 96, 94, 90),\n",
        "    create_student(\"나선주\", 98, 92, 96, 92),\n",
        "    create_student(\"윤아린\", 95, 98, 98, 98),\n",
        "    create_student(\"김명월\", 64, 88, 92, 92)\n",
        "]"
      ],
      "metadata": {
        "id": "2zy2QYJZH3jk"
      },
      "execution_count": 8,
      "outputs": []
    },
    {
      "cell_type": "code",
      "source": [
        "print(\"이름\", \"총점\", \"평균\", sep=\"\\t\")\n",
        "for student in students:\n",
        "  student_to_string(student)"
      ],
      "metadata": {
        "colab": {
          "base_uri": "https://localhost:8080/"
        },
        "id": "LT13Qos7HEPp",
        "outputId": "8cc90881-a7a6-4c52-ab33-6c76aa8b3795"
      },
      "execution_count": 9,
      "outputs": [
        {
          "output_type": "stream",
          "name": "stdout",
          "text": [
            "이름\t총점\t평균\n",
            "윤인성 368 92.0\n",
            "연하진 384 96.0\n",
            "구지연 356 89.0\n",
            "나선주 378 94.5\n",
            "윤아린 389 97.25\n",
            "김명월 336 84.0\n"
          ]
        }
      ]
    },
    {
      "cell_type": "markdown",
      "source": [
        "##### 2. 출제자가 의도한 것"
      ],
      "metadata": {
        "id": "qL6zfpxpIALY"
      }
    },
    {
      "cell_type": "markdown",
      "source": [
        "우선 지난 시간 복습부터"
      ],
      "metadata": {
        "id": "fqU6fWGbOOuu"
      }
    },
    {
      "cell_type": "code",
      "source": [
        "students = [{\"name\":\"윤인성\", \"korean\":87, \"math\":98, \"english\":88, \"science\":95},\n",
        "            {\"name\":\"연하진\", \"korean\":92, \"math\":98, \"english\":96, \"science\":98},\n",
        "            {\"name\":\"구지연\", \"korean\":76, \"math\":96, \"english\":94, \"science\":90},\n",
        "            {\"name\":\"나선주\", \"korean\":98, \"math\":92, \"english\":96, \"science\":92},\n",
        "            {\"name\":\"윤아린\", \"korean\":95, \"math\":98, \"english\":98, \"science\":98},\n",
        "            {\"name\":\"김명월\", \"korean\":64, \"math\":88, \"english\":92, \"science\":92}]"
      ],
      "metadata": {
        "id": "6uezvYzIHK6l"
      },
      "execution_count": 10,
      "outputs": []
    },
    {
      "cell_type": "code",
      "source": [
        "print(\"이름\", \"총점\", \"평균\", sep='\\t')\n",
        "for student in students : \n",
        "  score_sum = student['korean']+student['math']+student['english']+student['science']\n",
        "  avg = score_sum / 4\n",
        "  print(student[\"name\"], score_sum, avg)"
      ],
      "metadata": {
        "colab": {
          "base_uri": "https://localhost:8080/"
        },
        "id": "7nEYk6WwJ8Eq",
        "outputId": "710ff923-2c8c-4b08-feab-afdb9625d53a"
      },
      "execution_count": 22,
      "outputs": [
        {
          "output_type": "stream",
          "name": "stdout",
          "text": [
            "이름\t총점\t평균\n",
            "윤인성 368 92.0\n",
            "연하진 384 96.0\n",
            "구지연 356 89.0\n",
            "나선주 378 94.5\n",
            "윤아린 389 97.25\n",
            "김명월 336 84.0\n"
          ]
        }
      ]
    },
    {
      "cell_type": "markdown",
      "source": [
        "파이썬은 변수명과 함수명을 한글로 지을 수도 있으니, 이참에 한번 해보도록 하자."
      ],
      "metadata": {
        "id": "kY7s5Ft5P2-0"
      }
    },
    {
      "cell_type": "code",
      "source": [
        "def 학생키워드(이름, 국어, 수학, 영어, 과학):\n",
        "  return {\n",
        "      \"name\":이름, \"korean\" : 국어, \"math\": 수학, \"english\": 영어, \"science\":과학\n",
        "  }"
      ],
      "metadata": {
        "id": "DzFZOt4ALK6k"
      },
      "execution_count": 23,
      "outputs": []
    },
    {
      "cell_type": "code",
      "source": [
        "학생 = [\n",
        "    학생키워드(\"윤인성\", 87, 98, 88, 95),\n",
        "    학생키워드(\"연하진\", 92, 98, 96, 98),\n",
        "    학생키워드(\"구지연\", 76, 96, 94, 90),\n",
        "    학생키워드(\"나선주\", 98, 92, 96, 92),\n",
        "    학생키워드(\"윤아린\", 95, 98, 98, 98),\n",
        "    학생키워드(\"김명월\", 64, 88, 92, 92)\n",
        "]"
      ],
      "metadata": {
        "id": "JJuaiBG9PzE5"
      },
      "execution_count": 31,
      "outputs": []
    },
    {
      "cell_type": "code",
      "source": [
        "def 개별총점(학생):\n",
        "  총점 = (학생['korean'] + 학생['math'] + 학생['english'] + 학생['science'])\n",
        "  return 총점 \n",
        "\n",
        "def 개별평균(학생):\n",
        "  평균 = (개별총점(학생) / 4)\n",
        "  return 평균\n",
        "\n",
        "def student_to_string(학생):\n",
        "  print(학생[\"name\"], 개별총점(학생), 개별평균(학생), sep='\\t')"
      ],
      "metadata": {
        "id": "jus83ct1RYZo"
      },
      "execution_count": 39,
      "outputs": []
    },
    {
      "cell_type": "code",
      "source": [
        "student_to_string(학생[0])"
      ],
      "metadata": {
        "colab": {
          "base_uri": "https://localhost:8080/"
        },
        "id": "MH4YKsqjReze",
        "outputId": "0004717e-7f31-4732-fb7d-be56b965fd03"
      },
      "execution_count": 40,
      "outputs": [
        {
          "output_type": "stream",
          "name": "stdout",
          "text": [
            "윤인성\t368\t92.0\n"
          ]
        }
      ]
    },
    {
      "cell_type": "markdown",
      "source": [
        "이제 이것을 for문으로 일반화해보자! "
      ],
      "metadata": {
        "id": "QId-wcXXWj0I"
      }
    },
    {
      "cell_type": "code",
      "source": [
        "for n in students:\n",
        "  student_to_string(n)"
      ],
      "metadata": {
        "colab": {
          "base_uri": "https://localhost:8080/"
        },
        "id": "bENj-urnTTOp",
        "outputId": "ac0c96ed-6e0e-471b-b11f-4db226a2540b"
      },
      "execution_count": 43,
      "outputs": [
        {
          "output_type": "stream",
          "name": "stdout",
          "text": [
            "윤인성\t368\t92.0\n",
            "연하진\t384\t96.0\n",
            "구지연\t356\t89.0\n",
            "나선주\t378\t94.5\n",
            "윤아린\t389\t97.25\n",
            "김명월\t336\t84.0\n"
          ]
        }
      ]
    },
    {
      "cell_type": "markdown",
      "source": [
        "여기까지 오래 걸려서 클래스 만드는 건 다음 시간에 하기로ㅠㅠ"
      ],
      "metadata": {
        "id": "r_erh2D5an_6"
      }
    }
  ]
}