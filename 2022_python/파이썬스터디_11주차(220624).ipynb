{
  "nbformat": 4,
  "nbformat_minor": 0,
  "metadata": {
    "colab": {
      "name": "파이썬스터디_11주차(220624).ipynb",
      "provenance": [],
      "collapsed_sections": [],
      "authorship_tag": "ABX9TyNHJGmYL6h/TVeBMnqZGA9c",
      "include_colab_link": true
    },
    "kernelspec": {
      "name": "python3",
      "display_name": "Python 3"
    },
    "language_info": {
      "name": "python"
    }
  },
  "cells": [
    {
      "cell_type": "markdown",
      "metadata": {
        "id": "view-in-github",
        "colab_type": "text"
      },
      "source": [
        "<a href=\"https://colab.research.google.com/github/yk-Jeong/KNOU/blob/main/%ED%8C%8C%EC%9D%B4%EC%8D%AC%EC%8A%A4%ED%84%B0%EB%94%94_11%EC%A3%BC%EC%B0%A8(220624).ipynb\" target=\"_parent\"><img src=\"https://colab.research.google.com/assets/colab-badge.svg\" alt=\"Open In Colab\"/></a>"
      ]
    },
    {
      "cell_type": "markdown",
      "source": [
        "딕셔너리 순회: for문을 사용하여 딕셔너리의 요소들을 순회하면서 키를 반환한다."
      ],
      "metadata": {
        "id": "-T7lLwH4pAvd"
      }
    },
    {
      "cell_type": "code",
      "execution_count": 2,
      "metadata": {
        "id": "d00dp4STodv6"
      },
      "outputs": [],
      "source": [
        "student = {'kim':90, \n",
        "           'lee':80, \n",
        "           'park':95, \n",
        "           'choi':70}"
      ]
    },
    {
      "cell_type": "code",
      "source": [
        "for k in student:\n",
        "  print(k)"
      ],
      "metadata": {
        "colab": {
          "base_uri": "https://localhost:8080/"
        },
        "id": "TYo6AWzsoi1S",
        "outputId": "f1d1ee11-93e6-4221-d9fa-5e18529b0e79"
      },
      "execution_count": 13,
      "outputs": [
        {
          "output_type": "stream",
          "name": "stdout",
          "text": [
            "kim\n",
            "lee\n",
            "park\n",
            "choi\n"
          ]
        }
      ]
    },
    {
      "cell_type": "markdown",
      "source": [
        "<pre>kim 90\n",
        "lee 80\n",
        "park 95\n",
        "choi 70</pre>\n",
        "와 같은 형태로 출력하려면 어떻게 할 수 있을까? \n"
      ],
      "metadata": {
        "id": "idxJc4BqpvXt"
      }
    },
    {
      "cell_type": "code",
      "source": [
        "#answer\n",
        "for k, v in student.items():\n",
        "  print(k, v)"
      ],
      "metadata": {
        "colab": {
          "base_uri": "https://localhost:8080/"
        },
        "id": "K_lGd-XHotfb",
        "outputId": "21375fed-a46c-461f-f897-d38427aa79f8"
      },
      "execution_count": 14,
      "outputs": [
        {
          "output_type": "stream",
          "name": "stdout",
          "text": [
            "kim 90\n",
            "lee 80\n",
            "park 95\n",
            "choi 70\n"
          ]
        }
      ]
    },
    {
      "cell_type": "markdown",
      "source": [
        "<pre>\n",
        "average = 83.75\n",
        "</pre>\n",
        "\n",
        "를 출력해 보자. "
      ],
      "metadata": {
        "id": "plsrfISjqOod"
      }
    },
    {
      "cell_type": "code",
      "source": [
        "#풀었다!! ^^\n",
        "sum_score = 0\n",
        "for v in student.values():\n",
        "  sum_score += v\n",
        "aver = (sum_score / len(student.values()))\n",
        "print(\"average = %.2f\" %aver)"
      ],
      "metadata": {
        "colab": {
          "base_uri": "https://localhost:8080/"
        },
        "id": "Mfi3Bg3Ips_s",
        "outputId": "282d494c-ca3f-496a-a03b-2675fdf22484"
      },
      "execution_count": 37,
      "outputs": [
        {
          "output_type": "stream",
          "name": "stdout",
          "text": [
            "average = 83.75\n"
          ]
        }
      ]
    },
    {
      "cell_type": "markdown",
      "source": [
        "파이썬에서 사용하는 for문은 시퀀스 자료형*의 모든 요소를 순회하기 위하여 사용한다.\n",
        "- *시퀀스 자료형: \n",
        "\n",
        "range(), enumerate(), zip()\n",
        "- range(): 숫자 시퀀스를 생성하기 위하여 사용\n",
        "- enumerate():\n",
        "- zip(): \n"
      ],
      "metadata": {
        "id": "GvAs37lYvOaZ"
      }
    },
    {
      "cell_type": "markdown",
      "source": [
        "**.range()**\n",
        "\n",
        "리스트나 튜플 같은 자료를 생성하지 않고 특정 범위 내에서 숫자 시퀀스를 반환한다.\n",
        "\n",
        "컴퓨터의 메모리를 사용하지 않고 \n",
        "\n",
        "\n",
        "*range() 함수가 반환하는 값은 모두 range 자료형이다. 따라서 리스트 또는 튜플로 변경해서 사용해야 한다. \n",
        "\n",
        "그러나 range 자료형은 리스트/튜플과 같은 *시퀀스* 자료형이기 때문에 for문에서 변환 없이 직접 사용한다. "
      ],
      "metadata": {
        "id": "7F2noteJviH2"
      }
    },
    {
      "cell_type": "markdown",
      "source": [
        "다음과 같이 출력해보자.\n",
        "\n",
        "<pre>\n",
        "정수를 입력하세요: 10 \n",
        "1부터 10까지의 합은 55입니다.\n",
        "</pre>"
      ],
      "metadata": {
        "id": "vC4r4FwcyW_t"
      }
    },
    {
      "cell_type": "code",
      "source": [
        "value = int(input(\"정수를 입력하세요: \"))\n",
        "sum_value = 0\n",
        "for i in range(value+1): #반드시 +1을 해주어야 한다는 점 주의 \n",
        "  sum_value += i\n",
        "print('1부터 %d까지의 합은 %d입니다.' % (value, sum_value))"
      ],
      "metadata": {
        "colab": {
          "base_uri": "https://localhost:8080/"
        },
        "id": "KFpdFYfgtAvV",
        "outputId": "03fdd48c-415e-428b-ae4e-517dddf6c930"
      },
      "execution_count": 46,
      "outputs": [
        {
          "output_type": "stream",
          "name": "stdout",
          "text": [
            "정수를 입력하세요: 10\n",
            "1부터 10까지의 합은 55입니다.\n"
          ]
        }
      ]
    },
    {
      "cell_type": "markdown",
      "source": [
        "문장을 단순히 반복하여 출력하는 경우"
      ],
      "metadata": {
        "id": "IErybwGi0zhw"
      }
    },
    {
      "cell_type": "code",
      "source": [
        "for i in range(4):\n",
        "  print(\"Hello\")"
      ],
      "metadata": {
        "colab": {
          "base_uri": "https://localhost:8080/"
        },
        "id": "DA7f-nFYyF_7",
        "outputId": "16b9e350-6344-4a53-fb58-0eaa76d6f95e"
      },
      "execution_count": 47,
      "outputs": [
        {
          "output_type": "stream",
          "name": "stdout",
          "text": [
            "Hello\n",
            "Hello\n",
            "Hello\n",
            "Hello\n",
            "Hello\n"
          ]
        }
      ]
    },
    {
      "cell_type": "code",
      "source": [
        "#또는 _를 활용 가능(입력할 변수가 없다)\n",
        "\n",
        "for _ in range(4):\n",
        "  print(\"Hello\")"
      ],
      "metadata": {
        "colab": {
          "base_uri": "https://localhost:8080/"
        },
        "id": "al5KJd3E0dlM",
        "outputId": "e4f286a5-4855-4fc2-d796-7bc9891fe7d1"
      },
      "execution_count": 48,
      "outputs": [
        {
          "output_type": "stream",
          "name": "stdout",
          "text": [
            "Hello\n",
            "Hello\n",
            "Hello\n",
            "Hello\n"
          ]
        }
      ]
    },
    {
      "cell_type": "markdown",
      "source": [
        "이제 구구단 출력 정도는 쉽게~ "
      ],
      "metadata": {
        "id": "UauGEuFe1lWJ"
      }
    },
    {
      "cell_type": "code",
      "source": [
        "for i in range(1, 10):\n",
        "  for j in range(1, 10):\n",
        "    print(f'{i} * {j} = {i*j}')\n",
        "  print(\"\")"
      ],
      "metadata": {
        "colab": {
          "base_uri": "https://localhost:8080/"
        },
        "id": "w5ztuBBV1ZO_",
        "outputId": "44a3274b-aa92-45fd-c02e-6404c80f06a8"
      },
      "execution_count": 53,
      "outputs": [
        {
          "output_type": "stream",
          "name": "stdout",
          "text": [
            "1 * 1 = 1\n",
            "1 * 2 = 2\n",
            "1 * 3 = 3\n",
            "1 * 4 = 4\n",
            "1 * 5 = 5\n",
            "1 * 6 = 6\n",
            "1 * 7 = 7\n",
            "1 * 8 = 8\n",
            "1 * 9 = 9\n",
            "\n",
            "2 * 1 = 2\n",
            "2 * 2 = 4\n",
            "2 * 3 = 6\n",
            "2 * 4 = 8\n",
            "2 * 5 = 10\n",
            "2 * 6 = 12\n",
            "2 * 7 = 14\n",
            "2 * 8 = 16\n",
            "2 * 9 = 18\n",
            "\n",
            "3 * 1 = 3\n",
            "3 * 2 = 6\n",
            "3 * 3 = 9\n",
            "3 * 4 = 12\n",
            "3 * 5 = 15\n",
            "3 * 6 = 18\n",
            "3 * 7 = 21\n",
            "3 * 8 = 24\n",
            "3 * 9 = 27\n",
            "\n",
            "4 * 1 = 4\n",
            "4 * 2 = 8\n",
            "4 * 3 = 12\n",
            "4 * 4 = 16\n",
            "4 * 5 = 20\n",
            "4 * 6 = 24\n",
            "4 * 7 = 28\n",
            "4 * 8 = 32\n",
            "4 * 9 = 36\n",
            "\n",
            "5 * 1 = 5\n",
            "5 * 2 = 10\n",
            "5 * 3 = 15\n",
            "5 * 4 = 20\n",
            "5 * 5 = 25\n",
            "5 * 6 = 30\n",
            "5 * 7 = 35\n",
            "5 * 8 = 40\n",
            "5 * 9 = 45\n",
            "\n",
            "6 * 1 = 6\n",
            "6 * 2 = 12\n",
            "6 * 3 = 18\n",
            "6 * 4 = 24\n",
            "6 * 5 = 30\n",
            "6 * 6 = 36\n",
            "6 * 7 = 42\n",
            "6 * 8 = 48\n",
            "6 * 9 = 54\n",
            "\n",
            "7 * 1 = 7\n",
            "7 * 2 = 14\n",
            "7 * 3 = 21\n",
            "7 * 4 = 28\n",
            "7 * 5 = 35\n",
            "7 * 6 = 42\n",
            "7 * 7 = 49\n",
            "7 * 8 = 56\n",
            "7 * 9 = 63\n",
            "\n",
            "8 * 1 = 8\n",
            "8 * 2 = 16\n",
            "8 * 3 = 24\n",
            "8 * 4 = 32\n",
            "8 * 5 = 40\n",
            "8 * 6 = 48\n",
            "8 * 7 = 56\n",
            "8 * 8 = 64\n",
            "8 * 9 = 72\n",
            "\n",
            "9 * 1 = 9\n",
            "9 * 2 = 18\n",
            "9 * 3 = 27\n",
            "9 * 4 = 36\n",
            "9 * 5 = 45\n",
            "9 * 6 = 54\n",
            "9 * 7 = 63\n",
            "9 * 8 = 72\n",
            "9 * 9 = 81\n",
            "\n"
          ]
        }
      ]
    },
    {
      "cell_type": "markdown",
      "source": [
        "\n",
        "<u>이중 for문을 사용하여</u> 다음과 같이 표현해 보자. \n",
        "\n",
        "<pre>\n",
        "*****\n",
        "*****\n",
        "*****\n",
        "*****\n",
        "*****\n",
        "</pre>\n",
        "\n",
        "<pre>\n",
        "*\n",
        "**\n",
        "***\n",
        "****\n",
        "*****\n",
        "</pre>"
      ],
      "metadata": {
        "id": "OeywJboj3uYm"
      }
    },
    {
      "cell_type": "markdown",
      "source": [
        "#####정답"
      ],
      "metadata": {
        "id": "U8ap2d2g7ZSe"
      }
    },
    {
      "cell_type": "code",
      "source": [
        "for i in range(5):\n",
        "  for j in range(5):\n",
        "    print(\"*\", end=\"\")\n",
        "  print(\"\")"
      ],
      "metadata": {
        "colab": {
          "base_uri": "https://localhost:8080/"
        },
        "id": "MuCuCVVS19gK",
        "outputId": "5ccc9ccf-b5e5-4e9f-ccf6-b3935063e6f3"
      },
      "execution_count": 68,
      "outputs": [
        {
          "output_type": "stream",
          "name": "stdout",
          "text": [
            "*****\n",
            "*****\n",
            "*****\n",
            "*****\n",
            "*****\n"
          ]
        }
      ]
    },
    {
      "cell_type": "code",
      "source": [
        "for i in range(5):\n",
        "  for j in range(i+1):\n",
        "    print(\"*\", end=\"\")\n",
        "  print(\"\")"
      ],
      "metadata": {
        "colab": {
          "base_uri": "https://localhost:8080/"
        },
        "id": "LmJychS93_N9",
        "outputId": "d83660fb-b04b-46fc-9ce4-a5df0c6dbfa3"
      },
      "execution_count": 70,
      "outputs": [
        {
          "output_type": "stream",
          "name": "stdout",
          "text": [
            "*\n",
            "**\n",
            "***\n",
            "****\n",
            "*****\n"
          ]
        }
      ]
    },
    {
      "cell_type": "markdown",
      "source": [
        "스스로 해보기: 역삼각형과 다이아몬드 별 찍어보기 "
      ],
      "metadata": {
        "id": "NZVa6-8A6DXO"
      }
    },
    {
      "cell_type": "code",
      "source": [
        ""
      ],
      "metadata": {
        "id": "vWpolWnJ4Nkz"
      },
      "execution_count": null,
      "outputs": []
    }
  ]
}
