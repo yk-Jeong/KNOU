{
  "nbformat": 4,
  "nbformat_minor": 0,
  "metadata": {
    "colab": {
      "name": "파이썬스터디_1, 2주차.ipynb",
      "provenance": [],
      "collapsed_sections": [],
      "authorship_tag": "ABX9TyM8jbj1KVTu3uNwRXxZxOTV",
      "include_colab_link": true
    },
    "kernelspec": {
      "name": "python3",
      "display_name": "Python 3"
    },
    "language_info": {
      "name": "python"
    }
  },
  "cells": [
    {
      "cell_type": "markdown",
      "metadata": {
        "id": "view-in-github",
        "colab_type": "text"
      },
      "source": [
        "<a href=\"https://colab.research.google.com/github/yk-Jeong/KNOU/blob/main/%ED%8C%8C%EC%9D%B4%EC%8D%AC%EC%8A%A4%ED%84%B0%EB%94%94_1%2C_2%EC%A3%BC%EC%B0%A8.ipynb\" target=\"_parent\"><img src=\"https://colab.research.google.com/assets/colab-badge.svg\" alt=\"Open In Colab\"/></a>"
      ]
    },
    {
      "cell_type": "code",
      "execution_count": null,
      "metadata": {
        "colab": {
          "base_uri": "https://localhost:8080/"
        },
        "id": "Sp4bpjz5yzSG",
        "outputId": "99fea719-f1ff-475f-8951-9d6a58ef1087"
      },
      "outputs": [
        {
          "output_type": "stream",
          "name": "stdout",
          "text": [
            "408\n"
          ]
        }
      ],
      "source": [
        "#01_01\n",
        "width = 12\n",
        "height = 34\n",
        "area = width * height \n",
        "print(area)"
      ]
    },
    {
      "cell_type": "code",
      "source": [
        "#01_01 새로 \n",
        "\n",
        "print(\"가로가 12cm, 세로가 34cm인 사각형의 면적 = \", 12*34, \"\\n\")"
      ],
      "metadata": {
        "colab": {
          "base_uri": "https://localhost:8080/"
        },
        "id": "RYlNY7dqvTIx",
        "outputId": "42d6b17b-0a62-467b-933c-be660ad117d3"
      },
      "execution_count": 3,
      "outputs": [
        {
          "output_type": "stream",
          "name": "stdout",
          "text": [
            "가로가 12cm, 세로가 34cm인 사각형의 면적 =  408 \n",
            "\n"
          ]
        }
      ]
    },
    {
      "cell_type": "code",
      "source": [
        "#01_02\n",
        "squared = 3 ** 2 \n",
        "cubic = 3 ** 3\n",
        "print(squared)\n",
        "print(cubic)"
      ],
      "metadata": {
        "colab": {
          "base_uri": "https://localhost:8080/"
        },
        "id": "JuCkNCTKzNLa",
        "outputId": "682630d7-15e5-4570-d609-07d30e1f987b"
      },
      "execution_count": null,
      "outputs": [
        {
          "output_type": "stream",
          "name": "stdout",
          "text": [
            "9\n",
            "27\n"
          ]
        }
      ]
    },
    {
      "cell_type": "code",
      "source": [
        "#01_03\n",
        "string = input(\"문자열을 입력하세요 : \")\n",
        "print(\"대문자로 변경하면 다음과 같습니다.\")\n",
        "string = string.upper()\n",
        "print(string)\n",
        "num = string.count(\"L\")\n",
        "print(f'대문자 L이 {num}개 포함되어 있습니다.')"
      ],
      "metadata": {
        "colab": {
          "base_uri": "https://localhost:8080/"
        },
        "id": "z2k5FvCZzeqd",
        "outputId": "1a3f31a2-d931-48b2-fee5-c73cb29617e3"
      },
      "execution_count": null,
      "outputs": [
        {
          "output_type": "stream",
          "name": "stdout",
          "text": [
            "문자열을 입력하세요 : hello world!\n",
            "대문자로 변경하면 다음과 같습니다.\n",
            "HELLO WORLD!\n",
            "대문자 L이 3개 포함되어 있습니다.\n"
          ]
        }
      ]
    },
    {
      "cell_type": "code",
      "source": [
        "string = input(\"문자열을 입력하세요 : \")\n",
        "print(string.replace(' ', '\\n'))"
      ],
      "metadata": {
        "colab": {
          "base_uri": "https://localhost:8080/"
        },
        "id": "7qTKof2v0Itp",
        "outputId": "8ca8dc14-f4b0-433f-9e86-f2a101345271"
      },
      "execution_count": null,
      "outputs": [
        {
          "output_type": "stream",
          "name": "stdout",
          "text": [
            "문자열을 입력하세요 : hello world\n",
            "hello\n",
            "world\n"
          ]
        }
      ]
    },
    {
      "cell_type": "code",
      "source": [
        "#01_05\n",
        "a = int(input(\"첫 번째 정수를 입력하세요 : \"))\n",
        "b = int(input(\"두 번째 정수를 입력하세요 : \"))\n",
        "print(\"합 = \", a + b)\n",
        "print(\"차 = \", a - b)"
      ],
      "metadata": {
        "colab": {
          "base_uri": "https://localhost:8080/"
        },
        "id": "d1OvoCTo084V",
        "outputId": "8658bb15-94f7-4580-ea25-3040562ad6be"
      },
      "execution_count": null,
      "outputs": [
        {
          "output_type": "stream",
          "name": "stdout",
          "text": [
            "첫 번째 정수를 입력하세요 : 20\n",
            "두 번째 정수를 입력하세요 : 10\n",
            "합 =  30\n",
            "차 =  10\n"
          ]
        }
      ]
    },
    {
      "cell_type": "code",
      "source": [
        "#01_06\n",
        "string = input(\"문자열을 입력하세요 : \")\n",
        "\"-\".join(string)"
      ],
      "metadata": {
        "colab": {
          "base_uri": "https://localhost:8080/",
          "height": 54
        },
        "id": "FY4D0q51CJpF",
        "outputId": "014aa3e7-236e-4fd3-ad0d-483bac43c370"
      },
      "execution_count": null,
      "outputs": [
        {
          "name": "stdout",
          "output_type": "stream",
          "text": [
            "문자열을 입력하세요 : hello\n"
          ]
        },
        {
          "output_type": "execute_result",
          "data": {
            "application/vnd.google.colaboratory.intrinsic+json": {
              "type": "string"
            },
            "text/plain": [
              "'h-e-l-l-o'"
            ]
          },
          "metadata": {},
          "execution_count": 39
        }
      ]
    },
    {
      "cell_type": "code",
      "source": [
        "#01_07\n",
        "mid = int(input(\"중간고사 점수를 입력하세요(100점 만점: 30%): \"))\n",
        "final = int(input(\"기말고사 점수를 입력하세요(100점 만점: 30%): \"))\n",
        "assignment = int(input(\"과제 점수를 입력하세요(100점 만점: 10%): \"))\n",
        "attendance = int(input(\"출석 점수를 입력하세요(100점 만점: 30%): \"))\n",
        "\n",
        "score = float(mid*0.3 + final*0.3 + assignment*0.1 + attendance*0.3)\n",
        "\n",
        "print(\"중간고사 점수:\", mid)\n",
        "print(\"기말고사 점수:\", final)\n",
        "print(\"과제 점수:\", assignment)\n",
        "print(\"출석 점수:\", attendance)\n",
        "print(\"최종 점수:\", score)"
      ],
      "metadata": {
        "colab": {
          "base_uri": "https://localhost:8080/"
        },
        "id": "WpbzpGgEIaYk",
        "outputId": "c265e00d-9e79-4765-d193-3fa7ef220c21"
      },
      "execution_count": null,
      "outputs": [
        {
          "output_type": "stream",
          "name": "stdout",
          "text": [
            "중간고사 점수를 입력하세요(100점 만점: 30%): 80\n",
            "기말고사 점수를 입력하세요(100점 만점: 30%): 90\n",
            "과제 점수를 입력하세요(100점 만점: 10%): 100\n",
            "출석 점수를 입력하세요(100점 만점: 30%): 95\n",
            "중간고사 점수: 80\n",
            "기말고사 점수: 90\n",
            "과제 점수: 100\n",
            "출석 점수: 95\n",
            "최종 점수: 89.5\n"
          ]
        }
      ]
    },
    {
      "cell_type": "code",
      "source": [
        "#02_01\n",
        "\n",
        "val = 10\n",
        "print(\"홀수\") if val % 2 == 1 else print(\"짝수\")"
      ],
      "metadata": {
        "colab": {
          "base_uri": "https://localhost:8080/"
        },
        "id": "NOJjOxD41QB3",
        "outputId": "9cd21d47-c0eb-4a99-91df-026762593a84"
      },
      "execution_count": null,
      "outputs": [
        {
          "output_type": "stream",
          "name": "stdout",
          "text": [
            "짝수\n"
          ]
        }
      ]
    },
    {
      "cell_type": "code",
      "source": [
        "#02_01\n",
        "\n",
        "val = 10\n",
        "if val % 2 == 1:\n",
        "  print(\"홀수\")\n",
        "else:\n",
        "  print(\"짝수\")"
      ],
      "metadata": {
        "colab": {
          "base_uri": "https://localhost:8080/"
        },
        "id": "OqlCQaQa79js",
        "outputId": "e4d6492c-507e-4b0b-8116-5cb91f36519f"
      },
      "execution_count": null,
      "outputs": [
        {
          "output_type": "stream",
          "name": "stdout",
          "text": [
            "짝수\n"
          ]
        }
      ]
    },
    {
      "cell_type": "code",
      "source": [
        "#02_02\n",
        "\n",
        "num = int(input(\"정수를 입력하세요 : \"))\n",
        "if num > 0:\n",
        "  print(\"양수입니다.\") \n",
        "elif num == 0: \n",
        "  print(\"양수도 음수도 아닌 0입니다.\")\n",
        "else: \n",
        "  print(\"음수입니다.\")"
      ],
      "metadata": {
        "colab": {
          "base_uri": "https://localhost:8080/"
        },
        "id": "qFjYV3dT8FHc",
        "outputId": "b8ec6851-5d00-47f7-ab24-9334252a8f86"
      },
      "execution_count": null,
      "outputs": [
        {
          "output_type": "stream",
          "name": "stdout",
          "text": [
            "정수를 입력하세요 : 10\n",
            "양수입니다.\n"
          ]
        }
      ]
    },
    {
      "cell_type": "code",
      "source": [
        "#02_03\n",
        "\n",
        "GPA = float(input(\"평균 평점을 입력하세요 : \"))\n",
        "if GPA >= 4.3 :\n",
        "  scholarship = 0\n",
        "elif GPA >= 4.2 and GPA < 4.3:\n",
        "  scholarship = 0.5\n",
        "elif GPA >= 3.9 and GPA < 4.1:\n",
        "  scholarship = 0.75\n",
        "else:\n",
        "  scholarship = 1\n",
        "\n",
        "tuition = int(scholarship * 3000000)\n",
        "\n",
        "print(f'수업료는 {tuition}원입니다.')"
      ],
      "metadata": {
        "colab": {
          "base_uri": "https://localhost:8080/"
        },
        "id": "D2vnwX519Y3v",
        "outputId": "d3fc5dae-5aca-46c3-9053-a31c971204aa"
      },
      "execution_count": null,
      "outputs": [
        {
          "output_type": "stream",
          "name": "stdout",
          "text": [
            "평균 평점을 입력하세요 : 3.9\n",
            "수업료는 2250000원입니다.\n"
          ]
        }
      ]
    },
    {
      "cell_type": "code",
      "source": [
        ""
      ],
      "metadata": {
        "id": "5xN-Zgnz-f62"
      },
      "execution_count": null,
      "outputs": []
    }
  ]
}
