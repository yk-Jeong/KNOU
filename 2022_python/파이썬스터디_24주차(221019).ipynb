{
  "nbformat": 4,
  "nbformat_minor": 0,
  "metadata": {
    "colab": {
      "provenance": [],
      "collapsed_sections": [],
      "authorship_tag": "ABX9TyPBzoSjoYXLjvq04rd0+n0c",
      "include_colab_link": true
    },
    "kernelspec": {
      "name": "python3",
      "display_name": "Python 3"
    },
    "language_info": {
      "name": "python"
    }
  },
  "cells": [
    {
      "cell_type": "markdown",
      "metadata": {
        "id": "view-in-github",
        "colab_type": "text"
      },
      "source": [
        "<a href=\"https://colab.research.google.com/github/yk-Jeong/KNOU/blob/main/2022_python/%ED%8C%8C%EC%9D%B4%EC%8D%AC%EC%8A%A4%ED%84%B0%EB%94%94_24%EC%A3%BC%EC%B0%A8(221019).ipynb\" target=\"_parent\"><img src=\"https://colab.research.google.com/assets/colab-badge.svg\" alt=\"Open In Colab\"/></a>"
      ]
    },
    {
      "cell_type": "markdown",
      "source": [
        "지난주에 스터디가 없었어서 구조체부터 복습\n",
        "\n",
        "(구조체: 쉽게 말해 내가 만든 자료형이라고 이해하면 됨)"
      ],
      "metadata": {
        "id": "Zbn8GxWkJha4"
      }
    },
    {
      "cell_type": "markdown",
      "source": [
        "<pre>\n",
        "class 성적표:\n",
        "  def 학생키워드(self)\n",
        "</pre>"
      ],
      "metadata": {
        "id": "nb-hL0QvNcQV"
      }
    },
    {
      "cell_type": "markdown",
      "source": [
        "지난 시간에 만든 함수를 init과 self를 활용해 다시 작성해보자. "
      ],
      "metadata": {
        "id": "T7k8yfhVUH1V"
      }
    },
    {
      "cell_type": "code",
      "execution_count": null,
      "metadata": {
        "id": "ymKWQHmEJC1P"
      },
      "outputs": [],
      "source": [
        "# 자기 자신을 받을 수 있도록 인자 self를 부여. \n",
        "\n",
        "class 성적표: \n",
        "  def 학생키워드(self, 이름, 국어, 수학, 영어, 과학):\n",
        "    return {'name': 이름\n",
        "            'korean': 국어\n",
        "            'math': 수학\n",
        "            'english': 영어\n",
        "            'science': 과학\n",
        "            }\n",
        "            \n",
        "  def 개별총점(self):\n",
        "    return (학생['korean'] + 학생['math'] + 학생['english'] + 학생['science'])\n",
        "\n",
        "  def 개별평균(self):\n",
        "    return (개별총점(j) / 4)\n",
        "\n",
        "  def 개별출력(self):\n",
        "    return \"{}\\t{}\\t{}\".format(k['name'], 개별총점(k), 개별평균(k))"
      ]
    },
    {
      "cell_type": "markdown",
      "source": [
        "- 파이썬에서의 생성자(init)와 소멸자 \n",
        "\n",
        "  (나 정말 이 개념을 계속 봐도 이해가 안 돼 거의 C의 포인터 수준 난도)"
      ],
      "metadata": {
        "id": "o8j8XVqyPvsr"
      }
    },
    {
      "cell_type": "code",
      "source": [
        "class 성적표:\n",
        "  def __init__(self, 이름, 국어, 수학, 영어, 과학): # 내가 쓸 변수명 지정\n",
        "    self.name = 이름\n",
        "    self.korean = 국어\n",
        "    self.math = 수학 \n",
        "    self.english = 영어\n",
        "    self.science  = 과학\n",
        "\n",
        "    # comma가 필요하지 않은 점에 유의 \n",
        "\n",
        "  def 개별총점(self):\n",
        "    return self.korean + self.math + self.english + self.science\n",
        "\n",
        "  def 개별평균(self):\n",
        "    return (self.개별총점() / 4)\n",
        "\n",
        "  def 개별출력(self):\n",
        "    return \"{}\\t{}\\t{}\".format(self.name, self.개별총점(), self.개별평균())"
      ],
      "metadata": {
        "id": "eR2zb5IRPysg"
      },
      "execution_count": 37,
      "outputs": []
    },
    {
      "cell_type": "markdown",
      "source": [],
      "metadata": {
        "id": "0bVQiNthXb1F"
      }
    },
    {
      "cell_type": "code",
      "source": [
        "# data\n",
        "\n",
        "학생 = [\n",
        "    성적표(\"윤인성\", 87, 98, 88, 95),\n",
        "    성적표(\"연하진\", 92, 98, 96, 98),\n",
        "    성적표(\"구지연\", 76, 96, 94, 90),\n",
        "    성적표(\"나선주\", 98, 92, 96, 92),\n",
        "    성적표(\"윤아린\", 95, 98, 98, 98),\n",
        "    성적표(\"김명월\", 64, 88, 92, 92)\n",
        "]"
      ],
      "metadata": {
        "id": "exfFiJw9TXLm"
      },
      "execution_count": 38,
      "outputs": []
    },
    {
      "cell_type": "markdown",
      "source": [
        "따라서 최종적인 출력 함수는 다음과 같이 작성하게 된다. "
      ],
      "metadata": {
        "id": "6HJWG7ZnUuzv"
      }
    },
    {
      "cell_type": "code",
      "source": [
        "print('이름', '총점', '평균', sep='\\t')\n",
        "for n in 학생:\n",
        "  print(n.개별출력())"
      ],
      "metadata": {
        "colab": {
          "base_uri": "https://localhost:8080/"
        },
        "id": "JeFKudgnT4Yw",
        "outputId": "32edb8dd-5c69-4a3b-eb16-461b2fce7868"
      },
      "execution_count": 39,
      "outputs": [
        {
          "output_type": "stream",
          "name": "stdout",
          "text": [
            "이름\t총점\t평균\n",
            "윤인성\t368\t92.0\n",
            "연하진\t384\t96.0\n",
            "구지연\t356\t89.0\n",
            "나선주\t378\t94.5\n",
            "윤아린\t389\t97.25\n",
            "김명월\t336\t84.0\n"
          ]
        }
      ]
    },
    {
      "cell_type": "markdown",
      "source": [
        "프로그램에 모듈 추가하기 (<- 했었는데 기억이 안 납니다...)\n",
        "\n",
        "1) 우선, 이상에서 작업한 내용을 `class_a.py` 파일로 저장한다. "
      ],
      "metadata": {
        "id": "5CzmCiX5WSGi"
      }
    },
    {
      "cell_type": "code",
      "source": [
        "# 불러올 때는 작업 파일과 모듈이 같은 디렉터리 경로상에 있어야 함 \n",
        "import class_a "
      ],
      "metadata": {
        "id": "6jC2d5MTWVmT"
      },
      "execution_count": null,
      "outputs": []
    },
    {
      "cell_type": "markdown",
      "source": [
        "2) \n",
        "참고 https://wikidocs.net/29#_2"
      ],
      "metadata": {
        "id": "-78J_kQlcRkW"
      }
    },
    {
      "cell_type": "code",
      "source": [
        "students = [\n",
        "    class_a.성적표(\"윤인성\", 87, 98, 88, 95),\n",
        "    class_a.성적표(\"연하진\", 92, 98, 96, 98),\n",
        "    class_a.성적표(\"구지연\", 76, 96, 94, 90),\n",
        "    class_a.성적표(\"나선주\", 98, 92, 96, 92),\n",
        "    class_a.성적표(\"윤아린\", 95, 98, 98, 98),\n",
        "    class_a.성적표(\"김명월\", 64, 88, 92, 92)\n",
        "]\n",
        "\n",
        "for n in students:\n",
        "    print(n.개별출력t())"
      ],
      "metadata": {
        "id": "4KUgUIzLUCOW"
      },
      "execution_count": null,
      "outputs": []
    },
    {
      "cell_type": "markdown",
      "source": [
        "숙제 2. 윤년 출력하기 "
      ],
      "metadata": {
        "id": "zsjq8D3IcWJ1"
      }
    }
  ]
}