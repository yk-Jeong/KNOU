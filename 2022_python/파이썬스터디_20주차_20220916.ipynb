{
  "nbformat": 4,
  "nbformat_minor": 0,
  "metadata": {
    "colab": {
      "provenance": [],
      "authorship_tag": "ABX9TyP7ajp0M8mCtsXv2RU8a7Fk",
      "include_colab_link": true
    },
    "kernelspec": {
      "name": "python3",
      "display_name": "Python 3"
    },
    "language_info": {
      "name": "python"
    }
  },
  "cells": [
    {
      "cell_type": "markdown",
      "metadata": {
        "id": "view-in-github",
        "colab_type": "text"
      },
      "source": [
        "<a href=\"https://colab.research.google.com/github/yk-Jeong/KNOU/blob/main/%ED%8C%8C%EC%9D%B4%EC%8D%AC%EC%8A%A4%ED%84%B0%EB%94%94_20%EC%A3%BC%EC%B0%A8_20220916.ipynb\" target=\"_parent\"><img src=\"https://colab.research.google.com/assets/colab-badge.svg\" alt=\"Open In Colab\"/></a>"
      ]
    },
    {
      "cell_type": "markdown",
      "source": [
        "2. 내부함수 "
      ],
      "metadata": {
        "id": "LheebZneN2Tm"
      }
    },
    {
      "cell_type": "code",
      "execution_count": 3,
      "metadata": {
        "colab": {
          "base_uri": "https://localhost:8080/"
        },
        "id": "CLDYslVf4YKz",
        "outputId": "e9fdcd11-328d-40f7-dc5e-a90a54f702fe"
      },
      "outputs": [
        {
          "output_type": "stream",
          "name": "stdout",
          "text": [
            "inner: 2\n",
            "outer: 1\n",
            "global: 0\n"
          ]
        }
      ],
      "source": [
        "x = 0 \n",
        "def outer():\n",
        "  x = 1\n",
        "  def inner():\n",
        "    x = 2\n",
        "    print(\"inner:\", x)\n",
        "  inner()\n",
        "  print(\"outer:\", x)\n",
        "\n",
        "outer()\n",
        "print(\"global:\", x)"
      ]
    },
    {
      "cell_type": "markdown",
      "source": [
        "nonlocal과 global 함수 "
      ],
      "metadata": {
        "id": "DddHNOMOOMC8"
      }
    },
    {
      "cell_type": "code",
      "source": [
        "x = 0\n",
        "def outer():\n",
        "  x = 1\n",
        "  def inner():\n",
        "    global x \n",
        "    x = 2\n",
        "    print(\"inner:\", x)\n",
        "  inner()\n",
        "  print(\"outer:\", x)"
      ],
      "metadata": {
        "id": "ZAWAX79nOL3i"
      },
      "execution_count": 4,
      "outputs": []
    },
    {
      "cell_type": "code",
      "source": [
        "outer()\n",
        "print(\"global:\", x)"
      ],
      "metadata": {
        "colab": {
          "base_uri": "https://localhost:8080/"
        },
        "id": "PtRCXbCJOCHR",
        "outputId": "97380019-e9b6-477b-eb29-b384391a3c85"
      },
      "execution_count": 5,
      "outputs": [
        {
          "output_type": "stream",
          "name": "stdout",
          "text": [
            "inner: 2\n",
            "outer: 1\n",
            "global: 2\n"
          ]
        }
      ]
    },
    {
      "cell_type": "code",
      "source": [],
      "metadata": {
        "id": "lvEjspM_OiwK"
      },
      "execution_count": null,
      "outputs": []
    }
  ]
}
