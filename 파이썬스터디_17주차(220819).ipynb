{
  "nbformat": 4,
  "nbformat_minor": 0,
  "metadata": {
    "colab": {
      "name": "파이썬스터디_17주차(220819).ipynb",
      "provenance": [],
      "collapsed_sections": [],
      "authorship_tag": "ABX9TyNzwfH2bBgaWTFx5Yo1sLPP",
      "include_colab_link": true
    },
    "kernelspec": {
      "name": "python3",
      "display_name": "Python 3"
    },
    "language_info": {
      "name": "python"
    }
  },
  "cells": [
    {
      "cell_type": "markdown",
      "metadata": {
        "id": "view-in-github",
        "colab_type": "text"
      },
      "source": [
        "<a href=\"https://colab.research.google.com/github/yk-Jeong/KNOU/blob/main/%ED%8C%8C%EC%9D%B4%EC%8D%AC%EC%8A%A4%ED%84%B0%EB%94%94_17%EC%A3%BC%EC%B0%A8(220819).ipynb\" target=\"_parent\"><img src=\"https://colab.research.google.com/assets/colab-badge.svg\" alt=\"Open In Colab\"/></a>"
      ]
    },
    {
      "cell_type": "code",
      "execution_count": null,
      "metadata": {
        "id": "veo_kWGOAYOh"
      },
      "outputs": [],
      "source": [
        "print(\"3 6 9 게임\")\n",
        "\n",
        "three = \"*\"\n",
        "\n",
        "for i in range(1, 51):\n",
        "  i = str(i)\n",
        "  if (3 not in i) or (6 not in i) or (9 not in i):\n",
        "    print(f'{i} = {i}')\n",
        "  else:\n",
        "    print(f'{i} = {three}')"
      ]
    },
    {
      "cell_type": "markdown",
      "source": [
        "1. 함수의 기본구성 \n",
        "- 함수의 기본 구성\n",
        "  - 호출과 정의 \n",
        "  - 매개변수(값을 전달할 필요가 없을 때는 생략할 수 있음)와 인수\n",
        "  - 전달되는 값이 여러 개일 때는 각각의 매개변수를 콤마로 구분함"
      ],
      "metadata": {
        "id": "RqOPVUI6DEHl"
      }
    },
    {
      "cell_type": "markdown",
      "source": [
        "###**재귀함수**\n",
        "- 자기 자신을 호출하는 함수를 재귀함수/재귀호출함수라고 한다. "
      ],
      "metadata": {
        "id": "ITUn5evCFmuv"
      }
    },
    {
      "cell_type": "code",
      "source": [
        "def factorial(n):\n",
        "  if n <= 1:\n",
        "    return 1\n",
        "  else:\n",
        "    return n * factorial(n - 1)"
      ],
      "metadata": {
        "id": "vXr3dHoHA8iF"
      },
      "execution_count": 6,
      "outputs": []
    },
    {
      "cell_type": "code",
      "source": [
        "factorial(3)"
      ],
      "metadata": {
        "colab": {
          "base_uri": "https://localhost:8080/"
        },
        "id": "6fDXdRWvGuLg",
        "outputId": "19d1d8fe-1096-46b8-9226-bb039e2f8b4a"
      },
      "execution_count": 7,
      "outputs": [
        {
          "output_type": "execute_result",
          "data": {
            "text/plain": [
              "6"
            ]
          },
          "metadata": {},
          "execution_count": 7
        }
      ]
    },
    {
      "cell_type": "code",
      "source": [
        ""
      ],
      "metadata": {
        "id": "vTPkr5v3G9hZ"
      },
      "execution_count": null,
      "outputs": []
    }
  ]
}