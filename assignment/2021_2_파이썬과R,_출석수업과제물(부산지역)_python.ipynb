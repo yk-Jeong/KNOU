{
  "nbformat": 4,
  "nbformat_minor": 0,
  "metadata": {
    "colab": {
      "name": "2021-2 파이썬과R, 출석수업과제물(부산지역).ipynb",
      "provenance": [],
      "collapsed_sections": [],
      "authorship_tag": "ABX9TyNI8fnBubLISAQMtp1yAr4i",
      "include_colab_link": true
    },
    "kernelspec": {
      "name": "python3",
      "display_name": "Python 3"
    },
    "language_info": {
      "name": "python"
    }
  },
  "cells": [
    {
      "cell_type": "markdown",
      "metadata": {
        "id": "view-in-github",
        "colab_type": "text"
      },
      "source": [
        "<a href=\"https://colab.research.google.com/github/yk-Jeong/KNOU/blob/main/2021_2_%ED%8C%8C%EC%9D%B4%EC%8D%AC%EA%B3%BCR%2C_%EC%B6%9C%EC%84%9D%EC%88%98%EC%97%85%EA%B3%BC%EC%A0%9C%EB%AC%BC(%EB%B6%80%EC%82%B0%EC%A7%80%EC%97%AD).ipynb\" target=\"_parent\"><img src=\"https://colab.research.google.com/assets/colab-badge.svg\" alt=\"Open In Colab\"/></a>"
      ]
    },
    {
      "cell_type": "code",
      "metadata": {
        "id": "ZhEr-rvheb2o"
      },
      "source": [
        "import numpy as np"
      ],
      "execution_count": 1,
      "outputs": []
    },
    {
      "cell_type": "markdown",
      "metadata": {
        "id": "xdZ8yi0mkr4Q"
      },
      "source": [
        "###교재 73페이지 5번"
      ]
    },
    {
      "cell_type": "code",
      "metadata": {
        "colab": {
          "base_uri": "https://localhost:8080/"
        },
        "id": "A2zXno6gerZy",
        "outputId": "f82b72fd-6d0f-4b55-dfdc-aba39f799287"
      },
      "source": [
        "mx = np.array([1, 2, 3, 4, 5, 6, 7, 8, 9, 10, 11, 12]).reshape(2, 6)\n",
        "mx"
      ],
      "execution_count": 2,
      "outputs": [
        {
          "output_type": "execute_result",
          "data": {
            "text/plain": [
              "array([[ 1,  2,  3,  4,  5,  6],\n",
              "       [ 7,  8,  9, 10, 11, 12]])"
            ]
          },
          "metadata": {},
          "execution_count": 2
        }
      ]
    },
    {
      "cell_type": "code",
      "metadata": {
        "id": "QVIxoxmve3qh"
      },
      "source": [
        "mx = np.insert(mx, 2, np.array([10, 20]), axis=1)"
      ],
      "execution_count": 3,
      "outputs": []
    },
    {
      "cell_type": "code",
      "metadata": {
        "colab": {
          "base_uri": "https://localhost:8080/"
        },
        "id": "EfXU6QD7fh2w",
        "outputId": "1813aeaf-74b0-4370-ea38-31f035e66cb1"
      },
      "source": [
        "mx"
      ],
      "execution_count": 4,
      "outputs": [
        {
          "output_type": "execute_result",
          "data": {
            "text/plain": [
              "array([[ 1,  2, 10,  3,  4,  5,  6],\n",
              "       [ 7,  8, 20,  9, 10, 11, 12]])"
            ]
          },
          "metadata": {},
          "execution_count": 4
        }
      ]
    },
    {
      "cell_type": "markdown",
      "metadata": {
        "id": "M5eQGSpakwsS"
      },
      "source": [
        "### 교재 100페이지 7번"
      ]
    },
    {
      "cell_type": "code",
      "metadata": {
        "id": "YyHkjDeuk8Lv"
      },
      "source": [
        "def mywage(x):\n",
        "  if (x <= 40):\n",
        "    print(x*10000,\"원\")\n",
        "  else:\n",
        "    print(((x-40)*15000)+400000,\"원\")"
      ],
      "execution_count": 18,
      "outputs": []
    },
    {
      "cell_type": "code",
      "metadata": {
        "colab": {
          "base_uri": "https://localhost:8080/"
        },
        "id": "J9HR0KkGltXc",
        "outputId": "36318887-b467-495b-a199-1fa2b303e8ce"
      },
      "source": [
        "mywage(45)"
      ],
      "execution_count": 19,
      "outputs": [
        {
          "output_type": "stream",
          "name": "stdout",
          "text": [
            "475000 원\n"
          ]
        }
      ]
    },
    {
      "cell_type": "markdown",
      "metadata": {
        "id": "A7LD5uGFk07R"
      },
      "source": [
        "###교재 100페이지 9번"
      ]
    },
    {
      "cell_type": "code",
      "metadata": {
        "id": "P6PM6Pguh4oN"
      },
      "source": [
        "def example(x): \n",
        "  a = \"Hello\" + x + \"!\"\n",
        "  b = \"Good-bye\" + x + \"!\"\n",
        "  result = [a, b]\n",
        "  for str in result:\n",
        "    print(str)"
      ],
      "execution_count": 10,
      "outputs": []
    },
    {
      "cell_type": "code",
      "metadata": {
        "colab": {
          "base_uri": "https://localhost:8080/"
        },
        "id": "o2FCYQtCkBkL",
        "outputId": "a6894f41-24a6-4e38-89fa-3efc5a51f158"
      },
      "source": [
        "example(\" David \")"
      ],
      "execution_count": 11,
      "outputs": [
        {
          "output_type": "stream",
          "name": "stdout",
          "text": [
            "Hello David !\n",
            "Good-bye David !\n"
          ]
        }
      ]
    },
    {
      "cell_type": "markdown",
      "metadata": {
        "id": "_EeFE83KqtLP"
      },
      "source": [
        "### 교재 269페이지 3번"
      ]
    },
    {
      "cell_type": "code",
      "metadata": {
        "id": "04xAf9pBqyLq"
      },
      "source": [
        "#하는 중"
      ],
      "execution_count": null,
      "outputs": []
    }
  ]
}
