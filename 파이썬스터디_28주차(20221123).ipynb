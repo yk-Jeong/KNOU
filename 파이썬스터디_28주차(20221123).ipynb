{
  "nbformat": 4,
  "nbformat_minor": 0,
  "metadata": {
    "colab": {
      "provenance": [],
      "authorship_tag": "ABX9TyOKbJjK3q0jYzJJI4E04p+a",
      "include_colab_link": true
    },
    "kernelspec": {
      "name": "python3",
      "display_name": "Python 3"
    },
    "language_info": {
      "name": "python"
    }
  },
  "cells": [
    {
      "cell_type": "markdown",
      "metadata": {
        "id": "view-in-github",
        "colab_type": "text"
      },
      "source": [
        "<a href=\"https://colab.research.google.com/github/yk-Jeong/KNOU/blob/main/%ED%8C%8C%EC%9D%B4%EC%8D%AC%EC%8A%A4%ED%84%B0%EB%94%94_28%EC%A3%BC%EC%B0%A8(20221123).ipynb\" target=\"_parent\"><img src=\"https://colab.research.google.com/assets/colab-badge.svg\" alt=\"Open In Colab\"/></a>"
      ]
    },
    {
      "cell_type": "markdown",
      "source": [
        "지난주 복습 "
      ],
      "metadata": {
        "id": "20PuQfC3b7Xa"
      }
    },
    {
      "cell_type": "code",
      "source": [
        "class Robot:\n",
        "  # power = 0 (init에서 초기화)\n",
        "  # name = \"\"\n",
        "\n",
        "  # 생성자\n",
        "  def __init__(self, in_name, in_power):\n",
        "    self.name = in_name \n",
        "    self.power = in_power\n",
        "\n",
        "  def incPower(self, a):\n",
        "\n",
        "    print(\"self.power의 값:\", self.power)\n",
        "    print(\"a의 값:\", a)\n",
        "    print()\n",
        "\n",
        "    self.power += a"
      ],
      "metadata": {
        "id": "1Cp9KSxHcNVC"
      },
      "execution_count": 71,
      "outputs": []
    },
    {
      "cell_type": "markdown",
      "source": [
        "클래스변수와 객체변수"
      ],
      "metadata": {
        "id": "NqzLvQsycNq3"
      }
    },
    {
      "cell_type": "code",
      "execution_count": 72,
      "metadata": {
        "id": "EmKt52HvZMVC"
      },
      "outputs": [],
      "source": [
        "class Robot:\n",
        "  number = 0 # class variable\n",
        "\n",
        "  def __init__(self, name):\n",
        "    Robot.number = Robot.number + 1\n",
        "    self.name = name # instance variable"
      ]
    },
    {
      "cell_type": "code",
      "source": [
        "r1 = Robot(\"짱가\")\n",
        "print(r1.number) \n",
        "print(r1.name) \n",
        "\n",
        "r2 = Robot(\"마징가\")\n",
        "print(r2.number)\n",
        "print(r2.name)\n",
        "print(r1.number) \n",
        "print(Robot.number)"
      ],
      "metadata": {
        "colab": {
          "base_uri": "https://localhost:8080/"
        },
        "id": "cj2MyndRck7T",
        "outputId": "49a83922-57f2-425e-a19b-b27cb03bfdca"
      },
      "execution_count": 73,
      "outputs": [
        {
          "output_type": "stream",
          "name": "stdout",
          "text": [
            "1\n",
            "짱가\n",
            "2\n",
            "마징가\n",
            "2\n",
            "2\n"
          ]
        }
      ]
    },
    {
      "cell_type": "markdown",
      "source": [
        "Robot.number와 self.number의 차이는? \n",
        "\n",
        "참고 https://wikidocs.net/1744 "
      ],
      "metadata": {
        "id": "o0Zo96rwcW87"
      }
    },
    {
      "cell_type": "code",
      "source": [
        "class Robot:\n",
        "  number = 0\n",
        "\n",
        "  def __init__(self, name, aa):\n",
        "    self.name = name\n",
        "    self.aa = aa + 1\n",
        "    self.number = Robot.number + 1\n",
        "    print(self.name, self.number, self.aa)"
      ],
      "metadata": {
        "id": "ss54JrZdee_Q"
      },
      "execution_count": 74,
      "outputs": []
    },
    {
      "cell_type": "code",
      "source": [
        "r1 = Robot(\"짱가\", 10)  # r1 인스턴스 생성\n",
        "print(r1.number)  # 모든 로봇이 공유\n",
        "print(r1.name)  # r1만 공유\n",
        "print(r1.aa)\n",
        "\n",
        "r2 = Robot(\"마징가\", 20) # r2 인스턴스 생성\n",
        "print(r2.number)\n",
        "print(r2.name)\n",
        "print(r2.aa)\n",
        "\n",
        "print(r1.number)\n",
        "print(Robot.number) # 왜 0이 나오는가? "
      ],
      "metadata": {
        "colab": {
          "base_uri": "https://localhost:8080/"
        },
        "id": "wLReiWPnfAiD",
        "outputId": "1c4e1e74-d6f4-4f36-c8fb-b20fbc4cb39a"
      },
      "execution_count": 75,
      "outputs": [
        {
          "output_type": "stream",
          "name": "stdout",
          "text": [
            "짱가 1 11\n",
            "1\n",
            "짱가\n",
            "11\n",
            "마징가 1 21\n",
            "1\n",
            "마징가\n",
            "21\n",
            "1\n",
            "0\n"
          ]
        }
      ]
    },
    {
      "cell_type": "markdown",
      "source": [
        "결론: class에 있는 것부터 찾고 없으면 self에 할당된 변수를 찾음. "
      ],
      "metadata": {
        "id": "cltWfYi2mUgn"
      }
    },
    {
      "cell_type": "markdown",
      "source": [
        "---\n",
        "### 상속"
      ],
      "metadata": {
        "id": "aquRKhfkn499"
      }
    },
    {
      "cell_type": "code",
      "source": [
        "# 부모 클래스\n",
        "class Robot:\n",
        "  def move(self):\n",
        "    print(\"움직입니다.\")"
      ],
      "metadata": {
        "id": "OIx-AV-tofTS"
      },
      "execution_count": 76,
      "outputs": []
    },
    {
      "cell_type": "code",
      "source": [
        "# 자식 클래스\n",
        "class DroneRobot(Robot):\n",
        "  def take_photos():\n",
        "    print(\"촬영합니다.\")"
      ],
      "metadata": {
        "id": "IXwmFUKLo4B_"
      },
      "execution_count": 77,
      "outputs": []
    },
    {
      "cell_type": "markdown",
      "source": [
        "instance에 있는 move는 자식 class에 없는 함수지만 부모 클래스에서 상속받아서 쓸 수 있게 됨"
      ],
      "metadata": {
        "id": "DI3CmRcjpVE5"
      }
    },
    {
      "cell_type": "code",
      "source": [
        "dr = DroneRobot()\n",
        "dr.move()"
      ],
      "metadata": {
        "colab": {
          "base_uri": "https://localhost:8080/"
        },
        "id": "l0p5RleIpHcg",
        "outputId": "23687cba-4a48-4be0-e4f2-9f208fa025a3"
      },
      "execution_count": 78,
      "outputs": [
        {
          "output_type": "stream",
          "name": "stdout",
          "text": [
            "움직입니다.\n"
          ]
        }
      ]
    },
    {
      "cell_type": "markdown",
      "source": [
        "- method overriding\n",
        "\n",
        "상속 관계에 있는 부모 클래스에서 <u>이미 정의된 메소드</u>를, 자식 클래스에서 **같은 시그니처**를 갖는 메소드로 다시 정의하는 것\n"
      ],
      "metadata": {
        "id": "mG9hc127pbnN"
      }
    },
    {
      "cell_type": "code",
      "source": [
        "# 자식 클래스\n",
        "class DroneRobot(Robot):\n",
        "  def take_photos():\n",
        "    print(\"촬영합니다.\")\n",
        "\n",
        "  def move(self):\n",
        "    print(\"날아다닙니다.\")\n",
        "\n",
        "dr = DroneRobot()\n",
        "dr.move()"
      ],
      "metadata": {
        "colab": {
          "base_uri": "https://localhost:8080/"
        },
        "id": "ytyktQ-vplQN",
        "outputId": "79a401ec-4ea9-43e4-da80-b38bb51cc5fe"
      },
      "execution_count": 79,
      "outputs": [
        {
          "output_type": "stream",
          "name": "stdout",
          "text": [
            "날아다닙니다.\n"
          ]
        }
      ]
    },
    {
      "cell_type": "markdown",
      "source": [
        "Q. 그렇다면 오버라이딩된 메소드가 아니라 **부모 클래스의 메소드**를 호출하고 싶을 때는 어떡하나요\n",
        "\n",
        "A. super: super()의 인자로는 두 개가 전달되며, 하위클래스의 이름과 하위클래스의 객체(object)가 필요"
      ],
      "metadata": {
        "id": "1wFGtHdJqYLx"
      }
    },
    {
      "cell_type": "code",
      "source": [
        "# 자식 클래스\n",
        "class DroneRobot(Robot):\n",
        "  def take_photos():\n",
        "    print(\"촬영합니다.\")\n",
        "\n",
        "  def move(self):\n",
        "    print(\"날아다닙니다.\")\n",
        "  \n",
        "  def super_move(self):\n",
        "    super().move()\n",
        "    \n",
        "dr = DroneRobot()\n",
        "dr.super_move()"
      ],
      "metadata": {
        "colab": {
          "base_uri": "https://localhost:8080/"
        },
        "id": "9kKz9gKSqGSd",
        "outputId": "4ad45f8d-c106-48ac-f469-85105b8e0f1f"
      },
      "execution_count": 81,
      "outputs": [
        {
          "output_type": "stream",
          "name": "stdout",
          "text": [
            "움직입니다.\n"
          ]
        }
      ]
    },
    {
      "cell_type": "markdown",
      "source": [
        "- 다중 상속 \n",
        "\n",
        "자바에서는 금지하고 있지만, 파이썬에서는 가능하다\n"
      ],
      "metadata": {
        "id": "HmJBnCljr34x"
      }
    },
    {
      "cell_type": "code",
      "source": [
        "# 엄마\n",
        "class Robot():\n",
        "  maker = \"SY company\"\n",
        "  \n",
        "  def move(self):\n",
        "    print(\"움직입니다.\")\n",
        "\n",
        "# 아빠\n",
        "class Plane():\n",
        "  wings = 4\n",
        "\n",
        "  def rise(self):\n",
        "    print(\"상승합니다.\")\n",
        "  def descend(self):\n",
        "    print(\"하강합니다.\")\n",
        "\n",
        "# 엄마와 아빠를 동시 상속 \n",
        "class DroneRobot(Robot, Plane):\n",
        "\n",
        "  def take_photos(): \n",
        "    print(\"촬영합니다.\")\n",
        "  def move(self): # 메소드 오버라이딩\n",
        "    print(\"날아다닙니다.\")\n",
        "  def super_move(self):\n",
        "    super().move()"
      ],
      "metadata": {
        "id": "zgiQXq-nrFAo"
      },
      "execution_count": 87,
      "outputs": []
    },
    {
      "cell_type": "code",
      "source": [
        "dr = DroneRobot()\n",
        "\n",
        "dr.move()\n",
        "dr.descend()\n",
        "print(dr.maker)\n",
        "print(dr.wings)"
      ],
      "metadata": {
        "colab": {
          "base_uri": "https://localhost:8080/"
        },
        "id": "Cb9zNF5ls6uy",
        "outputId": "54a8d9cb-8eb3-4f0d-f02c-665ac0cddbb2"
      },
      "execution_count": 88,
      "outputs": [
        {
          "output_type": "stream",
          "name": "stdout",
          "text": [
            "날아다닙니다.\n",
            "하강합니다.\n",
            "SY company\n",
            "4\n"
          ]
        }
      ]
    }
  ]
}