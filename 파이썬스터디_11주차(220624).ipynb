{
  "nbformat": 4,
  "nbformat_minor": 0,
  "metadata": {
    "colab": {
      "name": "파이썬스터디_11주차(220624).ipynb",
      "provenance": [],
      "authorship_tag": "ABX9TyPtm9/qVWQCcl3Bo0jNPh/Q",
      "include_colab_link": true
    },
    "kernelspec": {
      "name": "python3",
      "display_name": "Python 3"
    },
    "language_info": {
      "name": "python"
    }
  },
  "cells": [
    {
      "cell_type": "markdown",
      "metadata": {
        "id": "view-in-github",
        "colab_type": "text"
      },
      "source": [
        "<a href=\"https://colab.research.google.com/github/yk-Jeong/KNOU/blob/main/%ED%8C%8C%EC%9D%B4%EC%8D%AC%EC%8A%A4%ED%84%B0%EB%94%94_11%EC%A3%BC%EC%B0%A8(220624).ipynb\" target=\"_parent\"><img src=\"https://colab.research.google.com/assets/colab-badge.svg\" alt=\"Open In Colab\"/></a>"
      ]
    },
    {
      "cell_type": "markdown",
      "source": [
        "딕셔너리 순회: for문을 사용하여 딕셔너리의 요소들을 순회하면서 키를 반환한다."
      ],
      "metadata": {
        "id": "-T7lLwH4pAvd"
      }
    },
    {
      "cell_type": "code",
      "execution_count": 2,
      "metadata": {
        "id": "d00dp4STodv6"
      },
      "outputs": [],
      "source": [
        "student = {'kim':90, \n",
        "           'lee':80, \n",
        "           'park':95, \n",
        "           'choi':70}"
      ]
    },
    {
      "cell_type": "code",
      "source": [
        "for k in student:\n",
        "  print(k)"
      ],
      "metadata": {
        "colab": {
          "base_uri": "https://localhost:8080/"
        },
        "id": "TYo6AWzsoi1S",
        "outputId": "f1d1ee11-93e6-4221-d9fa-5e18529b0e79"
      },
      "execution_count": 13,
      "outputs": [
        {
          "output_type": "stream",
          "name": "stdout",
          "text": [
            "kim\n",
            "lee\n",
            "park\n",
            "choi\n"
          ]
        }
      ]
    },
    {
      "cell_type": "markdown",
      "source": [
        "<pre>kim 90\n",
        "lee 80\n",
        "park 95\n",
        "choi 70</pre>\n",
        "와 같은 형태로 출력하려면 어떻게 할 수 있을까? \n"
      ],
      "metadata": {
        "id": "idxJc4BqpvXt"
      }
    },
    {
      "cell_type": "code",
      "source": [
        "#answer\n",
        "for k, v in student.items():\n",
        "  print(k, v)"
      ],
      "metadata": {
        "colab": {
          "base_uri": "https://localhost:8080/"
        },
        "id": "K_lGd-XHotfb",
        "outputId": "21375fed-a46c-461f-f897-d38427aa79f8"
      },
      "execution_count": 14,
      "outputs": [
        {
          "output_type": "stream",
          "name": "stdout",
          "text": [
            "kim 90\n",
            "lee 80\n",
            "park 95\n",
            "choi 70\n"
          ]
        }
      ]
    },
    {
      "cell_type": "markdown",
      "source": [
        "<pre>\n",
        "average = 83.75\n",
        "</pre>\n",
        "\n",
        "를 출력해 보자. "
      ],
      "metadata": {
        "id": "plsrfISjqOod"
      }
    },
    {
      "cell_type": "code",
      "source": [
        "#풀었다!! ^^\n",
        "sum_score = 0\n",
        "for v in student.values():\n",
        "  sum_score += v\n",
        "aver = (sum_score / len(student.values()))\n",
        "print(\"average = %.2f\" %aver)"
      ],
      "metadata": {
        "colab": {
          "base_uri": "https://localhost:8080/"
        },
        "id": "Mfi3Bg3Ips_s",
        "outputId": "81a5d2d8-e306-4e32-bbfa-03c74f721bbf"
      },
      "execution_count": 36,
      "outputs": [
        {
          "output_type": "stream",
          "name": "stdout",
          "text": [
            "average = 83.75\n"
          ]
        }
      ]
    },
    {
      "cell_type": "code",
      "source": [
        ""
      ],
      "metadata": {
        "id": "5-l5ey_nq36A"
      },
      "execution_count": null,
      "outputs": []
    }
  ]
}