{
  "nbformat": 4,
  "nbformat_minor": 0,
  "metadata": {
    "colab": {
      "name": "파이썬스터디_18주차(220826).ipynb",
      "provenance": [],
      "collapsed_sections": [],
      "authorship_tag": "ABX9TyNJYoDAdnVwYRMWRenogSQJ",
      "include_colab_link": true
    },
    "kernelspec": {
      "name": "python3",
      "display_name": "Python 3"
    },
    "language_info": {
      "name": "python"
    }
  },
  "cells": [
    {
      "cell_type": "markdown",
      "metadata": {
        "id": "view-in-github",
        "colab_type": "text"
      },
      "source": [
        "<a href=\"https://colab.research.google.com/github/yk-Jeong/KNOU/blob/main/%ED%8C%8C%EC%9D%B4%EC%8D%AC%EC%8A%A4%ED%84%B0%EB%94%94_18%EC%A3%BC%EC%B0%A8(220826).ipynb\" target=\"_parent\"><img src=\"https://colab.research.google.com/assets/colab-badge.svg\" alt=\"Open In Colab\"/></a>"
      ]
    },
    {
      "cell_type": "markdown",
      "source": [
        "수업이 없고 대신 과제가 있었던 날. "
      ],
      "metadata": {
        "id": "QAa5b6D-UO7J"
      }
    },
    {
      "cell_type": "markdown",
      "source": [
        "1. 1부터 50까지 3, 6, 9 게임의 결과를 출력하는 프로그램을 작성한다. \n",
        "3, 6, 9 숫자가 한 번 들어갈 경우에는 `*`를, 3, 6, 9 숫자가 두 번 들어갈 경우에는 `**`를, 들어가지 않을 경우 숫자를 표시한다. "
      ],
      "metadata": {
        "id": "cm5VgxjRUTAX"
      }
    },
    {
      "cell_type": "code",
      "execution_count": 40,
      "metadata": {
        "id": "19jWpSIgUK85",
        "colab": {
          "base_uri": "https://localhost:8080/"
        },
        "outputId": "5f3a8a1c-3e05-44fa-a075-ce939df0e17f"
      },
      "outputs": [
        {
          "output_type": "stream",
          "name": "stdout",
          "text": [
            "1 = 1\n",
            "2 = 2\n",
            "3 = *\n",
            "4 = 4\n",
            "5 = 5\n",
            "6 = *\n",
            "7 = 7\n",
            "8 = 8\n",
            "9 = *\n",
            "10 = 10\n",
            "11 = 11\n",
            "12 = 12\n",
            "13 = *\n",
            "14 = 14\n",
            "15 = 15\n",
            "16 = *\n",
            "17 = 17\n",
            "18 = 18\n",
            "19 = *\n",
            "20 = 20\n",
            "21 = 21\n",
            "22 = 22\n",
            "23 = *\n",
            "24 = 24\n",
            "25 = 25\n",
            "26 = *\n",
            "27 = 27\n",
            "28 = 28\n",
            "29 = *\n",
            "30 = *\n",
            "31 = *\n",
            "32 = *\n",
            "33 = **\n",
            "34 = *\n",
            "35 = *\n",
            "36 = **\n",
            "37 = *\n",
            "38 = *\n",
            "39 = **\n",
            "40 = 40\n",
            "41 = 41\n",
            "42 = 42\n",
            "43 = *\n",
            "44 = 44\n",
            "45 = 45\n",
            "46 = *\n",
            "47 = 47\n",
            "48 = 48\n",
            "49 = *\n",
            "50 = 50\n"
          ]
        }
      ],
      "source": [
        "num = ['3', '6', '9']\n",
        "for i in range(1, 10):\n",
        "  a = str(i)\n",
        "  if a in num:\n",
        "    star = \"*\"\n",
        "  else: \n",
        "    star = a\n",
        "\n",
        "  print(f'{i} = {star}')\n",
        "\n",
        "for i in range(10, 51):\n",
        "  a = str(i)\n",
        "  if a[0] in num:\n",
        "    if (a[1] is not None) and (a[1] in num):\n",
        "      star = '**'\n",
        "    else:\n",
        "      star = '*'\n",
        "  elif (a[1] is not None) and (a[1] in num):\n",
        "    star = '*'\n",
        "  else:\n",
        "    star = a\n",
        "\n",
        "  print(f'{i} = {star}')"
      ]
    },
    {
      "cell_type": "markdown",
      "source": [
        "2. 1부터 n까지 더하는 프로그램을 재귀함수를 이용해 작성하시오. "
      ],
      "metadata": {
        "id": "RyrmHOZJWg8I"
      }
    },
    {
      "cell_type": "code",
      "source": [
        "def recursive(n):\n",
        "  if n < 2: # 반드시 n이 2보다 작은 경우를 상정해 주어야 함 \n",
        "    return n\n",
        "  else: \n",
        "    return n + recursive(n - 1)"
      ],
      "metadata": {
        "id": "gr2uWbXyWhRA"
      },
      "execution_count": 3,
      "outputs": []
    },
    {
      "cell_type": "code",
      "source": [
        "n = int(input(\"정수를 입력하세요: \"))\n",
        "print(f'1부터 {n}까지의 합은 {recursive(n)}입니다.')"
      ],
      "metadata": {
        "colab": {
          "base_uri": "https://localhost:8080/"
        },
        "id": "U7gQbrgcWxir",
        "outputId": "9fc17d02-085c-41e1-836c-f6763bd97315"
      },
      "execution_count": 4,
      "outputs": [
        {
          "output_type": "stream",
          "name": "stdout",
          "text": [
            "정수를 입력하세요: 100\n",
            "1부터 100까지의 합은 5050입니다.\n"
          ]
        }
      ]
    },
    {
      "cell_type": "markdown",
      "source": [
        "3. 3의 x^n을 계산하는 프로그램을 람다함수를 이용해 작성하시오."
      ],
      "metadata": {
        "id": "woBU1c5sXTJb"
      }
    },
    {
      "cell_type": "code",
      "source": [
        "x = float(input(\"밑을 입력하세요: \"))\n",
        "n = int(input(\"지수를 입력하세요: \"))\n",
        "result = lambda x, n: x ** n\n",
        "print(f'result = {result(x, n)}')"
      ],
      "metadata": {
        "colab": {
          "base_uri": "https://localhost:8080/"
        },
        "id": "S2Qt-4ukW22q",
        "outputId": "512fb2b5-0601-44ab-97bf-6c1e4e06d5ca"
      },
      "execution_count": 9,
      "outputs": [
        {
          "output_type": "stream",
          "name": "stdout",
          "text": [
            "밑을 입력하세요: 3.5\n",
            "지수를 입력하세요: 7\n",
            "result = 6433.9296875\n"
          ]
        }
      ]
    }
  ]
}