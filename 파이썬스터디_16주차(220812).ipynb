{
  "nbformat": 4,
  "nbformat_minor": 0,
  "metadata": {
    "colab": {
      "name": "파이썬스터디_16주차(220812).ipynb",
      "provenance": [],
      "collapsed_sections": [],
      "authorship_tag": "ABX9TyMeSx5MYfldJ5ViuiMYzp/Z",
      "include_colab_link": true
    },
    "kernelspec": {
      "name": "python3",
      "display_name": "Python 3"
    },
    "language_info": {
      "name": "python"
    }
  },
  "cells": [
    {
      "cell_type": "markdown",
      "metadata": {
        "id": "view-in-github",
        "colab_type": "text"
      },
      "source": [
        "<a href=\"https://colab.research.google.com/github/yk-Jeong/KNOU/blob/main/%ED%8C%8C%EC%9D%B4%EC%8D%AC%EC%8A%A4%ED%84%B0%EB%94%94_16%EC%A3%BC%EC%B0%A8(220812).ipynb\" target=\"_parent\"><img src=\"https://colab.research.google.com/assets/colab-badge.svg\" alt=\"Open In Colab\"/></a>"
      ]
    },
    {
      "cell_type": "markdown",
      "source": [
        "---\n",
        "###함수\n",
        "####위치 인수와 키워드 인수 \n",
        "\n",
        "- 위치 인수: 함수에서 인수의 위치를 정해서 순서대로 넣음\n",
        "- 키워드 인수: 함수를 호출할 때 인수의 순서와 관계없이 호출"
      ],
      "metadata": {
        "id": "CD3QYhbB90z-"
      }
    },
    {
      "cell_type": "markdown",
      "source": [
        "위치 인수 모으기와 가변 위치 인수 \n",
        "- 위치 인수 모으기: 매개변수가 여러 개 있는 경우, 여러 개의 값을 전달하려면 리스트 또는 튜플 앞에 *를 붙여서 함수의 인수로 사용할 수 있다."
      ],
      "metadata": {
        "id": "i_eueDX0_chV"
      }
    },
    {
      "cell_type": "code",
      "execution_count": null,
      "metadata": {
        "colab": {
          "base_uri": "https://localhost:8080/"
        },
        "id": "YA9pi0mNzaS4",
        "outputId": "544867ff-f27c-4fc1-b3df-ef440e5acbd4"
      },
      "outputs": [
        {
          "output_type": "stream",
          "name": "stdout",
          "text": [
            "30\n"
          ]
        }
      ],
      "source": [
        "def add(a, b):\n",
        "  return a + b\n",
        "\n",
        "values = [10, 20]\n",
        "print(add(*values))"
      ]
    },
    {
      "cell_type": "code",
      "source": [
        "def add2(a, b, c):\n",
        "  return a + b + c\n",
        "\n",
        "values2 = [10, 20, 30]\n",
        "print(add2(*values)) # 필요한 변수가 3개인데 모자라서 에러가 발생"
      ],
      "metadata": {
        "colab": {
          "base_uri": "https://localhost:8080/",
          "height": 211
        },
        "id": "e0SdP1r9_lic",
        "outputId": "6c96ccd1-b22e-478b-a6f5-6e8dc1f58237"
      },
      "execution_count": null,
      "outputs": [
        {
          "output_type": "error",
          "ename": "TypeError",
          "evalue": "ignored",
          "traceback": [
            "\u001b[0;31m---------------------------------------------------------------------------\u001b[0m",
            "\u001b[0;31mTypeError\u001b[0m                                 Traceback (most recent call last)",
            "\u001b[0;32m<ipython-input-6-43931c77d065>\u001b[0m in \u001b[0;36m<module>\u001b[0;34m()\u001b[0m\n\u001b[1;32m      3\u001b[0m \u001b[0;34m\u001b[0m\u001b[0m\n\u001b[1;32m      4\u001b[0m \u001b[0mvalues2\u001b[0m \u001b[0;34m=\u001b[0m \u001b[0;34m[\u001b[0m\u001b[0;36m10\u001b[0m\u001b[0;34m,\u001b[0m \u001b[0;36m20\u001b[0m\u001b[0;34m,\u001b[0m \u001b[0;36m30\u001b[0m\u001b[0;34m]\u001b[0m\u001b[0;34m\u001b[0m\u001b[0;34m\u001b[0m\u001b[0m\n\u001b[0;32m----> 5\u001b[0;31m \u001b[0mprint\u001b[0m\u001b[0;34m(\u001b[0m\u001b[0madd2\u001b[0m\u001b[0;34m(\u001b[0m\u001b[0;34m*\u001b[0m\u001b[0mvalues\u001b[0m\u001b[0;34m)\u001b[0m\u001b[0;34m)\u001b[0m\u001b[0;34m\u001b[0m\u001b[0;34m\u001b[0m\u001b[0m\n\u001b[0m",
            "\u001b[0;31mTypeError\u001b[0m: add2() missing 1 required positional argument: 'c'"
          ]
        }
      ]
    },
    {
      "cell_type": "code",
      "source": [
        "print(add(*values2)) # 반대로, 필요한 변수가 2개인데 넘쳐서 에러가 발생"
      ],
      "metadata": {
        "colab": {
          "base_uri": "https://localhost:8080/",
          "height": 174
        },
        "id": "a340-yHAA-Op",
        "outputId": "da3963a5-f14b-4051-e002-1df80323de99"
      },
      "execution_count": null,
      "outputs": [
        {
          "output_type": "error",
          "ename": "TypeError",
          "evalue": "ignored",
          "traceback": [
            "\u001b[0;31m---------------------------------------------------------------------------\u001b[0m",
            "\u001b[0;31mTypeError\u001b[0m                                 Traceback (most recent call last)",
            "\u001b[0;32m<ipython-input-7-95edbb688ceb>\u001b[0m in \u001b[0;36m<module>\u001b[0;34m()\u001b[0m\n\u001b[0;32m----> 1\u001b[0;31m \u001b[0mprint\u001b[0m\u001b[0;34m(\u001b[0m\u001b[0madd\u001b[0m\u001b[0;34m(\u001b[0m\u001b[0;34m*\u001b[0m\u001b[0mvalues2\u001b[0m\u001b[0;34m)\u001b[0m\u001b[0;34m)\u001b[0m\u001b[0;34m\u001b[0m\u001b[0;34m\u001b[0m\u001b[0m\n\u001b[0m",
            "\u001b[0;31mTypeError\u001b[0m: add() takes 2 positional arguments but 3 were given"
          ]
        }
      ]
    },
    {
      "cell_type": "markdown",
      "source": [
        "위치 인수 모으기와 가변 위치 인수\n",
        "- 가변 위치 인수: 함수를 정의할 때 *를 이용하여 매개변수를 지정하면 인수의 개수가 정해지지 않은 가변인수를 사용하는 함수가 만들어진다. "
      ],
      "metadata": {
        "id": "dGLJlkFpDk1m"
      }
    },
    {
      "cell_type": "code",
      "source": [
        "def addAll(*args):\n",
        "  sum = 0\n",
        "  for v in args: \n",
        "    sum += v\n",
        "  return sum\n",
        "\n",
        "print(addAll())"
      ],
      "metadata": {
        "colab": {
          "base_uri": "https://localhost:8080/"
        },
        "id": "R2jLhV3JCgfL",
        "outputId": "ae58263a-9de1-4f03-d470-8f3c02902668"
      },
      "execution_count": null,
      "outputs": [
        {
          "output_type": "stream",
          "name": "stdout",
          "text": [
            "0\n"
          ]
        }
      ]
    },
    {
      "cell_type": "code",
      "source": [
        "print(addAll(10))"
      ],
      "metadata": {
        "colab": {
          "base_uri": "https://localhost:8080/"
        },
        "id": "P1a5B16FDxYy",
        "outputId": "e456c2b6-b16a-4cd5-c58c-2385cff3fa44"
      },
      "execution_count": null,
      "outputs": [
        {
          "output_type": "stream",
          "name": "stdout",
          "text": [
            "10\n"
          ]
        }
      ]
    },
    {
      "cell_type": "code",
      "source": [
        "print(addAll(10, 20))"
      ],
      "metadata": {
        "colab": {
          "base_uri": "https://localhost:8080/"
        },
        "id": "coM90g4pFfJd",
        "outputId": "0c42ee41-f6b6-4a3a-c19d-6aa62a6dc00e"
      },
      "execution_count": null,
      "outputs": [
        {
          "output_type": "stream",
          "name": "stdout",
          "text": [
            "30\n"
          ]
        }
      ]
    },
    {
      "cell_type": "code",
      "source": [
        "values = [10, 20, 30]\n",
        "print(addAll(*values))"
      ],
      "metadata": {
        "colab": {
          "base_uri": "https://localhost:8080/"
        },
        "id": "k2u5C1-HFgU_",
        "outputId": "700882ee-c8fa-4955-cec3-8f33df59971c"
      },
      "execution_count": null,
      "outputs": [
        {
          "output_type": "stream",
          "name": "stdout",
          "text": [
            "60\n"
          ]
        }
      ]
    },
    {
      "cell_type": "markdown",
      "source": [
        "키워드 인수 모으기와 가변 인수\n",
        "- 키워드 인수 모으기: 키워드와 그에 해당하는 값을 쌍으로 구성되어 \n",
        "\n",
        "딕셔너리의 키는 반드시 문자열 형태여야 한다."
      ],
      "metadata": {
        "id": "LLdpO6jVHLTE"
      }
    },
    {
      "cell_type": "code",
      "source": [
        "def print_score(name, score):\n",
        "  print(\"Name = %s\" % name)\n",
        "  print(\"Score = %d\" % score)\n",
        "\n",
        "students = {'name':'kim', 'score':90}\n",
        "print_score(**students)"
      ],
      "metadata": {
        "colab": {
          "base_uri": "https://localhost:8080/"
        },
        "id": "xgD2MXC9Fiiw",
        "outputId": "e153e746-0538-4549-bfb3-45d7827627fe"
      },
      "execution_count": null,
      "outputs": [
        {
          "output_type": "stream",
          "name": "stdout",
          "text": [
            "Name = kim\n",
            "Score = 90\n"
          ]
        }
      ]
    },
    {
      "cell_type": "code",
      "source": [
        "def print_score(**kwargs):\n",
        "  for k, v in kwargs.items():\n",
        "    print(k, '=', v)\n",
        "\n",
        "print_score(name = 'kim')"
      ],
      "metadata": {
        "colab": {
          "base_uri": "https://localhost:8080/"
        },
        "id": "GI0vMtqJHn9V",
        "outputId": "8c9df4b4-bb8c-4c30-a351-cbe2d469a894"
      },
      "execution_count": null,
      "outputs": [
        {
          "output_type": "stream",
          "name": "stdout",
          "text": [
            "name = kim\n"
          ]
        }
      ]
    },
    {
      "cell_type": "markdown",
      "source": [
        "잠깐: **kwargs**란? \n",
        "\n",
        "keyword arguments의 줄임말로, 개념을 알고 싶다면 -> \n",
        "[참고](https://velog.io/@clueless_coder/%ED%8C%8C%EC%9D%B4%EC%8D%AC-args-%EC%99%80-kwargs-%EA%B0%80-%EB%AD%90%EC%98%88%EC%9A%94)\n",
        "\n",
        "\n",
        "[parameter와 argument의 차이](https://velog.io/@clueless_coder/%ED%8C%8C%EC%9D%B4%EC%8D%AC-Parameter-%EC%99%80-Argument-%EC%9D%98-%EC%B0%A8%EC%9D%B4%EA%B0%80-%EB%AD%90%EC%98%88%EC%9A%94)"
      ],
      "metadata": {
        "id": "XJKvaapPKHXx"
      }
    },
    {
      "cell_type": "markdown",
      "source": [
        "return 문장을 이용해서 값을 반환할 때, 한 개의 값만 반환할 수 있는 것이 아니라 comma를 이용하여 여러 개의 값을 한 번에 반환할 수 있다. "
      ],
      "metadata": {
        "id": "iJONz4Y2L57L"
      }
    },
    {
      "cell_type": "code",
      "source": [
        "def add_sub(a, b):\n",
        "  return a+b, a-b\n",
        "\n",
        "result1, result2 = add_sub(10, 20)\n",
        "print(result1, result2)"
      ],
      "metadata": {
        "colab": {
          "base_uri": "https://localhost:8080/"
        },
        "id": "fRkMSSYqJRw0",
        "outputId": "fdb39adc-264a-4590-9114-02215fdcab53"
      },
      "execution_count": null,
      "outputs": [
        {
          "output_type": "stream",
          "name": "stdout",
          "text": [
            "30 -10\n"
          ]
        }
      ]
    },
    {
      "cell_type": "markdown",
      "source": [
        "- 함수가 단순히 출력만을 담당한다면 값을 반환하지 않을 수도 있다. \n",
        "- 다음과 같이 함수의 반환값을 다른 변수에 넣을 경우 None\n",
        "None은 값이 없는 자료형이다. "
      ],
      "metadata": {
        "id": "Heb9KnizOiZc"
      }
    },
    {
      "cell_type": "code",
      "source": [
        "def print_hello():\n",
        "  print(\"Hello world!\")\n",
        "\n",
        "print(print_hello())"
      ],
      "metadata": {
        "id": "zoFfF6v2NY-1",
        "colab": {
          "base_uri": "https://localhost:8080/"
        },
        "outputId": "89fa5cc1-94bb-4da2-8389-b7be9da88477"
      },
      "execution_count": 20,
      "outputs": [
        {
          "output_type": "stream",
          "name": "stdout",
          "text": [
            "Hello world!\n",
            "None\n"
          ]
        }
      ]
    },
    {
      "cell_type": "markdown",
      "source": [
        "####미니 과제"
      ],
      "metadata": {
        "id": "Xue2-OmMO81u"
      }
    },
    {
      "cell_type": "code",
      "source": [
        "def print_Hello(a):\n",
        "  if a == False:\n",
        "    pass # return일 때와 pass일 때를 구분해 보자 \n",
        "  print(\"Hello World\")"
      ],
      "metadata": {
        "id": "4u1CFtDfOtgZ"
      },
      "execution_count": 30,
      "outputs": []
    },
    {
      "cell_type": "code",
      "source": [
        "print_Hello(False)"
      ],
      "metadata": {
        "colab": {
          "base_uri": "https://localhost:8080/"
        },
        "id": "Drf2IoMiPJcg",
        "outputId": "9edf14af-884d-47e9-bc37-efc365272c1e"
      },
      "execution_count": 31,
      "outputs": [
        {
          "output_type": "stream",
          "name": "stdout",
          "text": [
            "Hello World\n"
          ]
        }
      ]
    },
    {
      "cell_type": "code",
      "source": [
        "print_Hello(True)"
      ],
      "metadata": {
        "colab": {
          "base_uri": "https://localhost:8080/"
        },
        "id": "mpXsAYy8RpEx",
        "outputId": "55ccf045-7bbb-4fd7-d452-558b161bcd9d"
      },
      "execution_count": 32,
      "outputs": [
        {
          "output_type": "stream",
          "name": "stdout",
          "text": [
            "Hello World\n"
          ]
        }
      ]
    },
    {
      "cell_type": "code",
      "source": [
        ""
      ],
      "metadata": {
        "id": "TQSrUZ-mRqpl"
      },
      "execution_count": null,
      "outputs": []
    }
  ]
}