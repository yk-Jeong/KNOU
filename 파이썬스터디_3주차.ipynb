{
  "nbformat": 4,
  "nbformat_minor": 0,
  "metadata": {
    "colab": {
      "name": "파이썬스터디_3주차.ipynb",
      "provenance": [],
      "collapsed_sections": [],
      "authorship_tag": "ABX9TyOEnJDXjbuzfqfXh2HLPNLZ",
      "include_colab_link": true
    },
    "kernelspec": {
      "name": "python3",
      "display_name": "Python 3"
    },
    "language_info": {
      "name": "python"
    }
  },
  "cells": [
    {
      "cell_type": "markdown",
      "metadata": {
        "id": "view-in-github",
        "colab_type": "text"
      },
      "source": [
        "<a href=\"https://colab.research.google.com/github/yk-Jeong/KNOU/blob/main/%ED%8C%8C%EC%9D%B4%EC%8D%AC%EC%8A%A4%ED%84%B0%EB%94%94_3%EC%A3%BC%EC%B0%A8.ipynb\" target=\"_parent\"><img src=\"https://colab.research.google.com/assets/colab-badge.svg\" alt=\"Open In Colab\"/></a>"
      ]
    },
    {
      "cell_type": "markdown",
      "source": [
        "**리스트의 생성**\n",
        "- 대괄호를 사용하며, 저장되는 값들은 콤마로 구분\n",
        "- *서로 다른 자료형을 저장*할 수 있다 "
      ],
      "metadata": {
        "id": "2JHEo1kM7huG"
      }
    },
    {
      "cell_type": "markdown",
      "source": [
        "#####예제"
      ],
      "metadata": {
        "id": "xm0W1yCv9fuY"
      }
    },
    {
      "cell_type": "code",
      "execution_count": 1,
      "metadata": {
        "colab": {
          "base_uri": "https://localhost:8080/"
        },
        "id": "a7HDuPEt7bdd",
        "outputId": "a8768e2a-15e3-4dd8-8ef0-55e6aad25889"
      },
      "outputs": [
        {
          "output_type": "stream",
          "name": "stdout",
          "text": [
            "[10, 20, 30, 40, 50, 60, 70, 80, 90, 100]\n",
            "[10, 20, 30, 40, 50, 60, 70, 80, 90, 100, 'sun', 'mon', 'tue', 'wed', 'thr', 'fri', 'sat']\n"
          ]
        }
      ],
      "source": [
        "value1 = [10, 20, 30, 40, 50, 60, 70, 80, 90, 100]\n",
        "print(value1)\n",
        "\n",
        "value2 = [\"sun\", \"mon\", \"tue\", \"wed\", \"thr\", \"fri\", \"sat\"]\n",
        "\n",
        "value3 = value1 + value2\n",
        "print(value3)"
      ]
    },
    {
      "cell_type": "code",
      "source": [
        "list(range(10))"
      ],
      "metadata": {
        "colab": {
          "base_uri": "https://localhost:8080/"
        },
        "id": "tyhYFsQo72M3",
        "outputId": "d2f34a3d-b75e-4a87-811d-4140e0c69031"
      },
      "execution_count": 2,
      "outputs": [
        {
          "output_type": "execute_result",
          "data": {
            "text/plain": [
              "[0, 1, 2, 3, 4, 5, 6, 7, 8, 9]"
            ]
          },
          "metadata": {},
          "execution_count": 2
        }
      ]
    },
    {
      "cell_type": "code",
      "source": [
        "list(range(0, 10))"
      ],
      "metadata": {
        "colab": {
          "base_uri": "https://localhost:8080/"
        },
        "id": "Zxx6-D1-8gca",
        "outputId": "85878b6e-12e5-4c40-9611-6b98ed3355ac"
      },
      "execution_count": 4,
      "outputs": [
        {
          "output_type": "execute_result",
          "data": {
            "text/plain": [
              "[0, 1, 2, 3, 4, 5, 6, 7, 8, 9]"
            ]
          },
          "metadata": {},
          "execution_count": 4
        }
      ]
    },
    {
      "cell_type": "code",
      "source": [
        "list(range(0, 10, 2))"
      ],
      "metadata": {
        "colab": {
          "base_uri": "https://localhost:8080/"
        },
        "id": "H-5Rh7n58liu",
        "outputId": "40ea5941-0c77-477c-a694-57b43e74195c"
      },
      "execution_count": 5,
      "outputs": [
        {
          "output_type": "execute_result",
          "data": {
            "text/plain": [
              "[0, 2, 4, 6, 8]"
            ]
          },
          "metadata": {},
          "execution_count": 5
        }
      ]
    },
    {
      "cell_type": "code",
      "source": [
        "\n",
        "list(range(10, 0))"
      ],
      "metadata": {
        "colab": {
          "base_uri": "https://localhost:8080/"
        },
        "id": "GfyfV1eo8oHq",
        "outputId": "5c5b715d-805c-48a5-c875-6d6892a278b2"
      },
      "execution_count": 6,
      "outputs": [
        {
          "output_type": "execute_result",
          "data": {
            "text/plain": [
              "[]"
            ]
          },
          "metadata": {},
          "execution_count": 6
        }
      ]
    },
    {
      "cell_type": "code",
      "source": [
        "\n",
        "list(range(10, 0, -1))"
      ],
      "metadata": {
        "colab": {
          "base_uri": "https://localhost:8080/"
        },
        "id": "yLF7cdjA8ovU",
        "outputId": "7a32c5c2-0311-4b45-c793-37348f8dd975"
      },
      "execution_count": 7,
      "outputs": [
        {
          "output_type": "execute_result",
          "data": {
            "text/plain": [
              "[10, 9, 8, 7, 6, 5, 4, 3, 2, 1]"
            ]
          },
          "metadata": {},
          "execution_count": 7
        }
      ]
    },
    {
      "cell_type": "markdown",
      "source": [
        "#####다른 자료형을 리스트로 변환하기"
      ],
      "metadata": {
        "id": "2eMfMo5b9iGD"
      }
    },
    {
      "cell_type": "code",
      "source": [
        "value6 = list(\"hello\")\n",
        "print(value6)"
      ],
      "metadata": {
        "colab": {
          "base_uri": "https://localhost:8080/"
        },
        "id": "p8K-gFTc8o8-",
        "outputId": "deb614e9-4142-417c-9122-e0c5594f5bad"
      },
      "execution_count": 8,
      "outputs": [
        {
          "output_type": "stream",
          "name": "stdout",
          "text": [
            "['h', 'e', 'l', 'l', 'o']\n"
          ]
        }
      ]
    },
    {
      "cell_type": "code",
      "source": [
        "tuple_value = (10, 20, 30)\n",
        "print(tuple_value)\n",
        "value7 = list(tuple_value)\n",
        "print(value7)"
      ],
      "metadata": {
        "colab": {
          "base_uri": "https://localhost:8080/"
        },
        "id": "IK6uVmGX9pOL",
        "outputId": "97eec5eb-72d4-41c3-bdc9-952af9d0d782"
      },
      "execution_count": 9,
      "outputs": [
        {
          "output_type": "stream",
          "name": "stdout",
          "text": [
            "(10, 20, 30)\n",
            "[10, 20, 30]\n"
          ]
        }
      ]
    },
    {
      "cell_type": "markdown",
      "source": [
        "#####2차원 리스트를 생성할 수 있다(리스트 안의 리스트)"
      ],
      "metadata": {
        "id": "c-wZ1ngC9-vJ"
      }
    },
    {
      "cell_type": "code",
      "source": [
        "student = [['kim', 90], ['lee', 80], ['park', 70]]\n",
        "print(student)"
      ],
      "metadata": {
        "colab": {
          "base_uri": "https://localhost:8080/"
        },
        "id": "TRkz4sKK9urz",
        "outputId": "bb94b0a0-c752-48d8-bbea-38914a2d5526"
      },
      "execution_count": 11,
      "outputs": [
        {
          "output_type": "stream",
          "name": "stdout",
          "text": [
            "[['kim', 90], ['lee', 80], ['park', 70]]\n"
          ]
        }
      ]
    },
    {
      "cell_type": "code",
      "source": [
        "value = [[10, 20], [30, 40, 50], [60, 70, 80, 90]]\n",
        "print(value)"
      ],
      "metadata": {
        "colab": {
          "base_uri": "https://localhost:8080/"
        },
        "id": "mSjSfHaL-KjF",
        "outputId": "7286657d-9003-4b69-bc85-bd15374819c4"
      },
      "execution_count": 12,
      "outputs": [
        {
          "output_type": "stream",
          "name": "stdout",
          "text": [
            "[[10, 20], [30, 40, 50], [60, 70, 80, 90]]\n"
          ]
        }
      ]
    },
    {
      "cell_type": "code",
      "source": [
        "student[0]"
      ],
      "metadata": {
        "colab": {
          "base_uri": "https://localhost:8080/"
        },
        "id": "dB_yy3QL-QpO",
        "outputId": "9e1353da-9dec-4b6e-f3f9-5ad2bc49fbfd"
      },
      "execution_count": 13,
      "outputs": [
        {
          "output_type": "execute_result",
          "data": {
            "text/plain": [
              "['kim', 90]"
            ]
          },
          "metadata": {},
          "execution_count": 13
        }
      ]
    },
    {
      "cell_type": "markdown",
      "source": [
        "리스트의 인덱싱과 슬라이싱"
      ],
      "metadata": {
        "id": "2KOECJNP_oHh"
      }
    },
    {
      "cell_type": "markdown",
      "source": [
        "#####예제"
      ],
      "metadata": {
        "id": "c_hg12GpBtcd"
      }
    },
    {
      "cell_type": "code",
      "source": [
        "#인덱싱\n",
        "value1 = [10, 20, 30, 40, 50]\n",
        "value1[0] = 1000\n",
        "print(value1)"
      ],
      "metadata": {
        "colab": {
          "base_uri": "https://localhost:8080/"
        },
        "id": "LHusU7Gw_IaK",
        "outputId": "bf53df77-0d39-4be0-b8a1-6e3ff9029c4f"
      },
      "execution_count": 14,
      "outputs": [
        {
          "output_type": "stream",
          "name": "stdout",
          "text": [
            "[1000, 20, 30, 40, 50]\n"
          ]
        }
      ]
    },
    {
      "cell_type": "code",
      "source": [
        "#슬라이싱\n",
        "value = list(range(0, 100, 10))\n",
        "value"
      ],
      "metadata": {
        "colab": {
          "base_uri": "https://localhost:8080/"
        },
        "id": "-pi2EDzj_uIC",
        "outputId": "b83acc83-a571-4391-fa33-6a71f56d509d"
      },
      "execution_count": 15,
      "outputs": [
        {
          "output_type": "execute_result",
          "data": {
            "text/plain": [
              "[0, 10, 20, 30, 40, 50, 60, 70, 80, 90]"
            ]
          },
          "metadata": {},
          "execution_count": 15
        }
      ]
    },
    {
      "cell_type": "code",
      "source": [
        "value[:]"
      ],
      "metadata": {
        "colab": {
          "base_uri": "https://localhost:8080/"
        },
        "id": "8D-eD-jMAxiD",
        "outputId": "17affe1e-2c27-447a-80fb-59ba76a36e0c"
      },
      "execution_count": 16,
      "outputs": [
        {
          "output_type": "execute_result",
          "data": {
            "text/plain": [
              "[0, 10, 20, 30, 40, 50, 60, 70, 80, 90]"
            ]
          },
          "metadata": {},
          "execution_count": 16
        }
      ]
    },
    {
      "cell_type": "code",
      "source": [
        "value[:5]"
      ],
      "metadata": {
        "colab": {
          "base_uri": "https://localhost:8080/"
        },
        "id": "p8KZj7DeAyFf",
        "outputId": "1cd818ef-9277-4da9-fe7d-3fc74c7aaba1"
      },
      "execution_count": 17,
      "outputs": [
        {
          "output_type": "execute_result",
          "data": {
            "text/plain": [
              "[0, 10, 20, 30, 40]"
            ]
          },
          "metadata": {},
          "execution_count": 17
        }
      ]
    },
    {
      "cell_type": "code",
      "source": [
        "value[5:]"
      ],
      "metadata": {
        "colab": {
          "base_uri": "https://localhost:8080/"
        },
        "id": "18GIo2VCAzKv",
        "outputId": "05aa28ad-064a-4943-dcbf-1288bd6a9c32"
      },
      "execution_count": 18,
      "outputs": [
        {
          "output_type": "execute_result",
          "data": {
            "text/plain": [
              "[50, 60, 70, 80, 90]"
            ]
          },
          "metadata": {},
          "execution_count": 18
        }
      ]
    },
    {
      "cell_type": "code",
      "source": [
        "value[2:5]"
      ],
      "metadata": {
        "colab": {
          "base_uri": "https://localhost:8080/"
        },
        "id": "3fulAFDVAz31",
        "outputId": "28b36a34-4d91-44c6-bc8b-4ba1138760d3"
      },
      "execution_count": 19,
      "outputs": [
        {
          "output_type": "execute_result",
          "data": {
            "text/plain": [
              "[20, 30, 40]"
            ]
          },
          "metadata": {},
          "execution_count": 19
        }
      ]
    },
    {
      "cell_type": "code",
      "source": [
        "value[:-2]"
      ],
      "metadata": {
        "colab": {
          "base_uri": "https://localhost:8080/"
        },
        "id": "IWFPfOCyA0uY",
        "outputId": "faedfcbc-e481-48c8-cf4c-93b83faba0ce"
      },
      "execution_count": 20,
      "outputs": [
        {
          "output_type": "execute_result",
          "data": {
            "text/plain": [
              "[0, 10, 20, 30, 40, 50, 60, 70]"
            ]
          },
          "metadata": {},
          "execution_count": 20
        }
      ]
    },
    {
      "cell_type": "code",
      "source": [
        "value[-5:-2]"
      ],
      "metadata": {
        "colab": {
          "base_uri": "https://localhost:8080/"
        },
        "id": "queRQgRCA_nW",
        "outputId": "f69f08e3-004a-40d6-8f2b-a3dfd6b0ac7b"
      },
      "execution_count": 21,
      "outputs": [
        {
          "output_type": "execute_result",
          "data": {
            "text/plain": [
              "[50, 60, 70]"
            ]
          },
          "metadata": {},
          "execution_count": 21
        }
      ]
    },
    {
      "cell_type": "code",
      "source": [
        "value[::2]"
      ],
      "metadata": {
        "colab": {
          "base_uri": "https://localhost:8080/"
        },
        "id": "haS6f502BAp_",
        "outputId": "670ac2da-cc8c-410b-dd9f-c6731a2c4292"
      },
      "execution_count": 22,
      "outputs": [
        {
          "output_type": "execute_result",
          "data": {
            "text/plain": [
              "[0, 20, 40, 60, 80]"
            ]
          },
          "metadata": {},
          "execution_count": 22
        }
      ]
    },
    {
      "cell_type": "code",
      "source": [
        "value[::-1]"
      ],
      "metadata": {
        "colab": {
          "base_uri": "https://localhost:8080/"
        },
        "id": "rgWR_kIiBCJ9",
        "outputId": "a92c7991-5222-4b15-f81b-1b536bec8f2f"
      },
      "execution_count": 23,
      "outputs": [
        {
          "output_type": "execute_result",
          "data": {
            "text/plain": [
              "[90, 80, 70, 60, 50, 40, 30, 20, 10, 0]"
            ]
          },
          "metadata": {},
          "execution_count": 23
        }
      ]
    },
    {
      "cell_type": "code",
      "source": [
        "value[:2]"
      ],
      "metadata": {
        "colab": {
          "base_uri": "https://localhost:8080/"
        },
        "id": "mPUgsocSBC4z",
        "outputId": "dd2e5b3d-05a2-4e17-ea66-1e091dc2f00b"
      },
      "execution_count": 24,
      "outputs": [
        {
          "output_type": "execute_result",
          "data": {
            "text/plain": [
              "[0, 10]"
            ]
          },
          "metadata": {},
          "execution_count": 24
        }
      ]
    },
    {
      "cell_type": "code",
      "source": [
        "value[::-2]"
      ],
      "metadata": {
        "colab": {
          "base_uri": "https://localhost:8080/"
        },
        "id": "UcQq2Ch4BHxA",
        "outputId": "a677d877-a93f-4f26-e7d0-be6dedefc7f0"
      },
      "execution_count": 25,
      "outputs": [
        {
          "output_type": "execute_result",
          "data": {
            "text/plain": [
              "[90, 70, 50, 30, 10]"
            ]
          },
          "metadata": {},
          "execution_count": 25
        }
      ]
    },
    {
      "cell_type": "markdown",
      "source": [
        "리스트 연산"
      ],
      "metadata": {
        "id": "lchqyQdcBwAS"
      }
    },
    {
      "cell_type": "markdown",
      "source": [
        "리스트의 복사와 is 연산자"
      ],
      "metadata": {
        "id": "7-1pBsNlBy8z"
      }
    },
    {
      "cell_type": "code",
      "source": [
        "#대입 연산자를 이용\n",
        "\n",
        "value1 = list(range(10))\n",
        "value2 = value1\n",
        "print(value1)\n",
        "print(value2)"
      ],
      "metadata": {
        "colab": {
          "base_uri": "https://localhost:8080/"
        },
        "id": "Z_vhL3j0BP3Q",
        "outputId": "b334b5fd-c198-448a-df82-d7bb27fb5151"
      },
      "execution_count": 26,
      "outputs": [
        {
          "output_type": "stream",
          "name": "stdout",
          "text": [
            "[0, 1, 2, 3, 4, 5, 6, 7, 8, 9]\n",
            "[0, 1, 2, 3, 4, 5, 6, 7, 8, 9]\n"
          ]
        }
      ]
    },
    {
      "cell_type": "code",
      "source": [
        "#인덱스를 이용하여 변경\n",
        "\n",
        "value1[0] = 100\n",
        "print(value1)\n",
        "print(value2)"
      ],
      "metadata": {
        "colab": {
          "base_uri": "https://localhost:8080/"
        },
        "id": "yDFweTSlB56x",
        "outputId": "de52ee20-fee5-4cff-90d1-d3a62d3ef23e"
      },
      "execution_count": 27,
      "outputs": [
        {
          "output_type": "stream",
          "name": "stdout",
          "text": [
            "[100, 1, 2, 3, 4, 5, 6, 7, 8, 9]\n",
            "[100, 1, 2, 3, 4, 5, 6, 7, 8, 9]\n"
          ]
        }
      ]
    },
    {
      "cell_type": "markdown",
      "source": [
        "대입 연산자를 이용하여 값을 복사하면 실제 값이 복사되는 것이 아니라 **동일한 공간에 새로운 이름을 부여**한다.\n",
        "<br>: C의 참조와 동일한 개념"
      ],
      "metadata": {
        "id": "mlViK6tVCBte"
      }
    },
    {
      "cell_type": "markdown",
      "source": [
        "동일한 공간인지 확인할 때 is 연산자를 사용"
      ],
      "metadata": {
        "id": "JnRTsJfHDX1S"
      }
    },
    {
      "cell_type": "code",
      "source": [
        "value1 = list(range(0, 10))\n",
        "value2 = value1 \n",
        "value1 is value2"
      ],
      "metadata": {
        "colab": {
          "base_uri": "https://localhost:8080/"
        },
        "id": "Dh4sTs9cB_7c",
        "outputId": "7e0e1805-dfa7-4d90-b4c9-af85c1dc9370"
      },
      "execution_count": 28,
      "outputs": [
        {
          "output_type": "execute_result",
          "data": {
            "text/plain": [
              "True"
            ]
          },
          "metadata": {},
          "execution_count": 28
        }
      ]
    },
    {
      "cell_type": "code",
      "source": [
        "value2 = list(range(0, 10))\n",
        "value2 is value1"
      ],
      "metadata": {
        "colab": {
          "base_uri": "https://localhost:8080/"
        },
        "id": "1eJcpAwWDgG2",
        "outputId": "eedcb381-d375-4d9d-9bad-a122b90d324e"
      },
      "execution_count": 29,
      "outputs": [
        {
          "output_type": "execute_result",
          "data": {
            "text/plain": [
              "False"
            ]
          },
          "metadata": {},
          "execution_count": 29
        }
      ]
    },
    {
      "cell_type": "code",
      "source": [
        "value1[0] = 1000\n",
        "print(value1)\n",
        "print(value2)"
      ],
      "metadata": {
        "colab": {
          "base_uri": "https://localhost:8080/"
        },
        "id": "FvTqCY9LDkZz",
        "outputId": "c3695f00-2bd9-4418-9f14-7f3a863c5531"
      },
      "execution_count": 30,
      "outputs": [
        {
          "output_type": "stream",
          "name": "stdout",
          "text": [
            "[1000, 1, 2, 3, 4, 5, 6, 7, 8, 9]\n",
            "[0, 1, 2, 3, 4, 5, 6, 7, 8, 9]\n"
          ]
        }
      ]
    },
    {
      "cell_type": "markdown",
      "source": [
        "리스트 복사: .copy() method를 이용"
      ],
      "metadata": {
        "id": "9pBZ1jbrEP-P"
      }
    },
    {
      "cell_type": "code",
      "source": [
        "value3 = list(range(10))\n",
        "print(value3)\n",
        "value1 is value3"
      ],
      "metadata": {
        "colab": {
          "base_uri": "https://localhost:8080/"
        },
        "id": "4XqEYMhwDm6q",
        "outputId": "d29537b3-3711-4bfb-d5c9-9c7785da0a3b"
      },
      "execution_count": 32,
      "outputs": [
        {
          "output_type": "stream",
          "name": "stdout",
          "text": [
            "[0, 1, 2, 3, 4, 5, 6, 7, 8, 9]\n"
          ]
        },
        {
          "output_type": "execute_result",
          "data": {
            "text/plain": [
              "False"
            ]
          },
          "metadata": {},
          "execution_count": 32
        }
      ]
    },
    {
      "cell_type": "code",
      "source": [
        "value4 = value1[:]\n",
        "print(value4)\n",
        "value1 is value4"
      ],
      "metadata": {
        "colab": {
          "base_uri": "https://localhost:8080/"
        },
        "id": "q2Ve-B58EWH_",
        "outputId": "663879c9-b4af-4dd4-884b-1be7e589d858"
      },
      "execution_count": 33,
      "outputs": [
        {
          "output_type": "stream",
          "name": "stdout",
          "text": [
            "[0, 1, 2, 3, 4, 5, 6, 7, 8, 9]\n"
          ]
        },
        {
          "output_type": "execute_result",
          "data": {
            "text/plain": [
              "False"
            ]
          },
          "metadata": {},
          "execution_count": 33
        }
      ]
    },
    {
      "cell_type": "markdown",
      "source": [
        "요소의 삭제: del은 지운 다음 당겨준다! "
      ],
      "metadata": {
        "id": "4teGC15LE7ci"
      }
    },
    {
      "cell_type": "code",
      "source": [
        "value = list(range(10, 50, 10))\n",
        "del value[2]\n",
        "print(value)"
      ],
      "metadata": {
        "colab": {
          "base_uri": "https://localhost:8080/"
        },
        "id": "HomzsQi-EdXF",
        "outputId": "c7db3b7a-ae76-4b4b-85d7-0277e7f0a9b2"
      },
      "execution_count": 44,
      "outputs": [
        {
          "output_type": "stream",
          "name": "stdout",
          "text": [
            "[10, 20, 40]\n"
          ]
        }
      ]
    },
    {
      "cell_type": "markdown",
      "source": [
        "in: 문자열 내부에 특정 문자열이 존재하는지를 boolean으로 표현 "
      ],
      "metadata": {
        "id": "wPVUcfcnFT-s"
      }
    },
    {
      "cell_type": "code",
      "source": [
        "value = list(range(0, 100, 10))\n",
        "print(value)\n",
        "30 in value, 25 in value"
      ],
      "metadata": {
        "colab": {
          "base_uri": "https://localhost:8080/"
        },
        "id": "YwhVhrpAE_8C",
        "outputId": "f68f282a-a442-4104-86d4-35f0c6a9f767"
      },
      "execution_count": 40,
      "outputs": [
        {
          "output_type": "stream",
          "name": "stdout",
          "text": [
            "[0, 10, 20, 30, 40, 50, 60, 70, 80, 90]\n"
          ]
        },
        {
          "output_type": "execute_result",
          "data": {
            "text/plain": [
              "(True, False)"
            ]
          },
          "metadata": {},
          "execution_count": 40
        }
      ]
    },
    {
      "cell_type": "code",
      "source": [
        "value = range(1, 6)\n",
        "len(value)"
      ],
      "metadata": {
        "colab": {
          "base_uri": "https://localhost:8080/"
        },
        "id": "7lkTuTWkFDMt",
        "outputId": "dba18571-1db0-4f3e-8337-ac9142600986"
      },
      "execution_count": 42,
      "outputs": [
        {
          "output_type": "execute_result",
          "data": {
            "text/plain": [
              "5"
            ]
          },
          "metadata": {},
          "execution_count": 42
        }
      ]
    },
    {
      "cell_type": "markdown",
      "source": [
        "리스트 내부 메소드\n",
        "- 문자열과 마찬가지로 "
      ],
      "metadata": {
        "id": "_v40D69uF8J8"
      }
    },
    {
      "cell_type": "code",
      "source": [
        ""
      ],
      "metadata": {
        "id": "FIr1HnTnF6ex"
      },
      "execution_count": null,
      "outputs": []
    }
  ]
}