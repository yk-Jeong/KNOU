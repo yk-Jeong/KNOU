{
  "nbformat": 4,
  "nbformat_minor": 0,
  "metadata": {
    "colab": {
      "name": "파이썬스터디_9주차.ipynb",
      "provenance": [],
      "collapsed_sections": [],
      "authorship_tag": "ABX9TyPkQisNYdPt1gxlwONdBAew",
      "include_colab_link": true
    },
    "kernelspec": {
      "name": "python3",
      "display_name": "Python 3"
    },
    "language_info": {
      "name": "python"
    }
  },
  "cells": [
    {
      "cell_type": "markdown",
      "metadata": {
        "id": "view-in-github",
        "colab_type": "text"
      },
      "source": [
        "<a href=\"https://colab.research.google.com/github/yk-Jeong/KNOU/blob/main/%ED%8C%8C%EC%9D%B4%EC%8D%AC%EC%8A%A4%ED%84%B0%EB%94%94_9%EC%A3%BC%EC%B0%A8.ipynb\" target=\"_parent\"><img src=\"https://colab.research.google.com/assets/colab-badge.svg\" alt=\"Open In Colab\"/></a>"
      ]
    },
    {
      "cell_type": "markdown",
      "source": [
        "while문: \n",
        "\n",
        "python에서 가장 간단한 반복문의 일종.\n",
        "\n",
        "식이 참이면 문장을 실행하고, 식이 거짓이면 문장의 실행을 종료한다(단 실행할 문장들이 while보다 들여쓰기되어 있어야 함)."
      ],
      "metadata": {
        "id": "mZ6R6sp3K58x"
      }
    },
    {
      "cell_type": "code",
      "source": [
        "value = int(input(\"양의 정수를 입력하세요: \"))"
      ],
      "metadata": {
        "colab": {
          "base_uri": "https://localhost:8080/"
        },
        "id": "UOISaf87K8TA",
        "outputId": "daaf6025-2c26-4080-c3fc-c56e8e3ab1e0"
      },
      "execution_count": 1,
      "outputs": [
        {
          "name": "stdout",
          "output_type": "stream",
          "text": [
            "양의 정수를 입력하세요10\n"
          ]
        }
      ]
    },
    {
      "cell_type": "code",
      "source": [
        "sum_value = 0\n",
        "count = 1 "
      ],
      "metadata": {
        "id": "n1U_oR8eK8Fl"
      },
      "execution_count": 2,
      "outputs": []
    },
    {
      "cell_type": "code",
      "source": [
        "while count <= value:\n",
        "  sum_value += count \n",
        "  count += 1\n",
        "\n",
        "print(\"1부터 %d까지의 합은 %d입니다.\" %(value, sum_value))"
      ],
      "metadata": {
        "colab": {
          "base_uri": "https://localhost:8080/"
        },
        "id": "SShberB-LH3E",
        "outputId": "e228ca3e-4576-4930-eb5f-ff9f37bac68e"
      },
      "execution_count": 4,
      "outputs": [
        {
          "output_type": "stream",
          "name": "stdout",
          "text": [
            "1부터 10까지의 합은 55입니다.\n"
          ]
        }
      ]
    },
    {
      "cell_type": "markdown",
      "source": [
        "Q. 1부터 입력한 정수까지 홀수의 합을 구하는 프로그램을 만들어보자. "
      ],
      "metadata": {
        "id": "0x0jyuRQP0ex"
      }
    },
    {
      "cell_type": "markdown",
      "source": [
        "모야 생각보다 너무 간단한데 나는 못했어 '-` "
      ],
      "metadata": {
        "id": "OvCh-tLTQ1Cr"
      }
    },
    {
      "cell_type": "code",
      "source": [
        "value = int(input(\"양의 정수를 입력하세요: \"))\n",
        "sum_value = 0\n",
        "count = 1 \n",
        "while count <= value :\n",
        "    sum_value += count \n",
        "    count += 2\n",
        "\n",
        "print(\"1부터 %d까지의 홀수의 합은 %d입니다.\" %(value, sum_value))"
      ],
      "metadata": {
        "colab": {
          "base_uri": "https://localhost:8080/"
        },
        "id": "ge2LTjbQLW7p",
        "outputId": "c1fcdb83-3547-4590-86b5-1ef11929b4ba"
      },
      "execution_count": 8,
      "outputs": [
        {
          "output_type": "stream",
          "name": "stdout",
          "text": [
            "양의 정수를 입력하세요: 10\n",
            "1부터 10까지의 합은 25입니다.\n"
          ]
        }
      ]
    },
    {
      "cell_type": "markdown",
      "source": [
        "Q. 1부터 입력한 정수까지 짝수의 합을 구하는 프로그램을 만들어보자. 단, count = 1 부분을 손대지 말 것."
      ],
      "metadata": {
        "id": "bGrRYddFP5AT"
      }
    },
    {
      "cell_type": "code",
      "source": [
        "value = int(input(\"양의 정수를 입력하세요: \"))\n",
        "sum_value = 0\n",
        "count = 1 \n",
        "while count <= value :\n",
        "  if count % 2 == 0 : \n",
        "    sum_value += count \n",
        "  count += 1\n",
        "    \n",
        "print(\"1부터 %d까지의 짝수의 합은 %d입니다.\" %(value, sum_value))"
      ],
      "metadata": {
        "colab": {
          "base_uri": "https://localhost:8080/"
        },
        "id": "1Ven28lYRBM2",
        "outputId": "4efc313e-6caa-4430-dc41-5d7766cea838"
      },
      "execution_count": 18,
      "outputs": [
        {
          "output_type": "stream",
          "name": "stdout",
          "text": [
            "양의 정수를 입력하세요: 10\n",
            "1부터 10까지의 짝수의 합은 30입니다.\n"
          ]
        }
      ]
    },
    {
      "cell_type": "markdown",
      "source": [
        "Q. 홀수/짝수 합계를 나누어서 구해보자. "
      ],
      "metadata": {
        "id": "6k2cXm8iWJUs"
      }
    },
    {
      "cell_type": "code",
      "source": [
        "value = int(input(\"양의 정수를 입력하세요: \"))\n",
        "sum_value_odd = 0\n",
        "sum_value_even = 0\n",
        "count = 1 \n",
        "while count <= value :\n",
        "  if count % 2 == 0 : \n",
        "    sum_value_even += count \n",
        "    count += 2\n",
        "  elif count % 2 == 1:\n",
        "    sum_value_odd += count \n",
        "    count += 1\n",
        "    \n",
        "print(\"1부터 %d까지의 짝수의 합은 %d입니다.\" %(value, sum_value_even))\n",
        "print(\"1부터 %d까지의 홀수의 합은 %d입니다.\" %(value, sum_value_odd))"
      ],
      "metadata": {
        "colab": {
          "base_uri": "https://localhost:8080/"
        },
        "id": "R0sYo7wqROkb",
        "outputId": "92775325-b3f0-433e-d52c-a76f6b123481"
      },
      "execution_count": 20,
      "outputs": [
        {
          "output_type": "stream",
          "name": "stdout",
          "text": [
            "양의 정수를 입력하세요: 10\n",
            "1부터 10까지의 짝수의 합은 30입니다.\n",
            "1부터 10까지의 홀수의 합은 1입니다.\n"
          ]
        }
      ]
    },
    {
      "cell_type": "markdown",
      "source": [
        "Q. 이중 while문으로 구구단 출력 프로그램을 만들어 보자. "
      ],
      "metadata": {
        "id": "80khTAt7WsL1"
      }
    },
    {
      "cell_type": "markdown",
      "source": [
        "아니 6모르겠어요.9"
      ],
      "metadata": {
        "id": "g6mYDIruaOnU"
      }
    },
    {
      "cell_type": "code",
      "source": [
        "num_1 = 1\n",
        "\n",
        "while num_1 <= 9:\n",
        "  num_2 = 1\n",
        "  while num_2 <=9:\n",
        "    print(f'{num_1} * {num_2} = {num_1 * num_2}')\n",
        "    num_2 += 1\n",
        "  print(\"\")\n",
        "  num_1 += 1"
      ],
      "metadata": {
        "colab": {
          "base_uri": "https://localhost:8080/"
        },
        "id": "0Yk5gYW_Wo6w",
        "outputId": "a30f257e-e0e4-45ad-c5df-e347e20ee5c0"
      },
      "execution_count": 56,
      "outputs": [
        {
          "output_type": "stream",
          "name": "stdout",
          "text": [
            "1 * 1 = 1\n",
            "1 * 2 = 2\n",
            "1 * 3 = 3\n",
            "1 * 4 = 4\n",
            "1 * 5 = 5\n",
            "1 * 6 = 6\n",
            "1 * 7 = 7\n",
            "1 * 8 = 8\n",
            "1 * 9 = 9\n",
            "\n",
            "2 * 1 = 2\n",
            "2 * 2 = 4\n",
            "2 * 3 = 6\n",
            "2 * 4 = 8\n",
            "2 * 5 = 10\n",
            "2 * 6 = 12\n",
            "2 * 7 = 14\n",
            "2 * 8 = 16\n",
            "2 * 9 = 18\n",
            "\n",
            "3 * 1 = 3\n",
            "3 * 2 = 6\n",
            "3 * 3 = 9\n",
            "3 * 4 = 12\n",
            "3 * 5 = 15\n",
            "3 * 6 = 18\n",
            "3 * 7 = 21\n",
            "3 * 8 = 24\n",
            "3 * 9 = 27\n",
            "\n",
            "4 * 1 = 4\n",
            "4 * 2 = 8\n",
            "4 * 3 = 12\n",
            "4 * 4 = 16\n",
            "4 * 5 = 20\n",
            "4 * 6 = 24\n",
            "4 * 7 = 28\n",
            "4 * 8 = 32\n",
            "4 * 9 = 36\n",
            "\n",
            "5 * 1 = 5\n",
            "5 * 2 = 10\n",
            "5 * 3 = 15\n",
            "5 * 4 = 20\n",
            "5 * 5 = 25\n",
            "5 * 6 = 30\n",
            "5 * 7 = 35\n",
            "5 * 8 = 40\n",
            "5 * 9 = 45\n",
            "\n",
            "6 * 1 = 6\n",
            "6 * 2 = 12\n",
            "6 * 3 = 18\n",
            "6 * 4 = 24\n",
            "6 * 5 = 30\n",
            "6 * 6 = 36\n",
            "6 * 7 = 42\n",
            "6 * 8 = 48\n",
            "6 * 9 = 54\n",
            "\n",
            "7 * 1 = 7\n",
            "7 * 2 = 14\n",
            "7 * 3 = 21\n",
            "7 * 4 = 28\n",
            "7 * 5 = 35\n",
            "7 * 6 = 42\n",
            "7 * 7 = 49\n",
            "7 * 8 = 56\n",
            "7 * 9 = 63\n",
            "\n",
            "8 * 1 = 8\n",
            "8 * 2 = 16\n",
            "8 * 3 = 24\n",
            "8 * 4 = 32\n",
            "8 * 5 = 40\n",
            "8 * 6 = 48\n",
            "8 * 7 = 56\n",
            "8 * 8 = 64\n",
            "8 * 9 = 72\n",
            "\n",
            "9 * 1 = 9\n",
            "9 * 2 = 18\n",
            "9 * 3 = 27\n",
            "9 * 4 = 36\n",
            "9 * 5 = 45\n",
            "9 * 6 = 54\n",
            "9 * 7 = 63\n",
            "9 * 8 = 72\n",
            "9 * 9 = 81\n",
            "\n"
          ]
        }
      ]
    },
    {
      "cell_type": "code",
      "source": [
        "num_1 = 2\n",
        "num_2 = 1\n",
        "print(f'{num_1} * {num_2} = {num_1 * num_2}')"
      ],
      "metadata": {
        "colab": {
          "base_uri": "https://localhost:8080/"
        },
        "id": "tXrPkbBOXvnr",
        "outputId": "767e6786-b711-40b1-f62d-58b2c586d6bc"
      },
      "execution_count": 24,
      "outputs": [
        {
          "output_type": "stream",
          "name": "stdout",
          "text": [
            "2 * 1 = 2\n"
          ]
        }
      ]
    },
    {
      "cell_type": "code",
      "source": [
        ""
      ],
      "metadata": {
        "id": "vT0E6MmUXxHB"
      },
      "execution_count": null,
      "outputs": []
    }
  ]
}