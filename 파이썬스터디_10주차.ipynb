{
  "nbformat": 4,
  "nbformat_minor": 0,
  "metadata": {
    "colab": {
      "name": "파이썬스터디_10주차.ipynb",
      "provenance": [],
      "authorship_tag": "ABX9TyPncO7jZ7SYRcEWfOG3mKK+",
      "include_colab_link": true
    },
    "kernelspec": {
      "name": "python3",
      "display_name": "Python 3"
    },
    "language_info": {
      "name": "python"
    }
  },
  "cells": [
    {
      "cell_type": "markdown",
      "metadata": {
        "id": "view-in-github",
        "colab_type": "text"
      },
      "source": [
        "<a href=\"https://colab.research.google.com/github/yk-Jeong/KNOU/blob/main/%ED%8C%8C%EC%9D%B4%EC%8D%AC%EC%8A%A4%ED%84%B0%EB%94%94_10%EC%A3%BC%EC%B0%A8.ipynb\" target=\"_parent\"><img src=\"https://colab.research.google.com/assets/colab-badge.svg\" alt=\"Open In Colab\"/></a>"
      ]
    },
    {
      "cell_type": "markdown",
      "source": [
        "지난 시간의 while 잠깐 복습 "
      ],
      "metadata": {
        "id": "R7U2bazgOKlf"
      }
    },
    {
      "cell_type": "code",
      "execution_count": 1,
      "metadata": {
        "id": "lV7DwKQ-NCaU"
      },
      "outputs": [],
      "source": [
        "count1 = 1"
      ]
    },
    {
      "cell_type": "code",
      "source": [
        "while count1 <=9:\n",
        "  count2 = 1\n",
        "  while count2 <= 9:\n",
        "    print(\"%d * %d = %d\" %(count1, count2, count1*count2))\n",
        "    count2 += 1\n",
        "  print(\"\")\n",
        "  count1 += 1"
      ],
      "metadata": {
        "colab": {
          "base_uri": "https://localhost:8080/"
        },
        "id": "v6GHGGJrOo0K",
        "outputId": "93ef65f5-5031-4c06-aed2-e4df4ef0eefb"
      },
      "execution_count": 3,
      "outputs": [
        {
          "output_type": "stream",
          "name": "stdout",
          "text": [
            "3 * 1 = 3\n",
            "3 * 2 = 6\n",
            "3 * 3 = 9\n",
            "3 * 4 = 12\n",
            "3 * 5 = 15\n",
            "3 * 6 = 18\n",
            "3 * 7 = 21\n",
            "3 * 8 = 24\n",
            "3 * 9 = 27\n",
            "\n",
            "4 * 1 = 4\n",
            "4 * 2 = 8\n",
            "4 * 3 = 12\n",
            "4 * 4 = 16\n",
            "4 * 5 = 20\n",
            "4 * 6 = 24\n",
            "4 * 7 = 28\n",
            "4 * 8 = 32\n",
            "4 * 9 = 36\n",
            "\n",
            "5 * 1 = 5\n",
            "5 * 2 = 10\n",
            "5 * 3 = 15\n",
            "5 * 4 = 20\n",
            "5 * 5 = 25\n",
            "5 * 6 = 30\n",
            "5 * 7 = 35\n",
            "5 * 8 = 40\n",
            "5 * 9 = 45\n",
            "\n",
            "6 * 1 = 6\n",
            "6 * 2 = 12\n",
            "6 * 3 = 18\n",
            "6 * 4 = 24\n",
            "6 * 5 = 30\n",
            "6 * 6 = 36\n",
            "6 * 7 = 42\n",
            "6 * 8 = 48\n",
            "6 * 9 = 54\n",
            "\n",
            "7 * 1 = 7\n",
            "7 * 2 = 14\n",
            "7 * 3 = 21\n",
            "7 * 4 = 28\n",
            "7 * 5 = 35\n",
            "7 * 6 = 42\n",
            "7 * 7 = 49\n",
            "7 * 8 = 56\n",
            "7 * 9 = 63\n",
            "\n",
            "8 * 1 = 8\n",
            "8 * 2 = 16\n",
            "8 * 3 = 24\n",
            "8 * 4 = 32\n",
            "8 * 5 = 40\n",
            "8 * 6 = 48\n",
            "8 * 7 = 56\n",
            "8 * 8 = 64\n",
            "8 * 9 = 72\n",
            "\n",
            "9 * 1 = 9\n",
            "9 * 2 = 18\n",
            "9 * 3 = 27\n",
            "9 * 4 = 36\n",
            "9 * 5 = 45\n",
            "9 * 6 = 54\n",
            "9 * 7 = 63\n",
            "9 * 8 = 72\n",
            "9 * 9 = 81\n",
            "\n"
          ]
        }
      ]
    },
    {
      "cell_type": "code",
      "source": [
        "values = [10, 20, 30, 40, 50]\n",
        "print(values)\n"
      ],
      "metadata": {
        "colab": {
          "base_uri": "https://localhost:8080/"
        },
        "id": "dhBs1o-xO3_5",
        "outputId": "9f85d944-8d78-4e7f-f416-30a7203c4e02"
      },
      "execution_count": 8,
      "outputs": [
        {
          "output_type": "stream",
          "name": "stdout",
          "text": [
            "[10, 20, 30, 40, 50]\n"
          ]
        }
      ]
    },
    {
      "cell_type": "code",
      "source": [
        "for v in values:\n",
        "  v += v\n",
        "print(v)"
      ],
      "metadata": {
        "colab": {
          "base_uri": "https://localhost:8080/"
        },
        "id": "gehifmvHPNoo",
        "outputId": "1542bcd5-7bbf-41a3-acbd-518b0fcfdebe"
      },
      "execution_count": 12,
      "outputs": [
        {
          "output_type": "stream",
          "name": "stdout",
          "text": [
            "100\n"
          ]
        }
      ]
    },
    {
      "cell_type": "markdown",
      "source": [
        "예제: 다음과 같이 list가 있을 때 for문을 활용해 합계와 평균을 구해보자. "
      ],
      "metadata": {
        "id": "-J7Onzs1QHUy"
      }
    },
    {
      "cell_type": "code",
      "source": [
        "values = [90, 80, 95, 70]"
      ],
      "metadata": {
        "id": "Rt5w2APHPQOW"
      },
      "execution_count": 34,
      "outputs": []
    },
    {
      "cell_type": "code",
      "source": [
        "sum_value = 0\n",
        "avg_value = 0\n",
        "\n",
        "for v in values:\n",
        "  sum_value += v\n",
        "avg_value = sum_value / len(values)\n",
        "print(\"합계: %.2f, 평균: %.2f\" %(sum_value, avg_value))"
      ],
      "metadata": {
        "colab": {
          "base_uri": "https://localhost:8080/"
        },
        "id": "W-4HOwRKQTok",
        "outputId": "03919578-01c2-4375-bf87-bc2efecb8d09"
      },
      "execution_count": 40,
      "outputs": [
        {
          "output_type": "stream",
          "name": "stdout",
          "text": [
            "합계: 335.00, 평균: 83.75\n"
          ]
        }
      ]
    },
    {
      "cell_type": "code",
      "source": [
        "sum(values)"
      ],
      "metadata": {
        "colab": {
          "base_uri": "https://localhost:8080/"
        },
        "id": "iqd0o7gIQ1g7",
        "outputId": "d92f4b3e-9eee-4eed-b9e0-8a8fd1ec7bab"
      },
      "execution_count": 41,
      "outputs": [
        {
          "output_type": "execute_result",
          "data": {
            "text/plain": [
              "335"
            ]
          },
          "metadata": {},
          "execution_count": 41
        }
      ]
    },
    {
      "cell_type": "markdown",
      "source": [
        "<b>for </b>: 리스트와 튜플, 문자열 순회 "
      ],
      "metadata": {
        "id": "gdCnSd6sVJDn"
      }
    },
    {
      "cell_type": "code",
      "source": [
        "#문자열을 for문을 이용하여 순회\n",
        "str = \"Hello World!\""
      ],
      "metadata": {
        "id": "-sLPd7DJXDbX"
      },
      "execution_count": 56,
      "outputs": []
    },
    {
      "cell_type": "markdown",
      "source": [
        "Hello\n",
        "World! 로 나오게 하려면? "
      ],
      "metadata": {
        "id": "ZWmE4EkSV2fl"
      }
    },
    {
      "cell_type": "code",
      "source": [
        "for ch in str.split():\n",
        "  print(ch) \n",
        "\n",
        "  #너무 수월해서 힘이 빠진다 "
      ],
      "metadata": {
        "colab": {
          "base_uri": "https://localhost:8080/"
        },
        "id": "pW8iPmvDT7c3",
        "outputId": "39fbf151-4d78-4478-fcd3-16fc0bec163a"
      },
      "execution_count": 58,
      "outputs": [
        {
          "output_type": "stream",
          "name": "stdout",
          "text": [
            "Hello\n",
            "World!\n"
          ]
        }
      ]
    },
    {
      "cell_type": "markdown",
      "source": [
        "<b>for </b>: 딕셔너리 순회 "
      ],
      "metadata": {
        "id": "nBEYGGIWXwqS"
      }
    },
    {
      "cell_type": "code",
      "source": [
        "student = {'kim':90, 'lee':80, 'park':95, 'choi':70}"
      ],
      "metadata": {
        "id": "CjejzHFZVPkx"
      },
      "execution_count": 59,
      "outputs": []
    },
    {
      "cell_type": "code",
      "source": [
        "student.keys()"
      ],
      "metadata": {
        "colab": {
          "base_uri": "https://localhost:8080/"
        },
        "id": "4inqRbRwY43t",
        "outputId": "96a15cd1-f6df-4caa-cb1b-ebf5caf2ce1b"
      },
      "execution_count": 67,
      "outputs": [
        {
          "output_type": "execute_result",
          "data": {
            "text/plain": [
              "dict_keys(['kim', 'lee', 'park', 'choi'])"
            ]
          },
          "metadata": {},
          "execution_count": 67
        }
      ]
    },
    {
      "cell_type": "markdown",
      "source": [
        "예제: \n",
        "\n",
        "\n",
        "kim 90 <br>\n",
        "lee 80<br>\n",
        "park 95<br>\n",
        "choi 70 <br>\n",
        "\n",
        "\n",
        "이렇게 출력하려면? "
      ],
      "metadata": {
        "id": "ZcWCpeF2Zoui"
      }
    },
    {
      "cell_type": "code",
      "source": [
        "for key, value in student.items():\n",
        "  print(f'{key} {value}')"
      ],
      "metadata": {
        "colab": {
          "base_uri": "https://localhost:8080/"
        },
        "id": "W7AHftyRXsl-",
        "outputId": "f62a8310-feb0-4ff8-9d63-aff9fc5101c1"
      },
      "execution_count": 74,
      "outputs": [
        {
          "output_type": "stream",
          "name": "stdout",
          "text": [
            "kim 90\n",
            "lee 80\n",
            "park 95\n",
            "choi 70\n"
          ]
        }
      ]
    },
    {
      "cell_type": "code",
      "source": [
        " for k, v in student.items():\n",
        "  print(k, v)"
      ],
      "metadata": {
        "colab": {
          "base_uri": "https://localhost:8080/"
        },
        "id": "rCX1nW7mXvTw",
        "outputId": "607508e3-9feb-45f8-83d7-13056831f3d0"
      },
      "execution_count": 77,
      "outputs": [
        {
          "output_type": "stream",
          "name": "stdout",
          "text": [
            "kim 90\n",
            "lee 80\n",
            "park 95\n",
            "choi 70\n"
          ]
        }
      ]
    },
    {
      "cell_type": "code",
      "source": [
        ""
      ],
      "metadata": {
        "id": "8hWkWyKPaf5-"
      },
      "execution_count": null,
      "outputs": []
    }
  ]
}